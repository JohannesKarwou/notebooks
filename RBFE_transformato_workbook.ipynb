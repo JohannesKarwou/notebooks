{
  "cells": [
    {
      "cell_type": "markdown",
      "metadata": {
        "id": "view-in-github",
        "colab_type": "text"
      },
      "source": [
        "<a href=\"https://colab.research.google.com/github/JohannesKarwou/notebooks/blob/main/RBFE_transformato_workbook.ipynb\" target=\"_parent\"><img src=\"https://colab.research.google.com/assets/colab-badge.svg\" alt=\"Open In Colab\"/></a>"
      ]
    },
    {
      "cell_type": "code",
      "execution_count": 1,
      "metadata": {
        "id": "t11snvpY52J5"
      },
      "outputs": [],
      "source": [
        "import numpy as np\n",
        "import matplotlib.pyplot as plt\n",
        "import pandas as pd\n",
        "import scipy\n",
        "from sklearn.metrics import mean_absolute_error, mean_squared_error"
      ]
    },
    {
      "cell_type": "code",
      "execution_count": 2,
      "metadata": {
        "id": "_YO4AHcxadWP"
      },
      "outputs": [],
      "source": [
        "# If this notebook is opend within the zip folder, please adjust the paths accoring to the two csv files provided in the zip folder (summary_dG.csv and summary_ddG.csv)\n",
        "df_ddg = pd.read_csv(\"https://raw.githubusercontent.com/JohannesKarwou/notebooks/main/data/summary_ddG.csv\")\n",
        "df_dg = pd.read_csv(\"https://raw.githubusercontent.com/JohannesKarwou/notebooks/main/data/summary_dG.csv\")\n",
        "df_hmr = pd.read_csv(\"https://raw.githubusercontent.com/JohannesKarwou/notebooks/main/data/summary_hmr_no_hmr.csv\")"
      ]
    },
    {
      "cell_type": "code",
      "execution_count": 3,
      "metadata": {
        "id": "lbwQ4hg46xUE"
      },
      "outputs": [],
      "source": [
        "def bootstrap_function(x_values, y_values):\n",
        "  # bootstrap metric\n",
        "  def bootstrap_metric(fct, x_values, y_values):\n",
        "      assert callable(fct) == True\n",
        "      bootstrapped_metric = []\n",
        "      # bootstrap metric to generate test distribution\n",
        "      for _ in range(1000):\n",
        "          indices = np.random.choice(range(0, len(x_values)), size=len(x_values), replace=True)\n",
        "          x_selection = np.take(x_values, indices)\n",
        "          y_selection = np.take(y_values, indices)\n",
        "          r = fct(x_selection, y_selection)\n",
        "          bootstrapped_metric.append(r)    \n",
        "\n",
        "      # define 90% CI\n",
        "      alpha = 10.0\n",
        "      lower_p = alpha / 2.0\n",
        "      # get value at or near percentile (take a look at the definition of percentile if \n",
        "      # you have less than 100 values to make sure you understand what is happening)\n",
        "      lower = np.percentile(bootstrapped_metric, lower_p)\n",
        "      upper_p = (100 - alpha) + (alpha / 2.0)\n",
        "      upper = np.percentile(bootstrapped_metric, upper_p)\n",
        "      # calculate true mean\n",
        "      mean = fct(x_values, y_values)\n",
        "\n",
        "      return mean, lower, upper\n",
        "\n",
        "  # bootstrap MAE\n",
        "  mean, lower, upper = bootstrap_metric(mean_absolute_error, x_values, y_values)\n",
        "  print(f'MAE:  {round(mean, 2):.2f} [{round(lower,2):.2f}, {round(upper,2):.2f}]')\n",
        "\n",
        "  # bootstrap RMSE\n",
        "  def calc_rmse(x_values, y_values):\n",
        "      from sklearn.metrics import mean_squared_error\n",
        "      return np.sqrt(mean_squared_error(x_values, y_values))\n",
        "  mean, lower, upper = bootstrap_metric(calc_rmse, x_values, y_values)\n",
        "  print(f'RMSE:  {round(mean, 2):.2f} [{round(lower,2):.2f}, {round(upper,2):.2f}]')\n",
        "  plt.show()\n",
        "\n"
      ]
    },
    {
      "cell_type": "code",
      "source": [
        "def calc_scipy(x,y):\n",
        "  pearson = scipy.stats.pearsonr(x_values,y_values)\n",
        "  spearman = scipy.stats.spearmanr(x_values,y_values)\n",
        "  kendall = scipy.stats.kendalltau(x_values,y_values)\n",
        "  print(f' Pearson correlation {round(pearson[0],2)}')\n",
        "  print(f' Spearmans {round(spearman[0],2)}')\n",
        "  print(f' Kendall {round(kendall[0],2)}')"
      ],
      "metadata": {
        "id": "U5uykNfX21my"
      },
      "execution_count": 4,
      "outputs": []
    },
    {
      "cell_type": "code",
      "source": [
        "# Taken from here:\n",
        "# https://stackoverflow.com/questions/33176049/how-do-you-compute-the-confidence-interval-for-pearsons-r-in-python\n",
        "\n",
        "def pearsonr_ci(x, y, ci=95, n_boots=10000):\n",
        "    x = np.asarray(x)\n",
        "    y = np.asarray(y)\n",
        "    \n",
        "   # (n_boots, n_observations) paired arrays\n",
        "    rand_ixs = np.random.randint(0, x.shape[0], size=(n_boots, x.shape[0]))\n",
        "    x_boots = x[rand_ixs]\n",
        "    y_boots = y[rand_ixs]\n",
        "    \n",
        "    # differences from mean\n",
        "    x_mdiffs = x_boots - x_boots.mean(axis=1)[:, None]\n",
        "    y_mdiffs = y_boots - y_boots.mean(axis=1)[:, None]\n",
        "    \n",
        "    # sums of squares\n",
        "    x_ss = np.einsum('ij, ij -> i', x_mdiffs, x_mdiffs)\n",
        "    y_ss = np.einsum('ij, ij -> i', y_mdiffs, y_mdiffs)\n",
        "    \n",
        "    # pearson correlations\n",
        "    r_boots = np.einsum('ij, ij -> i', x_mdiffs, y_mdiffs) / np.sqrt(x_ss * y_ss)\n",
        "    pearson = scipy.stats.pearsonr(x,y)\n",
        "    # upper and lower bounds for confidence interval\n",
        "    ci_low = np.percentile(r_boots, (100 - ci) / 2)\n",
        "    ci_high = np.percentile(r_boots, (ci + 100) / 2)\n",
        "    return round(pearson[0],2), ci_low, ci_high"
      ],
      "metadata": {
        "id": "Rt15YTZ9eVlZ"
      },
      "execution_count": 15,
      "outputs": []
    },
    {
      "cell_type": "code",
      "source": [
        "pearsonr_ci(df_dg[\"literature\"][0:67],df_dg['TF'][0:67])"
      ],
      "metadata": {
        "id": "Rv8NvirdfXeq",
        "outputId": "0754ef67-5613-4ab7-f7d4-6c60a5f41e42",
        "colab": {
          "base_uri": "https://localhost:8080/"
        }
      },
      "execution_count": 16,
      "outputs": [
        {
          "output_type": "execute_result",
          "data": {
            "text/plain": [
              "(0.73, 0.5988960336508009, 0.8260809283852109)"
            ]
          },
          "metadata": {},
          "execution_count": 16
        }
      ]
    },
    {
      "cell_type": "markdown",
      "source": [
        "## In the following cells, the calculated **dG** values are processed. The first block calculates all values (MAE, RMSE, Pearson and Spearman correlation) for the results calculated by`TRANSFORMATO` for five datasets (JNK1, 2RA0, GAL3, CDK2, TYK2). In the next block values are calculated for pmx, then for Schroedinger FEP+ and for AMBER TI. Note, not all methods from literature calculate all systems reported for `TRANSFORMATO`.:"
      ],
      "metadata": {
        "id": "KF3pBUSR56jF"
      }
    },
    {
      "cell_type": "code",
      "execution_count": null,
      "metadata": {
        "colab": {
          "base_uri": "https://localhost:8080/"
        },
        "id": "NmvckjqTAPvo",
        "outputId": "aabe5d8a-e11d-479c-8577-f851133c6ee6"
      },
      "outputs": [
        {
          "output_type": "stream",
          "name": "stdout",
          "text": [
            "#### Results for TRANSFORMATO #####\n",
            "for all dG values\n",
            "MAE:  0.86 [0.70, 1.02]\n",
            "RMSE:  1.17 [0.98, 1.36]\n",
            " Pearson correlation 0.73\n",
            " Spearmans 0.7\n",
            " Kendall 0.52\n",
            "#################\n",
            "dG values for Galectin\n",
            "MAE:  0.68 [0.37, 1.04]\n",
            "RMSE:  0.90 [0.47, 1.24]\n",
            " Pearson correlation 0.6\n",
            " Spearmans 0.54\n",
            " Kendall 0.4\n",
            "#################\n",
            "dG values for CDK2\n",
            "MAE:  0.80 [0.44, 1.18]\n",
            "RMSE:  1.12 [0.72, 1.46]\n",
            " Pearson correlation 0.61\n",
            " Spearmans 0.58\n",
            " Kendall 0.45\n",
            "#################\n",
            "dG values for 2RA0\n",
            "MAE:  0.92 [0.65, 1.18]\n",
            "RMSE:  1.04 [0.79, 1.26]\n",
            " Pearson correlation 0.76\n",
            " Spearmans 0.65\n",
            " Kendall 0.51\n",
            "#################\n",
            "dG values for TYK2\n",
            "MAE:  1.37 [0.94, 1.83]\n",
            "RMSE:  1.74 [1.26, 2.17]\n",
            " Pearson correlation 0.42\n",
            " Spearmans 0.21\n",
            " Kendall 0.12\n",
            "#################\n",
            "dG values for JNK1\n",
            "MAE:  0.57 [0.38, 0.79]\n",
            "RMSE:  0.81 [0.53, 1.05]\n",
            " Pearson correlation 0.6\n",
            " Spearmans 0.62\n",
            " Kendall 0.45\n"
          ]
        }
      ],
      "source": [
        "### Here the calculated dG values are processed! ###\n",
        "############ FOR TRANSFORMATO RESULTS ##############\n",
        "\n",
        "print('#### Results for TRANSFORMATO #####')\n",
        "\n",
        "##### summary of all dG values of all systems ######\n",
        "\n",
        "x_values = np.asarray_chkfinite(df_dg[\"literature\"][0:67])\n",
        "y_values = np.asarray_chkfinite(df_dg['TF'][0:67])\n",
        "print(f'for all dG values')\n",
        "bootstrap_function(x_values, y_values)\n",
        "calc_scipy(x_values,y_values)\n",
        "\n",
        "######## Values for the indiviual systems #########\n",
        "## Galectin ###\n",
        "print('#################')\n",
        "x_values = np.asarray_chkfinite(df_dg[\"literature\"][21:29])\n",
        "y_values = np.asarray_chkfinite(df_dg['TF'][21:29])\n",
        "print(f'dG values for Galectin')\n",
        "bootstrap_function(x_values, y_values)\n",
        "calc_scipy(x_values,y_values)\n",
        "\n",
        "## CDK2 ###\n",
        "print('#################')\n",
        "x_values = np.asarray_chkfinite(df_dg[\"literature\"][39:52])\n",
        "y_values = np.asarray_chkfinite(df_dg['TF'][39:52])\n",
        "print(f'dG values for CDK2')\n",
        "bootstrap_function(x_values, y_values)\n",
        "calc_scipy(x_values,y_values)\n",
        "\n",
        "## 2RA0 ###\n",
        "print('#################')\n",
        "x_values = np.asarray_chkfinite(df_dg[\"literature\"][29:39])\n",
        "y_values = np.asarray_chkfinite(df_dg['TF'][29:39])\n",
        "print(f'dG values for 2RA0')\n",
        "bootstrap_function(x_values, y_values)\n",
        "calc_scipy(x_values,y_values)\n",
        "\n",
        "## TYK2 ###\n",
        "print('#################')\n",
        "x_values = np.asarray_chkfinite(df_dg[\"literature\"][52:67])\n",
        "y_values = np.asarray_chkfinite(df_dg['TF'][52:67])\n",
        "print(f'dG values for TYK2')\n",
        "bootstrap_function(x_values, y_values)\n",
        "calc_scipy(x_values,y_values)\n",
        "\n",
        "## JNK1 ###\n",
        "print('#################')\n",
        "x_values = np.asarray_chkfinite(df_dg[\"literature\"][0:21])\n",
        "y_values = np.asarray_chkfinite(df_dg['TF'][0:21])\n",
        "print(f'dG values for JNK1')\n",
        "bootstrap_function(x_values, y_values)\n",
        "calc_scipy(x_values,y_values)"
      ]
    },
    {
      "cell_type": "code",
      "source": [
        "############ FOR PMX RESULTS ##############\n",
        "\n",
        "print('#### Results for PMX #####')\n",
        "\n",
        "######## Values for the indiviual systems #########\n",
        "## Galectin ###\n",
        "print('#################')\n",
        "x_values = np.asarray_chkfinite(df_dg[\"literature\"][21:29])\n",
        "y_values = np.asarray_chkfinite(df_dg['pmx'][21:29])\n",
        "print(f'dG values for Galectin')\n",
        "bootstrap_function(x_values, y_values)\n",
        "calc_scipy(x_values,y_values)\n",
        "\n",
        "## CDK2 ###\n",
        "print('#################')\n",
        "x_values = np.asarray_chkfinite(df_dg[\"literature\"][39:52])\n",
        "y_values = np.asarray_chkfinite(df_dg['pmx'][39:52])\n",
        "print(f'dG values for CDK2')\n",
        "bootstrap_function(x_values, y_values)\n",
        "calc_scipy(x_values,y_values)\n",
        "\n",
        "## TYK2 ###\n",
        "print('#################')\n",
        "x_values = np.asarray_chkfinite(df_dg[\"literature\"][52:67])\n",
        "y_values = np.asarray_chkfinite(df_dg['pmx'][52:67])\n",
        "print(f'dG values for TYK2')\n",
        "bootstrap_function(x_values, y_values)\n",
        "calc_scipy(x_values,y_values)\n",
        "\n",
        "## JNK1 ###\n",
        "print('#################')\n",
        "x_values = np.asarray_chkfinite(df_dg[\"literature\"][0:21])\n",
        "y_values = np.asarray_chkfinite(df_dg['pmx'][0:21])\n",
        "print(f'dG values for JNK1')\n",
        "bootstrap_function(x_values, y_values)\n",
        "calc_scipy(x_values,y_values)"
      ],
      "metadata": {
        "id": "QCwaJ0Kn4UkV",
        "outputId": "80fea06d-d7d2-4883-acca-43ddbf9feeed",
        "colab": {
          "base_uri": "https://localhost:8080/"
        }
      },
      "execution_count": null,
      "outputs": [
        {
          "output_type": "stream",
          "name": "stdout",
          "text": [
            "#### Results for PMX #####\n",
            "#################\n",
            "dG values for Galectin\n",
            "MAE:  0.43 [0.28, 0.58]\n",
            "RMSE:  0.50 [0.36, 0.62]\n",
            " Pearson correlation 0.9\n",
            " Spearmans 0.78\n",
            " Kendall 0.62\n",
            "#################\n",
            "dG values for CDK2\n",
            "MAE:  0.89 [0.58, 1.23]\n",
            "RMSE:  1.14 [0.77, 1.40]\n",
            " Pearson correlation 0.41\n",
            " Spearmans 0.63\n",
            " Kendall 0.46\n",
            "#################\n",
            "dG values for TYK2\n",
            "MAE:  1.61 [1.23, 2.04]\n",
            "RMSE:  1.87 [1.43, 2.23]\n",
            " Pearson correlation 0.54\n",
            " Spearmans 0.46\n",
            " Kendall 0.3\n",
            "#################\n",
            "dG values for JNK1\n",
            "MAE:  0.57 [0.37, 0.80]\n",
            "RMSE:  0.81 [0.52, 1.06]\n",
            " Pearson correlation 0.66\n",
            " Spearmans 0.77\n",
            " Kendall 0.56\n"
          ]
        }
      ]
    },
    {
      "cell_type": "code",
      "source": [
        "############ FOR FEP+ RESULTS ##############\n",
        "\n",
        "print('#### Results for Schroedinger FEP+ #####')\n",
        "\n",
        "######## Values for the indiviual systems #########\n",
        "## CDK2 ###\n",
        "print('#################')\n",
        "x_values = np.asarray_chkfinite(df_dg[\"literature\"][39:52])\n",
        "y_values = np.asarray_chkfinite(df_dg['schroedinger'][39:52])\n",
        "print(f'dG values for CDK2')\n",
        "bootstrap_function(x_values, y_values)\n",
        "calc_scipy(x_values,y_values)\n",
        "\n",
        "## TYK2 ###\n",
        "print('#################')\n",
        "x_values = np.asarray_chkfinite(df_dg[\"literature\"][52:67])\n",
        "y_values = np.asarray_chkfinite(df_dg['schroedinger'][52:67])\n",
        "print(f'dG values for TYK2')\n",
        "bootstrap_function(x_values, y_values)\n",
        "calc_scipy(x_values,y_values)\n",
        "\n",
        "## JNK1 ###\n",
        "print('#################')\n",
        "x_values = np.asarray_chkfinite(df_dg[\"literature\"][0:21])\n",
        "y_values = np.asarray_chkfinite(df_dg['schroedinger'][0:21])\n",
        "print(f'dG values for JNK1')\n",
        "bootstrap_function(x_values, y_values)\n",
        "calc_scipy(x_values,y_values)"
      ],
      "metadata": {
        "id": "JXfmP2F_RAHH",
        "outputId": "3e8ce64e-57fd-48bf-e0ca-9f286ba064ef",
        "colab": {
          "base_uri": "https://localhost:8080/"
        }
      },
      "execution_count": null,
      "outputs": [
        {
          "output_type": "stream",
          "name": "stdout",
          "text": [
            "#### Results for Schroedinger FEP+ #####\n",
            "#################\n",
            "dG values for CDK2\n",
            "MAE:  0.82 [0.60, 1.04]\n",
            "RMSE:  0.95 [0.74, 1.15]\n",
            " Pearson correlation 0.52\n",
            " Spearmans 0.58\n",
            " Kendall 0.44\n",
            "#################\n",
            "dG values for TYK2\n",
            "MAE:  0.46 [0.32, 0.61]\n",
            "RMSE:  0.58 [0.38, 0.76]\n",
            " Pearson correlation 0.88\n",
            " Spearmans 0.85\n",
            " Kendall 0.68\n",
            "#################\n",
            "dG values for JNK1\n",
            "MAE:  1.06 [0.90, 1.22]\n",
            "RMSE:  1.14 [0.99, 1.29]\n",
            " Pearson correlation 0.85\n",
            " Spearmans 0.9\n",
            " Kendall 0.76\n"
          ]
        }
      ]
    },
    {
      "cell_type": "code",
      "source": [
        "############ FOR AMBER TI RESULTS ##############\n",
        "\n",
        "print('#### Results for AMBER TI #####')\n",
        "\n",
        "######## Values for the indiviual systems #########\n",
        "\n",
        "\n",
        "## CDK2 ###\n",
        "print('#################')\n",
        "x_values = np.asarray_chkfinite(df_dg[\"literature\"][39:52])\n",
        "y_values = np.asarray_chkfinite(df_dg['AMBER TI'][39:52])\n",
        "print(f'dG values for CDK2')\n",
        "bootstrap_function(x_values, y_values)\n",
        "calc_scipy(x_values,y_values)\n",
        "\n",
        "## 2RA0 ###\n",
        "print('#################')\n",
        "x_values = np.asarray_chkfinite(df_dg[\"literature\"][29:39])\n",
        "y_values = np.asarray_chkfinite(df_dg['AMBER TI'][29:39])\n",
        "print(f'dG values for 2RA0')\n",
        "bootstrap_function(x_values, y_values)\n",
        "calc_scipy(x_values,y_values)\n",
        "\n"
      ],
      "metadata": {
        "id": "KUG6bo7U4sKV",
        "outputId": "031d4404-411a-45fe-b84d-41f756320e7f",
        "colab": {
          "base_uri": "https://localhost:8080/"
        }
      },
      "execution_count": null,
      "outputs": [
        {
          "output_type": "stream",
          "name": "stdout",
          "text": [
            "#### Results for AMBER TI #####\n",
            "#################\n",
            "dG values for CDK2\n",
            "MAE:  0.72 [0.52, 0.93]\n",
            "RMSE:  0.84 [0.65, 1.04]\n",
            " Pearson correlation 0.74\n",
            " Spearmans 0.79\n",
            " Kendall 0.59\n",
            "#################\n",
            "dG values for 2RA0\n",
            "MAE:  0.67 [0.34, 1.06]\n",
            "RMSE:  0.96 [0.43, 1.40]\n",
            " Pearson correlation 0.83\n",
            " Spearmans 0.81\n",
            " Kendall 0.6\n"
          ]
        }
      ]
    },
    {
      "cell_type": "markdown",
      "source": [
        "# As for the dG results shown previously, the same is done for the **ddG** results of the calculated mutations. First, results are reported for all systems calculated by `TRANSFORMATO`. The same is done for each system where data is available, first for pmx, followed by the Schroedinger FEP+ results and the AMBER TI results."
      ],
      "metadata": {
        "id": "BgsgDEMMHhvz"
      }
    },
    {
      "cell_type": "code",
      "source": [
        "### Here the calculated ddG values are processed! ###\n",
        "############ FOR TRANSFORMATO RESULTS ##############\n",
        "\n",
        "print('#### Results for TRANSFORMATO #####')\n",
        "\n",
        "##### summary of all dG values of all systems ######\n",
        "\n",
        "x_values = np.asarray_chkfinite(df_ddg[\"literature\"][0:75])\n",
        "y_values = np.asarray_chkfinite(df_ddg['TF'][0:75])\n",
        "print(f'for all dG values')\n",
        "bootstrap_function(x_values, y_values)\n",
        "calc_scipy(x_values,y_values)\n",
        "\n",
        "######## Values for the indiviual systems #########\n",
        "## Galectin ###\n",
        "print('#################')\n",
        "x_values = np.asarray_chkfinite(df_ddg[\"literature\"][0:7])\n",
        "y_values = np.asarray_chkfinite(df_ddg['TF'][0:7])\n",
        "print(f'dG values for Galectin')\n",
        "bootstrap_function(x_values, y_values)\n",
        "calc_scipy(x_values,y_values)\n",
        "\n",
        "## CDK2 ###\n",
        "print('#################')\n",
        "x_values = np.asarray_chkfinite(df_ddg[\"literature\"][7:20])\n",
        "y_values = np.asarray_chkfinite(df_ddg['TF'][7:20])\n",
        "print(f'dG values for CDK2')\n",
        "bootstrap_function(x_values, y_values)\n",
        "calc_scipy(x_values,y_values)\n",
        "\n",
        "## 2RA0 ###\n",
        "print('#################')\n",
        "x_values = np.asarray_chkfinite(df_ddg[\"literature\"][20:31])\n",
        "y_values = np.asarray_chkfinite(df_ddg['TF'][20:31])\n",
        "print(f'dG values for 2RA0')\n",
        "bootstrap_function(x_values, y_values)\n",
        "calc_scipy(x_values,y_values)\n",
        "\n",
        "## TYK2 ###\n",
        "print('#################')\n",
        "x_values = np.asarray_chkfinite(df_ddg[\"literature\"][31:46])\n",
        "y_values = np.asarray_chkfinite(df_ddg['TF'][31:46])\n",
        "print(f'dG values for TYK2')\n",
        "bootstrap_function(x_values, y_values)\n",
        "calc_scipy(x_values,y_values)\n",
        "\n",
        "## JNK1 ###\n",
        "print('#################')\n",
        "x_values = np.asarray_chkfinite(df_ddg[\"literature\"][46:75])\n",
        "y_values = np.asarray_chkfinite(df_ddg['TF'][46:75])\n",
        "print(f'dG values for JNK1')\n",
        "bootstrap_function(x_values, y_values)\n",
        "calc_scipy(x_values,y_values)"
      ],
      "metadata": {
        "id": "54hbcaQ9JPmB",
        "outputId": "a2f7fc1f-2b7e-4587-af07-e51c1a317285",
        "colab": {
          "base_uri": "https://localhost:8080/"
        }
      },
      "execution_count": null,
      "outputs": [
        {
          "output_type": "stream",
          "name": "stdout",
          "text": [
            "#### Results for TRANSFORMATO #####\n",
            "for all dG values\n",
            "MAE:  0.87 [0.73, 1.03]\n",
            "RMSE:  1.18 [0.99, 1.37]\n",
            " Pearson correlation 0.57\n",
            " Spearmans 0.48\n",
            " Kendall 0.36\n",
            "#################\n",
            "dG values for Galectin\n",
            "MAE:  0.50 [0.32, 0.68]\n",
            "RMSE:  0.58 [0.37, 0.75]\n",
            " Pearson correlation 0.76\n",
            " Spearmans 0.57\n",
            " Kendall 0.43\n",
            "#################\n",
            "dG values for CDK2\n",
            "MAE:  0.80 [0.48, 1.15]\n",
            "RMSE:  1.12 [0.64, 1.45]\n",
            " Pearson correlation 0.63\n",
            " Spearmans 0.59\n",
            " Kendall 0.46\n",
            "#################\n",
            "dG values for 2RA0\n",
            "MAE:  1.01 [0.69, 1.37]\n",
            "RMSE:  1.23 [0.76, 1.68]\n",
            " Pearson correlation 0.83\n",
            " Spearmans 0.73\n",
            " Kendall 0.62\n",
            "#################\n",
            "dG values for TYK2\n",
            "MAE:  1.37 [0.91, 1.81]\n",
            "RMSE:  1.74 [1.32, 2.16]\n",
            " Pearson correlation 0.42\n",
            " Spearmans 0.21\n",
            " Kendall 0.12\n",
            "#################\n",
            "dG values for JNK1\n",
            "MAE:  0.68 [0.51, 0.87]\n",
            "RMSE:  0.91 [0.65, 1.18]\n",
            " Pearson correlation 0.34\n",
            " Spearmans 0.32\n",
            " Kendall 0.24\n"
          ]
        }
      ]
    },
    {
      "cell_type": "code",
      "source": [
        "### Here the calculated ddG values are processed! ###\n",
        "############ FOR PMX RESULTS ##############\n",
        "\n",
        "print('#### Results for PMX #####')\n",
        "\n",
        "######## Values for the indiviual systems #########\n",
        "\n",
        "## JNK1 ###\n",
        "print('#################')\n",
        "x_values = np.asarray_chkfinite(df_ddg[\"literature\"][46:75])\n",
        "y_values = np.asarray_chkfinite(df_ddg['pmx'][46:75])\n",
        "print(f'ddG values for JNK1')\n",
        "bootstrap_function(x_values, y_values)\n",
        "calc_scipy(x_values,y_values)"
      ],
      "metadata": {
        "id": "KZfiQlqFJ1G2",
        "outputId": "66eb5dc6-9254-4521-bb36-2ac1d7ea40ad",
        "colab": {
          "base_uri": "https://localhost:8080/"
        }
      },
      "execution_count": null,
      "outputs": [
        {
          "output_type": "stream",
          "name": "stdout",
          "text": [
            "#### Results for PMX #####\n",
            "#################\n",
            "ddG values for JNK1\n",
            "MAE:  0.68 [0.48, 0.89]\n",
            "RMSE:  0.95 [0.70, 1.19]\n",
            " Pearson correlation 0.51\n",
            " Spearmans 0.55\n",
            " Kendall 0.4\n"
          ]
        }
      ]
    },
    {
      "cell_type": "code",
      "source": [
        "### Here the calculated ddG values are processed! ###\n",
        "############ FOR Schroedinger/FEP+ RESULTS ##############\n",
        "\n",
        "print('#### Results for Schroedinger/FEP+ #####')\n",
        "\n",
        "######## Values for the indiviual systems #########\n",
        "## JNK1 ###\n",
        "print('#################')\n",
        "x_values = np.asarray_chkfinite(df_ddg[\"literature\"][46:75])\n",
        "y_values = np.asarray_chkfinite(df_ddg['schroedinger'][46:75])\n",
        "print(f'ddG values for JNK1')\n",
        "bootstrap_function(x_values, y_values)\n",
        "calc_scipy(x_values,y_values)"
      ],
      "metadata": {
        "id": "Cq7V1YjDdd3F",
        "outputId": "7bf93303-7c11-4f86-f808-5a5748ffb259",
        "colab": {
          "base_uri": "https://localhost:8080/"
        }
      },
      "execution_count": null,
      "outputs": [
        {
          "output_type": "stream",
          "name": "stdout",
          "text": [
            "#### Results for Schroedinger/FEP+ #####\n",
            "#################\n",
            "ddG values for JNK1\n",
            "MAE:  0.78 [0.59, 0.99]\n",
            "RMSE:  1.02 [0.78, 1.27]\n",
            " Pearson correlation 0.56\n",
            " Spearmans 0.58\n",
            " Kendall 0.44\n"
          ]
        }
      ]
    },
    {
      "cell_type": "markdown",
      "source": [
        "# Results for the HMR no-HMR comparsion"
      ],
      "metadata": {
        "id": "yT2TUoiH-bRS"
      }
    },
    {
      "cell_type": "code",
      "source": [
        "df_hmr"
      ],
      "metadata": {
        "id": "ALZ8kcrB-ax0",
        "outputId": "1b1e9131-ece0-46b5-d96f-3d6b60c74854",
        "colab": {
          "base_uri": "https://localhost:8080/",
          "height": 332
        }
      },
      "execution_count": null,
      "outputs": [
        {
          "output_type": "execute_result",
          "data": {
            "text/plain": [
              "             ligand  average   std    TF  std.1  Literature  Charmm_OpenMM  \\\n",
              "0          l4 -> l3    -0.57  0.18 -0.61   0.09       -0.47          -0.55   \n",
              "1          l6 -> l1    -1.83  0.65 -1.91   0.63       -2.66          -1.56   \n",
              "2  jmc_28 -> ejm_31    -1.64  0.27 -1.73   0.32        1.44            NaN   \n",
              "3  ejm_46 -> ejm_31    -0.51  0.07 -0.45   0.29        1.77            NaN   \n",
              "4     l51a -> l51bt    -0.61  0.30 -0.96   0.24       -1.45          -1.04   \n",
              "5      l51c -> l51d     3.87  0.56  4.03   0.66        3.36           3.40   \n",
              "6      1h1s -> 1h1q     1.32  0.43  0.60   0.60        3.07           1.64   \n",
              "7        22 -> 1h1q    -0.44  0.64 -0.29   0.55       -0.32            NaN   \n",
              "8        29 -> 1h1q     0.23  0.54 -0.22   0.56        1.70           0.80   \n",
              "\n",
              "   std.2  \n",
              "0   0.43  \n",
              "1   0.17  \n",
              "2    NaN  \n",
              "3    NaN  \n",
              "4   0.17  \n",
              "5   0.30  \n",
              "6   0.59  \n",
              "7    NaN  \n",
              "8   0.74  "
            ],
            "text/html": [
              "\n",
              "  <div id=\"df-d254eb88-a5f9-4906-a354-b278f99b0b63\">\n",
              "    <div class=\"colab-df-container\">\n",
              "      <div>\n",
              "<style scoped>\n",
              "    .dataframe tbody tr th:only-of-type {\n",
              "        vertical-align: middle;\n",
              "    }\n",
              "\n",
              "    .dataframe tbody tr th {\n",
              "        vertical-align: top;\n",
              "    }\n",
              "\n",
              "    .dataframe thead th {\n",
              "        text-align: right;\n",
              "    }\n",
              "</style>\n",
              "<table border=\"1\" class=\"dataframe\">\n",
              "  <thead>\n",
              "    <tr style=\"text-align: right;\">\n",
              "      <th></th>\n",
              "      <th>ligand</th>\n",
              "      <th>average</th>\n",
              "      <th>std</th>\n",
              "      <th>TF</th>\n",
              "      <th>std.1</th>\n",
              "      <th>Literature</th>\n",
              "      <th>Charmm_OpenMM</th>\n",
              "      <th>std.2</th>\n",
              "    </tr>\n",
              "  </thead>\n",
              "  <tbody>\n",
              "    <tr>\n",
              "      <th>0</th>\n",
              "      <td>l4 -&gt; l3</td>\n",
              "      <td>-0.57</td>\n",
              "      <td>0.18</td>\n",
              "      <td>-0.61</td>\n",
              "      <td>0.09</td>\n",
              "      <td>-0.47</td>\n",
              "      <td>-0.55</td>\n",
              "      <td>0.43</td>\n",
              "    </tr>\n",
              "    <tr>\n",
              "      <th>1</th>\n",
              "      <td>l6 -&gt; l1</td>\n",
              "      <td>-1.83</td>\n",
              "      <td>0.65</td>\n",
              "      <td>-1.91</td>\n",
              "      <td>0.63</td>\n",
              "      <td>-2.66</td>\n",
              "      <td>-1.56</td>\n",
              "      <td>0.17</td>\n",
              "    </tr>\n",
              "    <tr>\n",
              "      <th>2</th>\n",
              "      <td>jmc_28 -&gt; ejm_31</td>\n",
              "      <td>-1.64</td>\n",
              "      <td>0.27</td>\n",
              "      <td>-1.73</td>\n",
              "      <td>0.32</td>\n",
              "      <td>1.44</td>\n",
              "      <td>NaN</td>\n",
              "      <td>NaN</td>\n",
              "    </tr>\n",
              "    <tr>\n",
              "      <th>3</th>\n",
              "      <td>ejm_46 -&gt; ejm_31</td>\n",
              "      <td>-0.51</td>\n",
              "      <td>0.07</td>\n",
              "      <td>-0.45</td>\n",
              "      <td>0.29</td>\n",
              "      <td>1.77</td>\n",
              "      <td>NaN</td>\n",
              "      <td>NaN</td>\n",
              "    </tr>\n",
              "    <tr>\n",
              "      <th>4</th>\n",
              "      <td>l51a -&gt; l51bt</td>\n",
              "      <td>-0.61</td>\n",
              "      <td>0.30</td>\n",
              "      <td>-0.96</td>\n",
              "      <td>0.24</td>\n",
              "      <td>-1.45</td>\n",
              "      <td>-1.04</td>\n",
              "      <td>0.17</td>\n",
              "    </tr>\n",
              "    <tr>\n",
              "      <th>5</th>\n",
              "      <td>l51c -&gt; l51d</td>\n",
              "      <td>3.87</td>\n",
              "      <td>0.56</td>\n",
              "      <td>4.03</td>\n",
              "      <td>0.66</td>\n",
              "      <td>3.36</td>\n",
              "      <td>3.40</td>\n",
              "      <td>0.30</td>\n",
              "    </tr>\n",
              "    <tr>\n",
              "      <th>6</th>\n",
              "      <td>1h1s -&gt; 1h1q</td>\n",
              "      <td>1.32</td>\n",
              "      <td>0.43</td>\n",
              "      <td>0.60</td>\n",
              "      <td>0.60</td>\n",
              "      <td>3.07</td>\n",
              "      <td>1.64</td>\n",
              "      <td>0.59</td>\n",
              "    </tr>\n",
              "    <tr>\n",
              "      <th>7</th>\n",
              "      <td>22 -&gt; 1h1q</td>\n",
              "      <td>-0.44</td>\n",
              "      <td>0.64</td>\n",
              "      <td>-0.29</td>\n",
              "      <td>0.55</td>\n",
              "      <td>-0.32</td>\n",
              "      <td>NaN</td>\n",
              "      <td>NaN</td>\n",
              "    </tr>\n",
              "    <tr>\n",
              "      <th>8</th>\n",
              "      <td>29 -&gt; 1h1q</td>\n",
              "      <td>0.23</td>\n",
              "      <td>0.54</td>\n",
              "      <td>-0.22</td>\n",
              "      <td>0.56</td>\n",
              "      <td>1.70</td>\n",
              "      <td>0.80</td>\n",
              "      <td>0.74</td>\n",
              "    </tr>\n",
              "  </tbody>\n",
              "</table>\n",
              "</div>\n",
              "      <button class=\"colab-df-convert\" onclick=\"convertToInteractive('df-d254eb88-a5f9-4906-a354-b278f99b0b63')\"\n",
              "              title=\"Convert this dataframe to an interactive table.\"\n",
              "              style=\"display:none;\">\n",
              "        \n",
              "  <svg xmlns=\"http://www.w3.org/2000/svg\" height=\"24px\"viewBox=\"0 0 24 24\"\n",
              "       width=\"24px\">\n",
              "    <path d=\"M0 0h24v24H0V0z\" fill=\"none\"/>\n",
              "    <path d=\"M18.56 5.44l.94 2.06.94-2.06 2.06-.94-2.06-.94-.94-2.06-.94 2.06-2.06.94zm-11 1L8.5 8.5l.94-2.06 2.06-.94-2.06-.94L8.5 2.5l-.94 2.06-2.06.94zm10 10l.94 2.06.94-2.06 2.06-.94-2.06-.94-.94-2.06-.94 2.06-2.06.94z\"/><path d=\"M17.41 7.96l-1.37-1.37c-.4-.4-.92-.59-1.43-.59-.52 0-1.04.2-1.43.59L10.3 9.45l-7.72 7.72c-.78.78-.78 2.05 0 2.83L4 21.41c.39.39.9.59 1.41.59.51 0 1.02-.2 1.41-.59l7.78-7.78 2.81-2.81c.8-.78.8-2.07 0-2.86zM5.41 20L4 18.59l7.72-7.72 1.47 1.35L5.41 20z\"/>\n",
              "  </svg>\n",
              "      </button>\n",
              "      \n",
              "  <style>\n",
              "    .colab-df-container {\n",
              "      display:flex;\n",
              "      flex-wrap:wrap;\n",
              "      gap: 12px;\n",
              "    }\n",
              "\n",
              "    .colab-df-convert {\n",
              "      background-color: #E8F0FE;\n",
              "      border: none;\n",
              "      border-radius: 50%;\n",
              "      cursor: pointer;\n",
              "      display: none;\n",
              "      fill: #1967D2;\n",
              "      height: 32px;\n",
              "      padding: 0 0 0 0;\n",
              "      width: 32px;\n",
              "    }\n",
              "\n",
              "    .colab-df-convert:hover {\n",
              "      background-color: #E2EBFA;\n",
              "      box-shadow: 0px 1px 2px rgba(60, 64, 67, 0.3), 0px 1px 3px 1px rgba(60, 64, 67, 0.15);\n",
              "      fill: #174EA6;\n",
              "    }\n",
              "\n",
              "    [theme=dark] .colab-df-convert {\n",
              "      background-color: #3B4455;\n",
              "      fill: #D2E3FC;\n",
              "    }\n",
              "\n",
              "    [theme=dark] .colab-df-convert:hover {\n",
              "      background-color: #434B5C;\n",
              "      box-shadow: 0px 1px 3px 1px rgba(0, 0, 0, 0.15);\n",
              "      filter: drop-shadow(0px 1px 2px rgba(0, 0, 0, 0.3));\n",
              "      fill: #FFFFFF;\n",
              "    }\n",
              "  </style>\n",
              "\n",
              "      <script>\n",
              "        const buttonEl =\n",
              "          document.querySelector('#df-d254eb88-a5f9-4906-a354-b278f99b0b63 button.colab-df-convert');\n",
              "        buttonEl.style.display =\n",
              "          google.colab.kernel.accessAllowed ? 'block' : 'none';\n",
              "\n",
              "        async function convertToInteractive(key) {\n",
              "          const element = document.querySelector('#df-d254eb88-a5f9-4906-a354-b278f99b0b63');\n",
              "          const dataTable =\n",
              "            await google.colab.kernel.invokeFunction('convertToInteractive',\n",
              "                                                     [key], {});\n",
              "          if (!dataTable) return;\n",
              "\n",
              "          const docLinkHtml = 'Like what you see? Visit the ' +\n",
              "            '<a target=\"_blank\" href=https://colab.research.google.com/notebooks/data_table.ipynb>data table notebook</a>'\n",
              "            + ' to learn more about interactive tables.';\n",
              "          element.innerHTML = '';\n",
              "          dataTable['output_type'] = 'display_data';\n",
              "          await google.colab.output.renderOutput(dataTable, element);\n",
              "          const docLink = document.createElement('div');\n",
              "          docLink.innerHTML = docLinkHtml;\n",
              "          element.appendChild(docLink);\n",
              "        }\n",
              "      </script>\n",
              "    </div>\n",
              "  </div>\n",
              "  "
            ]
          },
          "metadata": {},
          "execution_count": 12
        }
      ]
    },
    {
      "cell_type": "code",
      "source": [
        "## HMR vs noHMR ###\n",
        "print('#################')\n",
        "x_values = np.asarray_chkfinite(df_hmr[\"average\"][0:9])\n",
        "y_values = np.asarray_chkfinite(df_hmr['TF'][0:9])\n",
        "print(f'ddG Values for HMR vs noHMR')\n",
        "bootstrap_function(x_values, y_values)\n",
        "calc_scipy(x_values,y_values)"
      ],
      "metadata": {
        "id": "fcSW8uRCJwk_",
        "outputId": "2747177d-20bc-4234-88b8-8d451c31f384",
        "colab": {
          "base_uri": "https://localhost:8080/"
        }
      },
      "execution_count": null,
      "outputs": [
        {
          "output_type": "stream",
          "name": "stdout",
          "text": [
            "#################\n",
            "ddG Values for HMR vs noHMR\n",
            "MAE:  0.23 [0.13, 0.36]\n",
            "RMSE:  0.32 [0.16, 0.45]\n",
            " Pearson correlation 0.99\n",
            " Spearmans 1.0\n",
            " Kendall 1.0\n"
          ]
        }
      ]
    },
    {
      "cell_type": "code",
      "source": [
        "## HMR vs noHMR ###\n",
        "print('#################')\n",
        "np_x_values = np.asarray(df_hmr['Charmm_OpenMM'][0:9])\n",
        "x_values = np_x_values[np.ix_([0,1,4,5,6,8])]\n",
        "np_y_values = np.asarray(df_hmr['average'][0:9])\n",
        "y_values = np_y_values[np.ix_([0,1,4,5,6,8])]\n",
        "print(f'ddG Values for openMM vs CHARMM/OpenMM')\n",
        "bootstrap_function(x_values, y_values)\n",
        "calc_scipy(x_values,y_values)"
      ],
      "metadata": {
        "id": "HqI5RWevLECJ",
        "outputId": "38545af6-dd26-4396-90f4-62afd9b44c96",
        "colab": {
          "base_uri": "https://localhost:8080/"
        }
      },
      "execution_count": null,
      "outputs": [
        {
          "output_type": "stream",
          "name": "stdout",
          "text": [
            "#################\n",
            "ddG Values for openMM vs CHARMM/OpenMM\n",
            "MAE:  0.35 [0.23, 0.46]\n",
            "RMSE:  0.39 [0.29, 0.47]\n",
            " Pearson correlation 0.98\n",
            " Spearmans 1.0\n",
            " Kendall 1.0\n"
          ]
        }
      ]
    }
  ],
  "metadata": {
    "colab": {
      "name": "Bootstrapping.ipynb",
      "provenance": [],
      "include_colab_link": true
    },
    "kernelspec": {
      "display_name": "Python 3",
      "name": "python3"
    },
    "language_info": {
      "codemirror_mode": {
        "name": "ipython",
        "version": 3
      },
      "file_extension": ".py",
      "mimetype": "text/x-python",
      "name": "python",
      "nbconvert_exporter": "python",
      "pygments_lexer": "ipython3",
      "version": "3.9.7"
    }
  },
  "nbformat": 4,
  "nbformat_minor": 0
}