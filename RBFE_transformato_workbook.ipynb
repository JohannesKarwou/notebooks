{
  "cells": [
    {
      "cell_type": "markdown",
      "metadata": {
        "id": "view-in-github",
        "colab_type": "text"
      },
      "source": [
        "<a href=\"https://colab.research.google.com/github/JohannesKarwou/notebooks/blob/main/Bootstrapping.ipynb\" target=\"_parent\"><img src=\"https://colab.research.google.com/assets/colab-badge.svg\" alt=\"Open In Colab\"/></a>"
      ]
    },
    {
      "cell_type": "code",
      "execution_count": 1,
      "metadata": {
        "id": "t11snvpY52J5"
      },
      "outputs": [],
      "source": [
        "import numpy as np\n",
        "import matplotlib.pyplot as plt\n",
        "import pandas as pd\n",
        "import scipy\n",
        "from sklearn.metrics import mean_absolute_error, mean_squared_error"
      ]
    },
    {
      "cell_type": "code",
      "execution_count": 2,
      "metadata": {
        "id": "_YO4AHcxadWP"
      },
      "outputs": [],
      "source": [
        "df_ddg = pd.read_csv(\"https://raw.githubusercontent.com/JohannesKarwou/notebooks/main/data/summary_ddG.csv\")\n",
        "df_dg = pd.read_csv(\"https://raw.githubusercontent.com/JohannesKarwou/notebooks/main/data/summary_dG.csv\")"
      ]
    },
    {
      "cell_type": "code",
      "execution_count": 3,
      "metadata": {
        "id": "lbwQ4hg46xUE"
      },
      "outputs": [],
      "source": [
        "def bootstrap_function(x_values, y_values):\n",
        "  # bootstrap metric\n",
        "  def bootstrap_metric(fct, x_values, y_values):\n",
        "      assert callable(fct) == True\n",
        "      bootstrapped_metric = []\n",
        "      # bootstrap metric to generate test distribution\n",
        "      for _ in range(1000):\n",
        "          indices = np.random.choice(range(0, len(x_values)), size=len(x_values), replace=True)\n",
        "          x_selection = np.take(x_values, indices)\n",
        "          y_selection = np.take(y_values, indices)\n",
        "          r = fct(x_selection, y_selection)\n",
        "          bootstrapped_metric.append(r)    \n",
        "\n",
        "      # define 90% CI\n",
        "      alpha = 10.0\n",
        "      lower_p = alpha / 2.0\n",
        "      # get value at or near percentile (take a look at the definition of percentile if \n",
        "      # you have less than 100 values to make sure you understand what is happening)\n",
        "      lower = np.percentile(bootstrapped_metric, lower_p)\n",
        "      upper_p = (100 - alpha) + (alpha / 2.0)\n",
        "      upper = np.percentile(bootstrapped_metric, upper_p)\n",
        "      # calculate true mean\n",
        "      mean = fct(x_values, y_values)\n",
        "\n",
        "      return mean, lower, upper\n",
        "\n",
        "  # bootstrap MAE\n",
        "  mean, lower, upper = bootstrap_metric(mean_absolute_error, x_values, y_values)\n",
        "  print(f'MAE:  {round(mean, 2):.2f} [{round(lower,2):.2f}, {round(upper,2):.2f}]')\n",
        "\n",
        "  # bootstrap RMSE\n",
        "  def calc_rmse(x_values, y_values):\n",
        "      from sklearn.metrics import mean_squared_error\n",
        "      return np.sqrt(mean_squared_error(x_values, y_values))\n",
        "  mean, lower, upper = bootstrap_metric(calc_rmse, x_values, y_values)\n",
        "  print(f'RMSE:  {round(mean, 2):.2f} [{round(lower,2):.2f}, {round(upper,2):.2f}]')\n",
        "  plt.show()\n",
        "\n"
      ]
    },
    {
      "cell_type": "code",
      "source": [
        "def calc_scipy(x,y):\n",
        "  pearson = scipy.stats.pearsonr(x_values,y_values)\n",
        "  spearman = scipy.stats.spearmanr(x_values,y_values)\n",
        "  kendall = scipy.stats.kendalltau(x_values,y_values)\n",
        "  print(f' Pearson correlation {round(pearson[0],2)}')\n",
        "  print(f' Spearmans {round(spearman[0],2)}')\n",
        "  print(f' Kendall {round(kendall[0],2)}')"
      ],
      "metadata": {
        "id": "U5uykNfX21my"
      },
      "execution_count": 4,
      "outputs": []
    },
    {
      "cell_type": "markdown",
      "source": [
        "## In the following cells, the calculated **dG** values are processed. The first block calculates all values (MAE, RMSE, Pearson and Spearman correlation) for the results calculated by`TRANSFORMATO` for five datasets (JNK1, 2RA0, GAL3, CDK2, TYK2). In the next block values are calculated for pmx, then for Schroedinger FEP+ and for AMBER TI. Note, not all methods from literature calculate all systems reported for `TRANSFORMATO`.:"
      ],
      "metadata": {
        "id": "KF3pBUSR56jF"
      }
    },
    {
      "cell_type": "code",
      "execution_count": 5,
      "metadata": {
        "colab": {
          "base_uri": "https://localhost:8080/"
        },
        "id": "NmvckjqTAPvo",
        "outputId": "2b5b0cb7-8475-4c78-af2e-6285b4b914bf"
      },
      "outputs": [
        {
          "output_type": "stream",
          "name": "stdout",
          "text": [
            "#### Results for TRANSFORMATO #####\n",
            "for all dG values\n",
            "MAE:  0.85 [0.69, 1.02]\n",
            "RMSE:  1.17 [0.96, 1.36]\n",
            " Pearson correlation 0.73\n",
            " Spearmans 0.7\n",
            " Kendall 0.53\n",
            "#################\n",
            "dG values for Galectin\n",
            "MAE:  0.69 [0.36, 1.06]\n",
            "RMSE:  0.90 [0.47, 1.24]\n",
            " Pearson correlation 0.59\n",
            " Spearmans 0.54\n",
            " Kendall 0.4\n",
            "#################\n",
            "dG values for CDK2\n",
            "MAE:  0.80 [0.48, 1.17]\n",
            "RMSE:  1.12 [0.68, 1.46]\n",
            " Pearson correlation 0.61\n",
            " Spearmans 0.59\n",
            " Kendall 0.46\n",
            "#################\n",
            "dG values for 2RA0\n",
            "MAE:  0.84 [0.61, 1.10]\n",
            "RMSE:  0.98 [0.69, 1.21]\n",
            " Pearson correlation 0.78\n",
            " Spearmans 0.65\n",
            " Kendall 0.51\n",
            "#################\n",
            "dG values for TYK2\n",
            "MAE:  1.37 [0.94, 1.84]\n",
            "RMSE:  1.74 [1.24, 2.14]\n",
            " Pearson correlation 0.42\n",
            " Spearmans 0.21\n",
            " Kendall 0.12\n",
            "#################\n",
            "dG values for JNK1\n",
            "MAE:  0.57 [0.37, 0.80]\n",
            "RMSE:  0.81 [0.54, 1.06]\n",
            " Pearson correlation 0.6\n",
            " Spearmans 0.63\n",
            " Kendall 0.46\n"
          ]
        }
      ],
      "source": [
        "### Here the calculated dG values are processed! ###\n",
        "############ FOR TRANSFORMATO RESULTS ##############\n",
        "\n",
        "print('#### Results for TRANSFORMATO #####')\n",
        "\n",
        "##### summary of all dG values of all systems ######\n",
        "\n",
        "x_values = np.asarray_chkfinite(df_dg[\"literature\"][0:67])\n",
        "y_values = np.asarray_chkfinite(df_dg['TF'][0:67])\n",
        "print(f'for all dG values')\n",
        "bootstrap_function(x_values, y_values)\n",
        "calc_scipy(x_values,y_values)\n",
        "\n",
        "######## Values for the indiviual systems #########\n",
        "## Galectin ###\n",
        "print('#################')\n",
        "x_values = np.asarray_chkfinite(df_dg[\"literature\"][21:29])\n",
        "y_values = np.asarray_chkfinite(df_dg['TF'][21:29])\n",
        "print(f'dG values for Galectin')\n",
        "bootstrap_function(x_values, y_values)\n",
        "calc_scipy(x_values,y_values)\n",
        "\n",
        "## CDK2 ###\n",
        "print('#################')\n",
        "x_values = np.asarray_chkfinite(df_dg[\"literature\"][39:52])\n",
        "y_values = np.asarray_chkfinite(df_dg['TF'][39:52])\n",
        "print(f'dG values for CDK2')\n",
        "bootstrap_function(x_values, y_values)\n",
        "calc_scipy(x_values,y_values)\n",
        "\n",
        "## 2RA0 ###\n",
        "print('#################')\n",
        "x_values = np.asarray_chkfinite(df_dg[\"literature\"][29:39])\n",
        "y_values = np.asarray_chkfinite(df_dg['TF'][29:39])\n",
        "print(f'dG values for 2RA0')\n",
        "bootstrap_function(x_values, y_values)\n",
        "calc_scipy(x_values,y_values)\n",
        "\n",
        "## TYK2 ###\n",
        "print('#################')\n",
        "x_values = np.asarray_chkfinite(df_dg[\"literature\"][52:67])\n",
        "y_values = np.asarray_chkfinite(df_dg['TF'][52:67])\n",
        "print(f'dG values for TYK2')\n",
        "bootstrap_function(x_values, y_values)\n",
        "calc_scipy(x_values,y_values)\n",
        "\n",
        "## JNK1 ###\n",
        "print('#################')\n",
        "x_values = np.asarray_chkfinite(df_dg[\"literature\"][0:21])\n",
        "y_values = np.asarray_chkfinite(df_dg['TF'][0:21])\n",
        "print(f'dG values for JNK1')\n",
        "bootstrap_function(x_values, y_values)\n",
        "calc_scipy(x_values,y_values)"
      ]
    },
    {
      "cell_type": "code",
      "source": [
        "############ FOR PMX RESULTS ##############\n",
        "\n",
        "print('#### Results for PMX #####')\n",
        "\n",
        "######## Values for the indiviual systems #########\n",
        "## Galectin ###\n",
        "print('#################')\n",
        "x_values = np.asarray_chkfinite(df_dg[\"literature\"][21:29])\n",
        "y_values = np.asarray_chkfinite(df_dg['pmx'][21:29])\n",
        "print(f'dG values for Galectin')\n",
        "bootstrap_function(x_values, y_values)\n",
        "calc_scipy(x_values,y_values)\n",
        "\n",
        "## CDK2 ###\n",
        "print('#################')\n",
        "x_values = np.asarray_chkfinite(df_dg[\"literature\"][39:52])\n",
        "y_values = np.asarray_chkfinite(df_dg['pmx'][39:52])\n",
        "print(f'dG values for CDK2')\n",
        "bootstrap_function(x_values, y_values)\n",
        "calc_scipy(x_values,y_values)\n",
        "\n",
        "## TYK2 ###\n",
        "print('#################')\n",
        "x_values = np.asarray_chkfinite(df_dg[\"literature\"][52:67])\n",
        "y_values = np.asarray_chkfinite(df_dg['pmx'][52:67])\n",
        "print(f'dG values for TYK2')\n",
        "bootstrap_function(x_values, y_values)\n",
        "calc_scipy(x_values,y_values)\n",
        "\n",
        "## JNK1 ###\n",
        "print('#################')\n",
        "x_values = np.asarray_chkfinite(df_dg[\"literature\"][0:21])\n",
        "y_values = np.asarray_chkfinite(df_dg['pmx'][0:21])\n",
        "print(f'dG values for JNK1')\n",
        "bootstrap_function(x_values, y_values)\n",
        "calc_scipy(x_values,y_values)"
      ],
      "metadata": {
        "id": "QCwaJ0Kn4UkV",
        "outputId": "d4036c91-7da4-4a0e-dfff-c94fea1e0d63",
        "colab": {
          "base_uri": "https://localhost:8080/"
        }
      },
      "execution_count": 6,
      "outputs": [
        {
          "output_type": "stream",
          "name": "stdout",
          "text": [
            "#### Results for PMX #####\n",
            "#################\n",
            "dG values for Galectin\n",
            "MAE:  0.43 [0.27, 0.58]\n",
            "RMSE:  0.50 [0.34, 0.62]\n",
            " Pearson correlation 0.9\n",
            " Spearmans 0.78\n",
            " Kendall 0.62\n",
            "#################\n",
            "dG values for CDK2\n",
            "MAE:  0.89 [0.57, 1.20]\n",
            "RMSE:  1.14 [0.83, 1.41]\n",
            " Pearson correlation 0.41\n",
            " Spearmans 0.63\n",
            " Kendall 0.46\n",
            "#################\n",
            "dG values for TYK2\n",
            "MAE:  1.61 [1.22, 2.02]\n",
            "RMSE:  1.87 [1.45, 2.22]\n",
            " Pearson correlation 0.53\n",
            " Spearmans 0.46\n",
            " Kendall 0.3\n",
            "#################\n",
            "dG values for JNK1\n",
            "MAE:  0.57 [0.38, 0.80]\n",
            "RMSE:  0.81 [0.53, 1.04]\n",
            " Pearson correlation 0.66\n",
            " Spearmans 0.77\n",
            " Kendall 0.56\n"
          ]
        }
      ]
    },
    {
      "cell_type": "code",
      "source": [
        "############ FOR FEP+ RESULTS ##############\n",
        "\n",
        "print('#### Results for Schroedinger FEP+ #####')\n",
        "\n",
        "######## Values for the indiviual systems #########\n",
        "## CDK2 ###\n",
        "print('#################')\n",
        "x_values = np.asarray_chkfinite(df_dg[\"literature\"][39:52])\n",
        "y_values = np.asarray_chkfinite(df_dg['schroedinger'][39:52])\n",
        "print(f'dG values for CDK2')\n",
        "bootstrap_function(x_values, y_values)\n",
        "calc_scipy(x_values,y_values)\n",
        "\n",
        "## TYK2 ###\n",
        "print('#################')\n",
        "x_values = np.asarray_chkfinite(df_dg[\"literature\"][52:67])\n",
        "y_values = np.asarray_chkfinite(df_dg['schroedinger'][52:67])\n",
        "print(f'dG values for TYK2')\n",
        "bootstrap_function(x_values, y_values)\n",
        "calc_scipy(x_values,y_values)\n",
        "\n",
        "## JNK1 ###\n",
        "print('#################')\n",
        "x_values = np.asarray_chkfinite(df_dg[\"literature\"][0:21])\n",
        "y_values = np.asarray_chkfinite(df_dg['schroedinger'][0:21])\n",
        "print(f'dG values for JNK1')\n",
        "bootstrap_function(x_values, y_values)\n",
        "calc_scipy(x_values,y_values)"
      ],
      "metadata": {
        "id": "JXfmP2F_RAHH",
        "outputId": "b8e2091e-767f-4bab-c7ec-498e6b2c552c",
        "colab": {
          "base_uri": "https://localhost:8080/"
        }
      },
      "execution_count": 7,
      "outputs": [
        {
          "output_type": "stream",
          "name": "stdout",
          "text": [
            "#### Results for Schroedinger FEP+ #####\n",
            "#################\n",
            "dG values for CDK2\n",
            "MAE:  0.82 [0.60, 1.04]\n",
            "RMSE:  0.95 [0.74, 1.13]\n",
            " Pearson correlation 0.52\n",
            " Spearmans 0.58\n",
            " Kendall 0.44\n",
            "#################\n",
            "dG values for TYK2\n",
            "MAE:  0.46 [0.30, 0.63]\n",
            "RMSE:  0.58 [0.38, 0.76]\n",
            " Pearson correlation 0.88\n",
            " Spearmans 0.85\n",
            " Kendall 0.68\n",
            "#################\n",
            "dG values for JNK1\n",
            "MAE:  1.06 [0.90, 1.23]\n",
            "RMSE:  1.14 [0.99, 1.29]\n",
            " Pearson correlation 0.85\n",
            " Spearmans 0.9\n",
            " Kendall 0.76\n"
          ]
        }
      ]
    },
    {
      "cell_type": "code",
      "source": [
        "############ FOR AMBER TI RESULTS ##############\n",
        "\n",
        "print('#### Results for AMBER TI #####')\n",
        "\n",
        "######## Values for the indiviual systems #########\n",
        "\n",
        "\n",
        "## CDK2 ###\n",
        "print('#################')\n",
        "x_values = np.asarray_chkfinite(df_dg[\"literature\"][39:52])\n",
        "y_values = np.asarray_chkfinite(df_dg['AMBER TI'][39:52])\n",
        "print(f'dG values for CDK2')\n",
        "bootstrap_function(x_values, y_values)\n",
        "calc_scipy(x_values,y_values)\n",
        "\n",
        "## 2RA0 ###\n",
        "print('#################')\n",
        "x_values = np.asarray_chkfinite(df_dg[\"literature\"][29:39])\n",
        "y_values = np.asarray_chkfinite(df_dg['AMBER TI'][29:39])\n",
        "print(f'dG values for 2RA0')\n",
        "bootstrap_function(x_values, y_values)\n",
        "calc_scipy(x_values,y_values)\n",
        "\n"
      ],
      "metadata": {
        "id": "KUG6bo7U4sKV",
        "outputId": "0130f64a-744b-4c92-a1a9-d5fed354b9c9",
        "colab": {
          "base_uri": "https://localhost:8080/"
        }
      },
      "execution_count": 8,
      "outputs": [
        {
          "output_type": "stream",
          "name": "stdout",
          "text": [
            "#### Results for AMBER TI #####\n",
            "#################\n",
            "dG values for CDK2\n",
            "MAE:  0.72 [0.53, 0.92]\n",
            "RMSE:  0.84 [0.64, 1.04]\n",
            " Pearson correlation 0.74\n",
            " Spearmans 0.79\n",
            " Kendall 0.59\n",
            "#################\n",
            "dG values for 2RA0\n",
            "MAE:  0.66 [0.36, 1.05]\n",
            "RMSE:  0.96 [0.43, 1.41]\n",
            " Pearson correlation 0.83\n",
            " Spearmans 0.81\n",
            " Kendall 0.6\n"
          ]
        }
      ]
    },
    {
      "cell_type": "markdown",
      "source": [
        "# As for the dG results shown previously, the same is done for the **ddG** results of the calculated mutations. First, results are reported for all systems calculated by `TRANSFORMATO`. The same is done for each system where data is available, first for pmx, followed by the Schroedinger FEP+ results and the AMBER TI results."
      ],
      "metadata": {
        "id": "BgsgDEMMHhvz"
      }
    },
    {
      "cell_type": "code",
      "source": [
        "### Here the calculated ddG values are processed! ###\n",
        "############ FOR TRANSFORMATO RESULTS ##############\n",
        "\n",
        "print('#### Results for TRANSFORMATO #####')\n",
        "\n",
        "##### summary of all dG values of all systems ######\n",
        "\n",
        "x_values = np.asarray_chkfinite(df_ddg[\"literature\"][0:75])\n",
        "y_values = np.asarray_chkfinite(df_ddg['TF'][0:75])\n",
        "print(f'for all dG values')\n",
        "bootstrap_function(x_values, y_values)\n",
        "calc_scipy(x_values,y_values)\n",
        "\n",
        "######## Values for the indiviual systems #########\n",
        "## Galectin ###\n",
        "print('#################')\n",
        "x_values = np.asarray_chkfinite(df_ddg[\"literature\"][0:7])\n",
        "y_values = np.asarray_chkfinite(df_ddg['TF'][0:7])\n",
        "print(f'dG values for Galectin')\n",
        "bootstrap_function(x_values, y_values)\n",
        "calc_scipy(x_values,y_values)\n",
        "\n",
        "## CDK2 ###\n",
        "print('#################')\n",
        "x_values = np.asarray_chkfinite(df_ddg[\"literature\"][7:20])\n",
        "y_values = np.asarray_chkfinite(df_ddg['TF'][7:20])\n",
        "print(f'dG values for CDK2')\n",
        "bootstrap_function(x_values, y_values)\n",
        "calc_scipy(x_values,y_values)\n",
        "\n",
        "## 2RA0 ###\n",
        "print('#################')\n",
        "x_values = np.asarray_chkfinite(df_ddg[\"literature\"][20:31])\n",
        "y_values = np.asarray_chkfinite(df_ddg['TF'][20:31])\n",
        "print(f'dG values for 2RA0')\n",
        "bootstrap_function(x_values, y_values)\n",
        "calc_scipy(x_values,y_values)\n",
        "\n",
        "## TYK2 ###\n",
        "print('#################')\n",
        "x_values = np.asarray_chkfinite(df_ddg[\"literature\"][31:46])\n",
        "y_values = np.asarray_chkfinite(df_ddg['TF'][31:46])\n",
        "print(f'dG values for TYK2')\n",
        "bootstrap_function(x_values, y_values)\n",
        "calc_scipy(x_values,y_values)\n",
        "\n",
        "## JNK1 ###\n",
        "print('#################')\n",
        "x_values = np.asarray_chkfinite(df_ddg[\"literature\"][46:75])\n",
        "y_values = np.asarray_chkfinite(df_ddg['TF'][46:75])\n",
        "print(f'dG values for JNK1')\n",
        "bootstrap_function(x_values, y_values)\n",
        "calc_scipy(x_values,y_values)"
      ],
      "metadata": {
        "id": "54hbcaQ9JPmB",
        "outputId": "dbd32460-652c-4b3b-deb7-b4a1675718b4",
        "colab": {
          "base_uri": "https://localhost:8080/"
        }
      },
      "execution_count": 9,
      "outputs": [
        {
          "output_type": "stream",
          "name": "stdout",
          "text": [
            "#### Results for TRANSFORMATO #####\n",
            "for all dG values\n",
            "MAE:  0.87 [0.73, 1.03]\n",
            "RMSE:  1.18 [0.98, 1.38]\n",
            " Pearson correlation 0.57\n",
            " Spearmans 0.48\n",
            " Kendall 0.36\n",
            "#################\n",
            "dG values for Galectin\n",
            "MAE:  0.49 [0.31, 0.68]\n",
            "RMSE:  0.58 [0.39, 0.74]\n",
            " Pearson correlation 0.76\n",
            " Spearmans 0.57\n",
            " Kendall 0.43\n",
            "#################\n",
            "dG values for CDK2\n",
            "MAE:  0.80 [0.47, 1.18]\n",
            "RMSE:  1.12 [0.71, 1.48]\n",
            " Pearson correlation 0.63\n",
            " Spearmans 0.59\n",
            " Kendall 0.46\n",
            "#################\n",
            "dG values for 2RA0\n",
            "MAE:  1.02 [0.72, 1.39]\n",
            "RMSE:  1.24 [0.78, 1.71]\n",
            " Pearson correlation 0.83\n",
            " Spearmans 0.71\n",
            " Kendall 0.6\n",
            "#################\n",
            "dG values for TYK2\n",
            "MAE:  1.37 [0.95, 1.84]\n",
            "RMSE:  1.74 [1.23, 2.19]\n",
            " Pearson correlation 0.42\n",
            " Spearmans 0.21\n",
            " Kendall 0.12\n",
            "#################\n",
            "dG values for JNK1\n",
            "MAE:  0.68 [0.51, 0.89]\n",
            "RMSE:  0.91 [0.65, 1.17]\n",
            " Pearson correlation 0.34\n",
            " Spearmans 0.32\n",
            " Kendall 0.24\n"
          ]
        }
      ]
    },
    {
      "cell_type": "code",
      "source": [
        "### Here the calculated ddG values are processed! ###\n",
        "############ FOR PMX RESULTS ##############\n",
        "\n",
        "print('#### Results for PMX #####')\n",
        "\n",
        "######## Values for the indiviual systems #########\n",
        "## Galectin ###\n",
        "print('#################')\n",
        "x_values = np.asarray_chkfinite(df_ddg[\"literature\"][0:7])\n",
        "y_values = np.asarray_chkfinite(df_ddg['pmx'][0:7])\n",
        "print(f'ddG values for Galectin')\n",
        "bootstrap_function(x_values, y_values)\n",
        "calc_scipy(x_values,y_values)\n",
        "\n",
        "## CDK2 ###\n",
        "print('#################')\n",
        "x_values = np.asarray_chkfinite(df_ddg[\"literature\"][7:20])\n",
        "y_values = np.asarray_chkfinite(df_ddg['pmx'][7:20])\n",
        "print(f'ddG values for CDK2')\n",
        "bootstrap_function(x_values, y_values)\n",
        "calc_scipy(x_values,y_values)\n",
        "\n",
        "## TYK2 ###\n",
        "print('#################')\n",
        "x_values = np.asarray_chkfinite(df_ddg[\"literature\"][31:46])\n",
        "y_values = np.asarray_chkfinite(df_ddg['pmx'][31:46])\n",
        "print(f'ddG values for TYK2')\n",
        "bootstrap_function(x_values, y_values)\n",
        "calc_scipy(x_values,y_values)\n",
        "\n",
        "## JNK1 ###\n",
        "print('#################')\n",
        "x_values = np.asarray_chkfinite(df_ddg[\"literature\"][46:75])\n",
        "y_values = np.asarray_chkfinite(df_ddg['pmx'][46:75])\n",
        "print(f'ddG values for JNK1')\n",
        "bootstrap_function(x_values, y_values)\n",
        "calc_scipy(x_values,y_values)"
      ],
      "metadata": {
        "id": "KZfiQlqFJ1G2",
        "outputId": "88cc7fd5-e172-49d7-c4e4-e288f18697db",
        "colab": {
          "base_uri": "https://localhost:8080/"
        }
      },
      "execution_count": 10,
      "outputs": [
        {
          "output_type": "stream",
          "name": "stdout",
          "text": [
            "#### Results for PMX #####\n",
            "#################\n",
            "ddG values for Galectin\n",
            "MAE:  0.53 [0.37, 0.71]\n",
            "RMSE:  0.60 [0.42, 0.75]\n",
            " Pearson correlation 0.82\n",
            " Spearmans 0.5\n",
            " Kendall 0.43\n",
            "#################\n",
            "ddG values for CDK2\n",
            "MAE:  0.86 [0.56, 1.14]\n",
            "RMSE:  1.08 [0.78, 1.36]\n",
            " Pearson correlation 0.51\n",
            " Spearmans 0.68\n",
            " Kendall 0.46\n",
            "#################\n",
            "ddG values for TYK2\n",
            "MAE:  1.72 [1.26, 2.19]\n",
            "RMSE:  2.04 [1.58, 2.47]\n",
            " Pearson correlation 0.64\n",
            " Spearmans 0.51\n",
            " Kendall 0.35\n",
            "#################\n",
            "ddG values for JNK1\n",
            "MAE:  0.68 [0.49, 0.90]\n",
            "RMSE:  0.95 [0.66, 1.21]\n",
            " Pearson correlation 0.51\n",
            " Spearmans 0.55\n",
            " Kendall 0.4\n"
          ]
        }
      ]
    },
    {
      "cell_type": "code",
      "source": [
        "### Here the calculated ddG values are processed! ###\n",
        "############ FOR Schroedinger/FEP+ RESULTS ##############\n",
        "\n",
        "print('#### Results for Schroedinger/FEP+ #####')\n",
        "\n",
        "######## Values for the indiviual systems #########\n",
        "## JNK1 ###\n",
        "print('#################')\n",
        "x_values = np.asarray_chkfinite(df_ddg[\"literature\"][46:75])\n",
        "y_values = np.asarray_chkfinite(df_ddg['schroedinger'][46:75])\n",
        "print(f'ddG values for JNK1')\n",
        "bootstrap_function(x_values, y_values)\n",
        "calc_scipy(x_values,y_values)"
      ],
      "metadata": {
        "id": "Cq7V1YjDdd3F",
        "outputId": "2c5d45b2-417d-4ccd-adab-1101fa50ecd2",
        "colab": {
          "base_uri": "https://localhost:8080/"
        }
      },
      "execution_count": 11,
      "outputs": [
        {
          "output_type": "stream",
          "name": "stdout",
          "text": [
            "#### Results for Schroedinger/FEP+ #####\n",
            "#################\n",
            "ddG values for JNK1\n",
            "MAE:  0.78 [0.58, 1.00]\n",
            "RMSE:  1.02 [0.75, 1.27]\n",
            " Pearson correlation 0.56\n",
            " Spearmans 0.58\n",
            " Kendall 0.44\n"
          ]
        }
      ]
    },
    {
      "cell_type": "code",
      "source": [
        "### Here the calculated ddG values are processed! ###\n",
        "############ FOR AMBER TI RESULTS ##############\n",
        "\n",
        "print('#### Results for AMBER TI #####')\n",
        "\n",
        "######## Values for the indiviual systems #########\n",
        "\n",
        "## 2RA0 ###\n",
        "print('#################')\n",
        "x_values = np.asarray_chkfinite(df_ddg[\"literature\"][20:26])\n",
        "y_values = np.asarray_chkfinite(df_ddg['AMBER TI'][20:26])\n",
        "print(f'dG values for 2RA0')\n",
        "bootstrap_function(x_values, y_values)\n",
        "calc_scipy(x_values,y_values)"
      ],
      "metadata": {
        "id": "-TAYvdmwLVIk",
        "outputId": "1db660d8-8606-4d93-beb1-6660a42361f4",
        "colab": {
          "base_uri": "https://localhost:8080/"
        }
      },
      "execution_count": 12,
      "outputs": [
        {
          "output_type": "stream",
          "name": "stdout",
          "text": [
            "#### Results for AMBER TI #####\n",
            "#################\n",
            "dG values for 2RA0\n",
            "MAE:  0.58 [0.31, 0.87]\n",
            "RMSE:  0.72 [0.34, 0.95]\n",
            " Pearson correlation 0.96\n",
            " Spearmans 0.89\n",
            " Kendall 0.73\n"
          ]
        }
      ]
    }
  ],
  "metadata": {
    "colab": {
      "name": "Bootstrapping.ipynb",
      "provenance": [],
      "include_colab_link": true
    },
    "kernelspec": {
      "display_name": "Python 3",
      "name": "python3"
    },
    "language_info": {
      "codemirror_mode": {
        "name": "ipython",
        "version": 3
      },
      "file_extension": ".py",
      "mimetype": "text/x-python",
      "name": "python",
      "nbconvert_exporter": "python",
      "pygments_lexer": "ipython3",
      "version": "3.9.7"
    }
  },
  "nbformat": 4,
  "nbformat_minor": 0
}
