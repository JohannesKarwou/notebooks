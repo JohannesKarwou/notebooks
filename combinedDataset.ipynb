{
  "nbformat": 4,
  "nbformat_minor": 0,
  "metadata": {
    "colab": {
      "provenance": [],
      "authorship_tag": "ABX9TyNkU1qXkE+7gO8jPRlbTktH",
      "include_colab_link": true
    },
    "kernelspec": {
      "name": "python3",
      "display_name": "Python 3"
    },
    "language_info": {
      "name": "python"
    }
  },
  "cells": [
    {
      "cell_type": "markdown",
      "metadata": {
        "id": "view-in-github",
        "colab_type": "text"
      },
      "source": [
        "<a href=\"https://colab.research.google.com/github/JohannesKarwou/notebooks/blob/main/combinedDataset.ipynb\" target=\"_parent\"><img src=\"https://colab.research.google.com/assets/colab-badge.svg\" alt=\"Open In Colab\"/></a>"
      ]
    },
    {
      "cell_type": "code",
      "execution_count": 2,
      "metadata": {
        "id": "fCp0S33bb2Nu"
      },
      "outputs": [],
      "source": [
        "import pandas as pd\n",
        "import numpy as np\n",
        "import csv\n",
        "import matplotlib\n",
        "import matplotlib.pyplot as plt\n",
        "import matplotlib.patches as mpatches\n",
        "from matplotlib.offsetbox import AnchoredText\n",
        "from matplotlib.ticker import MaxNLocator\n",
        "import seaborn as sns\n",
        "import scipy\n",
        "from sklearn.metrics import mean_absolute_error, mean_squared_error\n",
        "from matplotlib.legend_handler import HandlerTuple\n",
        "plt.set_loglevel(\"WARNING\")"
      ]
    },
    {
      "cell_type": "code",
      "source": [
        "# set up color palette\n",
        "palett = sns.color_palette(n_colors=8)\n",
        "palett_as_hex = palett.as_hex()\n",
        "\n",
        "c1, c2, c3, c4, c5, c7 = (\n",
        "    palett_as_hex[0],\n",
        "    palett_as_hex[1],\n",
        "    palett_as_hex[2],\n",
        "    palett_as_hex[3],\n",
        "    palett_as_hex[4],\n",
        "    palett_as_hex[6],\n",
        ")\n",
        "c8 = matplotlib.colors.to_rgba(\"k\", alpha=0.1)\n",
        "c8_2 = matplotlib.colors.to_rgba(\"k\", alpha=0.01)\n",
        "# c5 = lila\n",
        "# c7= rosa"
      ],
      "metadata": {
        "id": "95CyrJv3b-Uy"
      },
      "execution_count": 3,
      "outputs": []
    },
    {
      "cell_type": "code",
      "source": [
        "data = pd.read_csv(\"sample_data/combinedDataset.csv\")"
      ],
      "metadata": {
        "id": "BKhMr2XxcOUN"
      },
      "execution_count": 6,
      "outputs": []
    },
    {
      "cell_type": "code",
      "source": [
        "def bootstrap_metric(fct, x_values, y_values, p_value=False):\n",
        "    bootstrapped_metric = []\n",
        "    # bootstrap metric to generate test distribution\n",
        "    for _ in range(1000):\n",
        "        indices = np.random.choice(\n",
        "            range(0, len(x_values)), size=len(x_values), replace=True\n",
        "        )\n",
        "        x_selection = np.take(x_values, indices)\n",
        "        y_selection = np.take(y_values, indices)\n",
        "        if p_value:\n",
        "            r = fct(x_selection, y_selection)[0]\n",
        "        else:\n",
        "            r = fct(x_selection, y_selection)\n",
        "        bootstrapped_metric.append(r)\n",
        "\n",
        "    # define 95% CI\n",
        "    alpha = 5.0\n",
        "    lower_p = alpha / 2.0\n",
        "    # get value at or near percentile (take a look at the definition of percentile if\n",
        "    # you have less than 100 values to make sure you understand what is happening)\n",
        "    lower = np.percentile(bootstrapped_metric, lower_p)\n",
        "    upper_p = (100 - alpha) + (alpha / 2.0)\n",
        "    upper = np.percentile(bootstrapped_metric, upper_p)\n",
        "    # calculate true mean\n",
        "    if p_value:\n",
        "        mean = fct(x_values, y_values)[0]\n",
        "    else:\n",
        "        mean = fct(x_values, y_values)\n",
        "    return mean, lower, upper\n",
        "\n",
        "def calculate_statistics(x_values, y_values,output=False):\n",
        "    # bootstrap RMSE\n",
        "    def calc_rmse(x_values, y_values):\n",
        "        return np.sqrt(mean_squared_error(x_values, y_values))\n",
        "\n",
        "    rmse_mean, rmse_lower, rmse_upper = bootstrap_metric(calc_rmse, x_values, y_values)\n",
        "    if output:\n",
        "      print(\n",
        "        f\"RMSE:  {round(rmse_mean, 2)} [{round(rmse_lower,2)}, {round(rmse_upper,2)}]\"\n",
        "      )\n",
        "\n",
        "    # bootstrap MAE\n",
        "    mae_mean, mae_lower, mae_upper = bootstrap_metric(\n",
        "        mean_absolute_error, x_values, y_values\n",
        "    )\n",
        "    if output:\n",
        "      print(f\"MAE:  {round(mae_mean, 2)} [{round(mae_lower,2)}, {round(mae_upper,2)}]\")\n",
        "\n",
        "    # bootstrap Pearson\n",
        "    pearson_mean, pearson_lower, pearson_upper = bootstrap_metric(\n",
        "        scipy.stats.pearsonr, x_values, y_values, p_value=True\n",
        "    )\n",
        "    if output:\n",
        "      print(\n",
        "          f\"Pearson correlation:  {round(pearson_mean, 2)} [{round(pearson_lower,2)}, {round(pearson_upper,2)}]\"\n",
        "      )\n",
        "\n",
        "    # bootstrap Spearman\n",
        "    spearman_mean, spearman_lower, spearman_upper = bootstrap_metric(\n",
        "        scipy.stats.spearmanr, x_values, y_values, p_value=True\n",
        "    )\n",
        "    if output:\n",
        "      print(\n",
        "          f\"Spearman's correlation:  {round(spearman_mean, 2)} [{round(spearman_lower,2)}, {round(spearman_upper,2)}]\"\n",
        "      )\n",
        "\n",
        "    # bootstrap Kendalltau\n",
        "    kendall_mean, kendall_lower, kendall_upper = bootstrap_metric(\n",
        "        scipy.stats.kendalltau, x_values, y_values, p_value=True\n",
        "    )\n",
        "    if output:\n",
        "      print(\n",
        "          f\"Kendalltau: {round(kendall_mean, 2)} [{round(kendall_lower,2)}, {round(kendall_upper,2)}]\"\n",
        "      )\n",
        "\n",
        "    return (\n",
        "        round(rmse_mean, 2),\n",
        "        round(mae_mean, 2),\n",
        "        round(pearson_mean, 2),\n",
        "        round(spearman_mean, 2),\n",
        "        round(kendall_mean, 2),\n",
        "    )"
      ],
      "metadata": {
        "id": "5COGvoh-cZs8"
      },
      "execution_count": 7,
      "outputs": []
    },
    {
      "cell_type": "markdown",
      "source": [
        "Results for the **OpenFF** data"
      ],
      "metadata": {
        "id": "I8l8t4-9cyi8"
      }
    },
    {
      "cell_type": "code",
      "source": [
        "print(f\"###### Without Corretion -- pure MM results ######\")\n",
        "calculate_statistics(data[\"Exp [kcal/mol]\"],data[\"MM-ASFE [kcal/mol]\"],output=True)\n",
        "print(f\"###### Corrected results ######\")\n",
        "calculate_statistics(data[\"Exp [kcal/mol]\"],data[\"ML-ASFE [kcal/mol]\"],output=True)"
      ],
      "metadata": {
        "colab": {
          "base_uri": "https://localhost:8080/"
        },
        "id": "6qHrMpXmcj7R",
        "outputId": "c69f82b1-d2de-4dda-a17d-251f8e38ea71"
      },
      "execution_count": 8,
      "outputs": [
        {
          "output_type": "stream",
          "name": "stdout",
          "text": [
            "###### Without Corretion -- pure MM results ######\n",
            "RMSE:  2.11 [1.9, 2.3]\n",
            "MAE:  1.83 [1.66, 2.0]\n",
            "Pearson correlation:  0.9 [0.88, 0.92]\n",
            "Spearman's correlation:  0.91 [0.88, 0.93]\n",
            "Kendalltau: 0.75 [0.7, 0.79]\n",
            "###### Corrected results ######\n",
            "RMSE:  1.92 [1.73, 2.13]\n",
            "MAE:  1.61 [1.46, 1.77]\n",
            "Pearson correlation:  0.93 [0.9, 0.96]\n",
            "Spearman's correlation:  0.92 [0.89, 0.94]\n",
            "Kendalltau: 0.76 [0.72, 0.8]\n"
          ]
        },
        {
          "output_type": "execute_result",
          "data": {
            "text/plain": [
              "(1.92, 1.61, 0.93, 0.92, 0.76)"
            ]
          },
          "metadata": {},
          "execution_count": 8
        }
      ]
    },
    {
      "cell_type": "markdown",
      "source": [
        "Results for the **CGenFF** data"
      ],
      "metadata": {
        "id": "xvPcQA_-c2fJ"
      }
    },
    {
      "cell_type": "code",
      "source": [
        "print(f\"###### Without Corretion -- pure MM results ######\")\n",
        "calculate_statistics(data[\"Exp [kcal/mol]\"],data[\"dG (TF) lrc\"],output=True)\n",
        "print(f\"###### Corrected results Jar ######\")\n",
        "calculate_statistics(data[\"Exp [kcal/mol]\"],data[\"Jar result\"],output=True)"
      ],
      "metadata": {
        "colab": {
          "base_uri": "https://localhost:8080/"
        },
        "id": "Bf_eOx-tcoqB",
        "outputId": "1fede5ba-8dd1-4f06-fb40-f4221345e5a4"
      },
      "execution_count": 9,
      "outputs": [
        {
          "output_type": "stream",
          "name": "stdout",
          "text": [
            "###### Without Corretion -- pure MM results ######\n",
            "RMSE:  3.1 [2.59, 3.61]\n",
            "MAE:  2.33 [2.01, 2.68]\n",
            "Pearson correlation:  0.77 [0.7, 0.83]\n",
            "Spearman's correlation:  0.76 [0.66, 0.84]\n",
            "Kendalltau: 0.6 [0.52, 0.68]\n",
            "###### Corrected results Jar ######\n",
            "RMSE:  2.97 [2.44, 3.53]\n",
            "MAE:  2.14 [1.85, 2.48]\n",
            "Pearson correlation:  0.81 [0.72, 0.87]\n",
            "Spearman's correlation:  0.76 [0.64, 0.84]\n",
            "Kendalltau: 0.6 [0.51, 0.69]\n"
          ]
        },
        {
          "output_type": "execute_result",
          "data": {
            "text/plain": [
              "(2.97, 2.14, 0.81, 0.76, 0.6)"
            ]
          },
          "metadata": {},
          "execution_count": 9
        }
      ]
    },
    {
      "cell_type": "code",
      "source": [
        "data[\"EXS correction\"] = np.abs(data[\"ML-ASFE [kcal/mol]\"]-data[\"MM-ASFE [kcal/mol]\"])\n"
      ],
      "metadata": {
        "id": "IXYasDKec_WW"
      },
      "execution_count": 10,
      "outputs": []
    },
    {
      "cell_type": "code",
      "source": [
        "results = {}\n",
        "results_cgenff = {}\n",
        "results_cgenff_crooks = {}\n",
        "mae_results = {}\n",
        "mae_results_cgenff = {}\n",
        "mae_results_cgenff_crooks = {}\n",
        "for i in range(0,6,1):\n",
        "  i = i/10\n",
        "  reducedData = data.drop(data[np.abs(data['EXS correction']) < i ].index)\n",
        "  reducedData = reducedData.drop(reducedData[np.abs(reducedData['Jar correction']) < i ].index)\n",
        "  ###### Without Corretion -- pure MM results ######\n",
        "  rmse0,mae0,_,_,_ = calculate_statistics(reducedData[\"Exp [kcal/mol]\"],reducedData[\"MM-ASFE [kcal/mol]\"])\n",
        "  Crmse0,Cmae0,_,_,_ = calculate_statistics(reducedData[\"Exp [kcal/mol]\"],reducedData[\"dG (TF) lrc\"])\n",
        "  ###### Corrected results ######\n",
        "  rmse1,mae1,_,_,_ = calculate_statistics(reducedData[\"Exp [kcal/mol]\"],reducedData[\"ML-ASFE [kcal/mol]\"])\n",
        "  Crmse1,Cmae1,_,_,_ = calculate_statistics(reducedData[\"Exp [kcal/mol]\"],reducedData[\"Jar result\"])\n",
        "  CrooksRmse1,CrooksMae1,_,_,_ = calculate_statistics(reducedData[\"Exp [kcal/mol]\"],reducedData[\"Crooks result\"])\n",
        "  results[i] = rmse0-rmse1,len(reducedData)\n",
        "  results_cgenff[i] = Crmse0-Crmse1,len(reducedData)\n",
        "  results_cgenff_crooks[i] = Crmse0 - CrooksRmse1\n",
        "  mae_results[i] = mae0-mae1,len(reducedData)\n",
        "  mae_results_cgenff[i] = Cmae0-Cmae1,len(reducedData)\n",
        "  mae_results_cgenff_crooks[i] = Cmae0 - CrooksMae1"
      ],
      "metadata": {
        "id": "BFgM2QmMdQcf"
      },
      "execution_count": 11,
      "outputs": []
    },
    {
      "cell_type": "code",
      "source": [
        "fig, ax1 = plt.subplots(1,2, figsize=(11, 4),sharex=True)\n",
        "fig.subplots_adjust(wspace=0.3)\n",
        "ax1[0].scatter(results.keys(),[item[0] for item in results.values()], label = \"OpenFF\")\n",
        "ax1[0].scatter(results_cgenff.keys(),[item[0] for item in results_cgenff.values()],marker =\"v\", label = \"CGenFF- Jar\")\n",
        "ax1[0].scatter(results_cgenff_crooks.keys(),results_cgenff_crooks.values(), marker = \"v\", label = \"CGenFF- Crooks\")\n",
        "ax1[0].set_ylabel(\"Decrease in kcal/mol\")\n",
        "ax1[0].set_title(\"RMSE\")\n",
        "ax1[0].set_xlabel(\"Minimal absolute correction (kcal/mol)\")\n",
        "ax2 = ax1[0].twinx()\n",
        "ax2.scatter(results.keys(),[item[1] for item in results.values()],marker=\"x\",color=\"black\",label=\"# of molecules\",alpha=0.5)\n",
        "ax2.set_ylabel(\"# of molceules\")\n",
        "ax1[0].legend(frameon=True,loc=\"upper center\")\n",
        "\n",
        "ax1[1].scatter(mae_results.keys(),[item[0] for item in mae_results.values()], label = \"OpenFF\")\n",
        "ax1[1].scatter(mae_results_cgenff.keys(),[item[0] for item in mae_results_cgenff.values()],marker =\"v\", label = \"CGenFF- Jar\")\n",
        "ax1[1].scatter(mae_results_cgenff_crooks.keys(),mae_results_cgenff_crooks.values(), marker = \"v\", label = \"CGenFF- Crooks\")\n",
        "ax1[1].set_ylabel(\"Decrease in kcal/mol\")\n",
        "ax1[1].set_xlabel(\"Minimal absolute correction\")\n",
        "ax1[1].set_title(\"MAE\")"
      ],
      "metadata": {
        "colab": {
          "base_uri": "https://localhost:8080/",
          "height": 427
        },
        "id": "88ZI6ed-iKCD",
        "outputId": "3d6c49c5-0bf0-4c2c-a559-31a67cdbe209"
      },
      "execution_count": null,
      "outputs": [
        {
          "output_type": "execute_result",
          "data": {
            "text/plain": [
              "Text(0.5, 1.0, 'MAE')"
            ]
          },
          "metadata": {},
          "execution_count": 10
        },
        {
          "output_type": "display_data",
          "data": {
            "text/plain": [
              "<Figure size 1100x400 with 3 Axes>"
            ],
            "image/png": "[encoded data removed]"
          },
          "metadata": {}
        }
      ]
    },
    {
      "cell_type": "code",
      "source": [
        "!pip install rdkit"
      ],
      "metadata": {
        "colab": {
          "base_uri": "https://localhost:8080/"
        },
        "id": "OqFtZXGuyNkT",
        "outputId": "138c94ff-969d-4e49-e039-43a9f94d7944"
      },
      "execution_count": 16,
      "outputs": [
        {
          "output_type": "stream",
          "name": "stdout",
          "text": [
            "Collecting rdkit\n",
            "  Downloading rdkit-2023.3.3-cp310-cp310-manylinux_2_17_x86_64.manylinux2014_x86_64.whl (29.7 MB)\n",
            "\u001b[2K     \u001b[90m━━━━━━━━━━━━━━━━━━━━━━━━━━━━━━━━━━━━━━━━\u001b[0m \u001b[32m29.7/29.7 MB\u001b[0m \u001b[31m39.6 MB/s\u001b[0m eta \u001b[36m0:00:00\u001b[0m\n",
            "\u001b[?25hRequirement already satisfied: numpy in /usr/local/lib/python3.10/dist-packages (from rdkit) (1.23.5)\n",
            "Requirement already satisfied: Pillow in /usr/local/lib/python3.10/dist-packages (from rdkit) (9.4.0)\n",
            "Installing collected packages: rdkit\n",
            "Successfully installed rdkit-2023.3.3\n"
          ]
        }
      ]
    },
    {
      "cell_type": "code",
      "source": [
        "from rdkit import Chem\n",
        "from rdkit.Chem import AllChem\n",
        "from collections import OrderedDict\n",
        "import numpy as np\n",
        "from rdkit.Chem import rdMolDescriptors\n",
        "from rdkit.Chem import GraphDescriptors\n",
        "from rdkit.Chem import rdDistGeom, rdForceFieldHelpers"
      ],
      "metadata": {
        "id": "z8HoZiMzK-OA"
      },
      "execution_count": 17,
      "outputs": []
    },
    {
      "cell_type": "code",
      "source": [
        "def GenerateConformers(mol, numConfs):\n",
        "    # Add Hydrogens to the skeleton\n",
        "    molecule = Chem.AddHs(mol)\n",
        "\n",
        "    conformerIntegers = []\n",
        "\n",
        "    # Embed and optimize the conformers\n",
        "    conformers = rdDistGeom.EmbedMultipleConfs(molecule, numConfs, pruneRmsThresh=0.5, numThreads=8)\n",
        "    optimized_and_energies =  rdForceFieldHelpers.MMFFOptimizeMoleculeConfs(molecule, maxIters=600, numThreads=8, nonBondedThresh=100.0)\n",
        "\n",
        "    EnergyDictionaryWithIDAsKey = {}\n",
        "    FinalConformersToUse = {}\n",
        "\n",
        "    # Only keep the conformers which were successfully fully optimized\n",
        "    for conformer in conformers:\n",
        "        optimized, energy = optimized_and_energies[conformer]\n",
        "        if optimized == 0:\n",
        "            EnergyDictionaryWithIDAsKey[conformer] = energy\n",
        "            conformerIntegers.append(conformer)\n",
        "\n",
        "    # Keep the lowest energy conformer\n",
        "    lowestEnergy = min(EnergyDictionaryWithIDAsKey.values())\n",
        "\n",
        "    for k, v in EnergyDictionaryWithIDAsKey.items():\n",
        "        if v == lowestEnergy:\n",
        "            lowestEnergyConformerID = k\n",
        "\n",
        "    FinalConformersToUse[lowestEnergyConformerID] = lowestEnergy\n",
        "\n",
        "    # Remove Hydrogens to speed up substructure matching\n",
        "    molecule = AllChem.RemoveHs(molecule)\n",
        "\n",
        "    # Find all substructure matches of the molecule with itself, to account for symmetry\n",
        "    matches = molecule.GetSubstructMatches(molecule, uniquify=False)\n",
        "    maps = [list(enumerate(match)) for match in matches]\n",
        "\n",
        "    # Loop over conformers other than the lowest energy one\n",
        "    for conformerID in EnergyDictionaryWithIDAsKey.keys():\n",
        "        okayToAdd = True\n",
        "\n",
        "        # Loop over reference conformers already added to list\n",
        "        for finalConformerID in FinalConformersToUse.keys():\n",
        "\n",
        "            # Calculate the best RMS of this conformer with the reference conformer in the list\n",
        "            RMS = AllChem.GetBestRMS(molecule, molecule, finalConformerID, conformerID, maps)\n",
        "\n",
        "            # Do not add if a match is found with a reference conformer\n",
        "            if RMS < 1.0:\n",
        "                okayToAdd = False\n",
        "                break\n",
        "\n",
        "        # Add the conformer if the RMS is greater than 1.0 for every reference conformer\n",
        "        if okayToAdd:\n",
        "            FinalConformersToUse[conformerID] = EnergyDictionaryWithIDAsKey[conformerID]\n",
        "\n",
        "    # Sort the conformers by energy\n",
        "    sortedDictionary = OrderedDict(sorted(FinalConformersToUse.items(), key=lambda t: t[1]))\n",
        "\n",
        "    energies = [val for val in sortedDictionary.values()]\n",
        "\n",
        "    return energies\n",
        "\n",
        "def CalcConf20(energyList):\n",
        "    energyDescriptor = 0\n",
        "\n",
        "    relativeEnergies = np.array(energyList) - energyList[0]\n",
        "\n",
        "    # Only look at the energies of conformers other than the global minimum\n",
        "    for energy in relativeEnergies[1:]:\n",
        "        # Optimize lower and upper energy limits for conformer energy\n",
        "        if 0 <= energy < 20:\n",
        "            energyDescriptor += 1\n",
        "\n",
        "    return energyDescriptor\n",
        "\n",
        "\n",
        "def CalcConf20(molecule):\n",
        "\n",
        "    energyList = GenerateConformers(molecule, 100)\n",
        "    energyDescriptor = 0\n",
        "\n",
        "    relativeEnergies = np.array(energyList) - energyList[0]\n",
        "\n",
        "    # Only look at the energies of conformers other than the global minimum\n",
        "    for energy in relativeEnergies[1:]:\n",
        "        # Optimize lower and upper energy limits for conformer energy\n",
        "        if 0 <= energy < 20:\n",
        "            energyDescriptor += 1\n",
        "\n",
        "    return energyDescriptor\n"
      ],
      "metadata": {
        "id": "ByW0a8IIKsDM"
      },
      "execution_count": 18,
      "outputs": []
    },
    {
      "cell_type": "code",
      "source": [
        "data[\"MM-ML\"] = np.abs(data[\"MM-ASFE [kcal/mol]\"]-data[\"ML-ASFE [kcal/mol]\"])"
      ],
      "metadata": {
        "id": "2T_FXD6-ylfJ"
      },
      "execution_count": 19,
      "outputs": []
    },
    {
      "cell_type": "code",
      "source": [
        "data.loc[:, \"numRotBonds\"] = np.nan\n",
        "data.loc[:, \"hallkier\"] = np.nan\n",
        "data.loc[:, \"conf20\"] = np.nan\n",
        "\n",
        "numRotBonds = {}\n",
        "for index, row in data.iterrows():\n",
        "    try:\n",
        "      smi = row[\" SMILES\"].strip()\n",
        "      correction = row[\"MM-ML\"]\n",
        "      mol = Chem.MolFromSmiles(smi)\n",
        "      # display(mol)\n",
        "      rotBonds = rdMolDescriptors.CalcNumRotatableBonds(mol)\n",
        "      hallkier = GraphDescriptors.HallKierAlpha(mol)\n",
        "      conf20 = CalcConf20(mol)\n",
        "      data.loc[index, \"numRotBonds\"] = rotBonds\n",
        "      data.loc[index, \"hallkier\"] = hallkier\n",
        "      data.loc[index, \"conf20\"] = conf20\n",
        "      # print(rotBonds)\n",
        "      try:\n",
        "          numRotBonds[rotBonds].append(correction)\n",
        "\n",
        "      except KeyError:\n",
        "          numRotBonds[rotBonds] = []\n",
        "          numRotBonds[rotBonds].append(correction)\n",
        "    except AttributeError:\n",
        "      pass"
      ],
      "metadata": {
        "id": "tU-xrf6ox1-n"
      },
      "execution_count": 20,
      "outputs": []
    },
    {
      "cell_type": "code",
      "source": [
        "results = {}\n",
        "results_cgenff = {}\n",
        "results_cgenff_crooks = {}\n",
        "mae_results = {}\n",
        "mae_results_cgenff = {}\n",
        "mae_results_cgenff_crooks = {}\n",
        "for i in range(0,8):\n",
        "  reducedData = data.drop(data[data['numRotBonds'] < i ].index)\n",
        "  reducedData = reducedData.drop(reducedData[np.abs(reducedData['Jar correction']) < 0.1 ].index)\n",
        "  reducedData = reducedData.drop(reducedData[np.abs(reducedData['EXS correction']) < 0.1 ].index)\n",
        "  ###### Without Corretion -- pure MM results ######\n",
        "  rmse0,mae0,_,_,_ = calculate_statistics(reducedData[\"Exp [kcal/mol]\"],reducedData[\"MM-ASFE [kcal/mol]\"])\n",
        "  Crmse0,Cmae0,_,_,_ = calculate_statistics(reducedData[\"Exp [kcal/mol]\"],reducedData[\"dG (TF) lrc\"])\n",
        "  ###### Corrected results ######\n",
        "  rmse1,mae1,_,_,_ = calculate_statistics(reducedData[\"Exp [kcal/mol]\"],reducedData[\"ML-ASFE [kcal/mol]\"])\n",
        "  Crmse1,Cmae1,_,_,_ = calculate_statistics(reducedData[\"Exp [kcal/mol]\"],reducedData[\"Jar result\"])\n",
        "  CrooksRmse1,CrooksMae1,_,_,_ = calculate_statistics(reducedData[\"Exp [kcal/mol]\"],reducedData[\"Crooks result\"])\n",
        "  mae_results[i] = mae0-mae1,len(reducedData)\n",
        "  mae_results_cgenff[i] = Cmae0-Cmae1,len(reducedData)\n",
        "  mae_results_cgenff_crooks[i] = Cmae0 - CrooksMae1\n",
        "  results[i] = rmse0-rmse1,len(reducedData)\n",
        "  results_cgenff[i] = rmse0-Crmse1,len(reducedData)\n",
        "  results_cgenff_crooks[i] = Crmse0 - CrooksRmse1"
      ],
      "metadata": {
        "colab": {
          "base_uri": "https://localhost:8080/"
        },
        "id": "8AN8VlqfySl9",
        "outputId": "12e5fbb0-102e-44b1-c160-755785abda2d"
      },
      "execution_count": 24,
      "outputs": [
        {
          "output_type": "stream",
          "name": "stderr",
          "text": [
            "/usr/local/lib/python3.10/dist-packages/scipy/stats/_stats_py.py:5445: ConstantInputWarning: An input array is constant; the correlation coefficient is not defined.\n",
            "  warnings.warn(stats.ConstantInputWarning(warn_msg))\n",
            "/usr/local/lib/python3.10/dist-packages/scipy/stats/_stats_py.py:4781: ConstantInputWarning: An input array is constant; the correlation coefficient is not defined.\n",
            "  warnings.warn(stats.ConstantInputWarning(msg))\n",
            "/usr/local/lib/python3.10/dist-packages/scipy/stats/_stats_py.py:4781: ConstantInputWarning: An input array is constant; the correlation coefficient is not defined.\n",
            "  warnings.warn(stats.ConstantInputWarning(msg))\n",
            "/usr/local/lib/python3.10/dist-packages/scipy/stats/_stats_py.py:5445: ConstantInputWarning: An input array is constant; the correlation coefficient is not defined.\n",
            "  warnings.warn(stats.ConstantInputWarning(warn_msg))\n",
            "/usr/local/lib/python3.10/dist-packages/scipy/stats/_stats_py.py:4781: ConstantInputWarning: An input array is constant; the correlation coefficient is not defined.\n",
            "  warnings.warn(stats.ConstantInputWarning(msg))\n",
            "/usr/local/lib/python3.10/dist-packages/scipy/stats/_stats_py.py:5445: ConstantInputWarning: An input array is constant; the correlation coefficient is not defined.\n",
            "  warnings.warn(stats.ConstantInputWarning(warn_msg))\n",
            "/usr/local/lib/python3.10/dist-packages/scipy/stats/_stats_py.py:4781: ConstantInputWarning: An input array is constant; the correlation coefficient is not defined.\n",
            "  warnings.warn(stats.ConstantInputWarning(msg))\n",
            "/usr/local/lib/python3.10/dist-packages/scipy/stats/_stats_py.py:5445: ConstantInputWarning: An input array is constant; the correlation coefficient is not defined.\n",
            "  warnings.warn(stats.ConstantInputWarning(warn_msg))\n",
            "/usr/local/lib/python3.10/dist-packages/scipy/stats/_stats_py.py:4781: ConstantInputWarning: An input array is constant; the correlation coefficient is not defined.\n",
            "  warnings.warn(stats.ConstantInputWarning(msg))\n",
            "/usr/local/lib/python3.10/dist-packages/scipy/stats/_stats_py.py:5445: ConstantInputWarning: An input array is constant; the correlation coefficient is not defined.\n",
            "  warnings.warn(stats.ConstantInputWarning(warn_msg))\n",
            "/usr/local/lib/python3.10/dist-packages/scipy/stats/_stats_py.py:4781: ConstantInputWarning: An input array is constant; the correlation coefficient is not defined.\n",
            "  warnings.warn(stats.ConstantInputWarning(msg))\n",
            "/usr/local/lib/python3.10/dist-packages/scipy/stats/_stats_py.py:5445: ConstantInputWarning: An input array is constant; the correlation coefficient is not defined.\n",
            "  warnings.warn(stats.ConstantInputWarning(warn_msg))\n"
          ]
        }
      ]
    },
    {
      "cell_type": "code",
      "source": [
        "fig, ax1 = plt.subplots(1,2, figsize=(11, 4),sharex=True)\n",
        "fig.subplots_adjust(wspace=0.4)\n",
        "ax1[0].scatter(results.keys(),[item[0] for item in results.values()], label = \"OpenFF\")\n",
        "ax1[0].scatter(results_cgenff.keys(),[item[0] for item in results_cgenff.values()],marker =\"v\", label = \"CGenFF- Jar\")\n",
        "ax1[0].scatter(results_cgenff_crooks.keys(),results_cgenff_crooks.values(), marker = \"v\", label = \"CGenFF- Crooks\")\n",
        "ax1[0].set_ylabel(\"Decrease in kcal/mol\")\n",
        "ax1[0].set_title(\"RMSE\")\n",
        "ax1[0].set_xlabel(\"Minimum number of rotatable bonds\")\n",
        "ax2 = ax1[0].twinx()\n",
        "ax2.scatter(results.keys(),[item[1] for item in results.values()],marker=\"x\",color=\"black\",label=\"# of molecules\",alpha=0.5)\n",
        "ax2.set_ylabel(\"# of molceules\")\n",
        "ax1[0].axhline(0,color=\"black\",linestyle=\"dashed\")\n",
        "ax1[0].legend(frameon=False,loc=\"lower left\")\n",
        "\n",
        "ax1[1].scatter(mae_results.keys(),[item[0] for item in mae_results.values()], label = \"OpenFF\")\n",
        "ax1[1].scatter(mae_results_cgenff.keys(),[item[0] for item in mae_results_cgenff.values()],marker =\"v\", label = \"CGenFF- Jar\")\n",
        "ax1[1].scatter(mae_results_cgenff_crooks.keys(),mae_results_cgenff_crooks.values(), marker = \"v\", label = \"CGenFF- Crooks\")\n",
        "ax1[1].set_ylabel(\"Decrease in kcal/mol\")\n",
        "ax1[1].axhline(0,color=\"black\",linestyle=\"dashed\")\n",
        "ax1[1].set_xlabel(\"Minimum number of rotatable bonds\")\n",
        "ax1[1].set_title(\"MAE\")"
      ],
      "metadata": {
        "colab": {
          "base_uri": "https://localhost:8080/",
          "height": 427
        },
        "id": "W4JHpkwZyheE",
        "outputId": "165b77f3-4568-49ab-b063-f77834bf785c"
      },
      "execution_count": 25,
      "outputs": [
        {
          "output_type": "execute_result",
          "data": {
            "text/plain": [
              "Text(0.5, 1.0, 'MAE')"
            ]
          },
          "metadata": {},
          "execution_count": 25
        },
        {
          "output_type": "display_data",
          "data": {
            "text/plain": [
              "<Figure size 1100x400 with 3 Axes>"
            ],
            "image/png": "[encoded data removed]"
          },
          "metadata": {}
        }
      ]
    },
    {
      "cell_type": "code",
      "source": [
        "mae_results_cgenff"
      ],
      "metadata": {
        "id": "vZCkdA14qktn",
        "outputId": "fb7d3837-381a-4555-ce85-cb0db0a8b07b",
        "colab": {
          "base_uri": "https://localhost:8080/"
        }
      },
      "execution_count": 45,
      "outputs": [
        {
          "output_type": "execute_result",
          "data": {
            "text/plain": [
              "{0: (0.31999999999999984, 85),\n",
              " 1: (0.3599999999999999, 56),\n",
              " 2: (0.1499999999999999, 43),\n",
              " 3: (0.1599999999999997, 29),\n",
              " 4: (0.2200000000000002, 19),\n",
              " 5: (0.07000000000000028, 11),\n",
              " 6: (-0.6600000000000001, 6),\n",
              " 7: (-1.2800000000000002, 4)}"
            ]
          },
          "metadata": {},
          "execution_count": 45
        }
      ]
    },
    {
      "cell_type": "code",
      "source": [
        "reduced_data = data.drop(data[data['numRotBonds'] < 5 ].index)\n",
        "reducedData = reducedData.drop(reducedData[np.abs(reducedData['Jar correction']) < 0.1 ].index)\n",
        "reducedData = reducedData.drop(reducedData[np.abs(reducedData['EXS correction']) < 0.1 ].index)\n",
        "rmse0,mae0,_,_,_ = calculate_statistics(reducedData[\"Exp [kcal/mol]\"],reducedData[\"MM-ASFE [kcal/mol]\"])\n",
        "Crmse0,Cmae0,_,_,_ = calculate_statistics(reducedData[\"Exp [kcal/mol]\"],reducedData[\"dG (TF) lrc\"])\n",
        "###### Corrected results ######\n",
        "rmse1,mae1,_,_,_ = calculate_statistics(reducedData[\"Exp [kcal/mol]\"],reducedData[\"ML-ASFE [kcal/mol]\"])\n",
        "Crmse1,Cmae1,_,_,_ = calculate_statistics(reducedData[\"Exp [kcal/mol]\"],reducedData[\"Jar result\"])\n",
        "CrooksRmse1,CrooksMae1,_,_,_ = calculate_statistics(reducedData[\"Exp [kcal/mol]\"],reducedData[\"Crooks result\"])\n"
      ],
      "metadata": {
        "id": "fEnETQkyp4vR",
        "outputId": "ed7dea47-b7d0-489e-e382-32ffdd42bf98",
        "colab": {
          "base_uri": "https://localhost:8080/"
        }
      },
      "execution_count": 33,
      "outputs": [
        {
          "output_type": "stream",
          "name": "stderr",
          "text": [
            "/usr/local/lib/python3.10/dist-packages/scipy/stats/_stats_py.py:4781: ConstantInputWarning: An input array is constant; the correlation coefficient is not defined.\n",
            "  warnings.warn(stats.ConstantInputWarning(msg))\n",
            "/usr/local/lib/python3.10/dist-packages/scipy/stats/_stats_py.py:5445: ConstantInputWarning: An input array is constant; the correlation coefficient is not defined.\n",
            "  warnings.warn(stats.ConstantInputWarning(warn_msg))\n",
            "/usr/local/lib/python3.10/dist-packages/scipy/stats/_stats_py.py:4781: ConstantInputWarning: An input array is constant; the correlation coefficient is not defined.\n",
            "  warnings.warn(stats.ConstantInputWarning(msg))\n",
            "/usr/local/lib/python3.10/dist-packages/scipy/stats/_stats_py.py:5445: ConstantInputWarning: An input array is constant; the correlation coefficient is not defined.\n",
            "  warnings.warn(stats.ConstantInputWarning(warn_msg))\n",
            "/usr/local/lib/python3.10/dist-packages/scipy/stats/_stats_py.py:4781: ConstantInputWarning: An input array is constant; the correlation coefficient is not defined.\n",
            "  warnings.warn(stats.ConstantInputWarning(msg))\n",
            "/usr/local/lib/python3.10/dist-packages/scipy/stats/_stats_py.py:5445: ConstantInputWarning: An input array is constant; the correlation coefficient is not defined.\n",
            "  warnings.warn(stats.ConstantInputWarning(warn_msg))\n",
            "/usr/local/lib/python3.10/dist-packages/scipy/stats/_stats_py.py:4781: ConstantInputWarning: An input array is constant; the correlation coefficient is not defined.\n",
            "  warnings.warn(stats.ConstantInputWarning(msg))\n",
            "/usr/local/lib/python3.10/dist-packages/scipy/stats/_stats_py.py:5445: ConstantInputWarning: An input array is constant; the correlation coefficient is not defined.\n",
            "  warnings.warn(stats.ConstantInputWarning(warn_msg))\n",
            "/usr/local/lib/python3.10/dist-packages/scipy/stats/_stats_py.py:4781: ConstantInputWarning: An input array is constant; the correlation coefficient is not defined.\n",
            "  warnings.warn(stats.ConstantInputWarning(msg))\n",
            "/usr/local/lib/python3.10/dist-packages/scipy/stats/_stats_py.py:5445: ConstantInputWarning: An input array is constant; the correlation coefficient is not defined.\n",
            "  warnings.warn(stats.ConstantInputWarning(warn_msg))\n"
          ]
        }
      ]
    },
    {
      "cell_type": "code",
      "source": [
        "Cmae0 -Cmae1"
      ],
      "metadata": {
        "id": "lddBeUZ0rTPf",
        "outputId": "89c8b554-ff5b-437f-c540-7cbd21f225cb",
        "colab": {
          "base_uri": "https://localhost:8080/"
        }
      },
      "execution_count": 44,
      "outputs": [
        {
          "output_type": "execute_result",
          "data": {
            "text/plain": [
              "-1.2800000000000002"
            ]
          },
          "metadata": {},
          "execution_count": 44
        }
      ]
    },
    {
      "cell_type": "code",
      "source": [
        "results = {}\n",
        "results_cgenff = {}\n",
        "results_cgenff_crooks = {}\n",
        "\n",
        "for i in range(0,6,1):\n",
        "  i = i/10\n",
        "  reducedData = data.drop(data[np.abs(data['EXS correction']) < i ].index)\n",
        "# for i in range(0,8):\n",
        "#   reducedData = data.drop(data[data['numRotBonds'] < i ].index)\n",
        "\n",
        "  rightDirection = 0\n",
        "  wrongDirection = 0\n",
        "\n",
        "  for index,row in reducedData.iterrows():\n",
        "    deviation_mm = (np.abs(row[\"MM-ASFE [kcal/mol]\"]-row[\"Exp [kcal/mol]\"]))\n",
        "    deviation_corrected = (np.abs(row[\"ML-ASFE [kcal/mol]\"]-row[\"Exp [kcal/mol]\"]))\n",
        "    if deviation_mm > deviation_corrected:\n",
        "      rightDirection += 1\n",
        "    else:\n",
        "      wrongDirection += 1\n",
        "\n",
        "    results[i] = round(rightDirection/(rightDirection+wrongDirection)*100,2)\n",
        "\n",
        "    rightDirection = 0\n",
        "    wrongDirection = 0\n",
        "\n",
        "    for index,row in reducedData.iterrows():\n",
        "      deviation_mm = (np.abs(row[\"dG (TF) lrc\"]-row[\"Exp [kcal/mol]\"]))\n",
        "      deviation_corrected = (np.abs(row[\"Jar result\"]-row[\"Exp [kcal/mol]\"]))\n",
        "      if deviation_mm > deviation_corrected:\n",
        "        rightDirection += 1\n",
        "      else:\n",
        "        wrongDirection += 1\n",
        "\n",
        "      results_cgenff[i] = round(rightDirection/(rightDirection+wrongDirection)*100,2)\n",
        "\n",
        "    rightDirection = 0\n",
        "    wrongDirection = 0\n",
        "\n",
        "    for index,row in reducedData.iterrows():\n",
        "      deviation_mm = (np.abs(row[\"dG (TF) lrc\"]-row[\"Exp [kcal/mol]\"]))\n",
        "      deviation_corrected = (np.abs(row[\"Crooks result\"]-row[\"Exp [kcal/mol]\"]))\n",
        "      if deviation_mm > deviation_corrected:\n",
        "        rightDirection += 1\n",
        "      else:\n",
        "        wrongDirection += 1\n",
        "\n",
        "      results_cgenff_crooks[i] = round(rightDirection/(rightDirection+wrongDirection)*100,2)\n"
      ],
      "metadata": {
        "id": "ZuEeC0di5jhe"
      },
      "execution_count": null,
      "outputs": []
    },
    {
      "cell_type": "code",
      "source": [
        "fig, ax1 = plt.subplots()\n",
        "ax1.scatter(results.keys(),results.values(), label = \"OpenFF\")\n",
        "ax1.scatter(results_cgenff.keys(),results_cgenff.values(),marker =\"v\", label = \"CGenFF - Jar\")\n",
        "ax1.scatter(results_cgenff_crooks.keys(),results_cgenff_crooks.values(),marker =\"^\", label = \"CGenFF - Crooks\",alpha=0.5)\n",
        "ax1.set_ylabel(\"prediction in correct direction (%)\")\n",
        "ax1.legend()"
      ],
      "metadata": {
        "colab": {
          "base_uri": "https://localhost:8080/",
          "height": 447
        },
        "id": "BKJuRLiJT5p3",
        "outputId": "c858a460-cb7b-4980-cb40-01d98b150c8f"
      },
      "execution_count": null,
      "outputs": [
        {
          "output_type": "execute_result",
          "data": {
            "text/plain": [
              "<matplotlib.legend.Legend at 0x7d9e2dd27280>"
            ]
          },
          "metadata": {},
          "execution_count": 21
        },
        {
          "output_type": "display_data",
          "data": {
            "text/plain": [
              "<Figure size 640x480 with 1 Axes>"
            ],
            "image/png": "[encoded data removed]"
          },
          "metadata": {}
        }
      ]
    },
    {
      "cell_type": "code",
      "source": [
        "!pip install molcomplib"
      ],
      "metadata": {
        "id": "f0mlzDscLR_V",
        "colab": {
          "base_uri": "https://localhost:8080/"
        },
        "outputId": "46b290e1-d0a0-4845-9074-c115ce4f2176"
      },
      "execution_count": null,
      "outputs": [
        {
          "output_type": "stream",
          "name": "stdout",
          "text": [
            "Collecting molcomplib\n",
            "  Downloading molcomplib-1.0.1-py3-none-any.whl (15.6 MB)\n",
            "\u001b[2K     \u001b[90m━━━━━━━━━━━━━━━━━━━━━━━━━━━━━━━━━━━━━━━━\u001b[0m \u001b[32m15.6/15.6 MB\u001b[0m \u001b[31m14.5 MB/s\u001b[0m eta \u001b[36m0:00:00\u001b[0m\n",
            "\u001b[?25hRequirement already satisfied: rdkit in /usr/local/lib/python3.10/dist-packages (from molcomplib) (2023.3.3)\n",
            "Requirement already satisfied: numpy in /usr/local/lib/python3.10/dist-packages (from molcomplib) (1.23.5)\n",
            "Requirement already satisfied: Pillow in /usr/local/lib/python3.10/dist-packages (from rdkit->molcomplib) (9.4.0)\n",
            "Installing collected packages: molcomplib\n",
            "Successfully installed molcomplib-1.0.1\n"
          ]
        }
      ]
    },
    {
      "cell_type": "code",
      "source": [
        "# from molcomplib import MolCompass\n",
        "# compass = MolCompass()\n",
        "# list_of_compounds = [smi.strip() for smi in data[\" SMILES\"]]\n",
        "# res = np.vstack([compass(compound) for compound in list_of_compounds])"
      ],
      "metadata": {
        "id": "guvyXBEOFQYD"
      },
      "execution_count": null,
      "outputs": []
    },
    {
      "cell_type": "code",
      "source": [
        "from molcomplib import MolCompass\n",
        "import plotly.express as px"
      ],
      "metadata": {
        "id": "8WyYECBGkys1"
      },
      "execution_count": null,
      "outputs": []
    },
    {
      "cell_type": "code",
      "source": [
        "data = pd.read_csv(\"sample_data/combinedDataset.csv\")\n",
        "data[\"Crooks correction\"] = np.abs(data[\"Crooks correction\"])\n",
        "data = data.sort_values(by=\"Crooks correction\")\n",
        "data = data[0:130]\n",
        "\n",
        "molcomp = MolCompass()\n",
        "df = pd.DataFrame({'smiles':[smi.strip() for smi in data[\" SMILES\"]]})\n",
        "res = molcomp.process(df)\n",
        "\n",
        "fig = px.scatter(res,x=\"x\",y=\"y\",color=np.abs(data[\"Crooks correction\"]),hover_name=data[\" SMILES\"],color_continuous_scale=px.colors.sequential.Bluered)\n",
        "fig.update_layout(width=800,height=600)\n",
        "fig.show()"
      ],
      "metadata": {
        "colab": {
          "base_uri": "https://localhost:8080/",
          "height": 617
        },
        "id": "9XGkKuHvrqxl",
        "outputId": "c4e92d01-b45e-45d3-94ca-48d2694df1e4"
      },
      "execution_count": null,
      "outputs": [
        {
          "output_type": "display_data",
          "data": {
            "text/html": [
              "<html>\n",
              "<head><meta charset=\"utf-8\" /></head>\n",
              "<body>\n",
              "    <div>            <script src=\"https://cdnjs.cloudflare.com/ajax/libs/mathjax/2.7.5/MathJax.js?config=TeX-AMS-MML_SVG\"></script><script type=\"text/javascript\">if (window.MathJax && window.MathJax.Hub && window.MathJax.Hub.Config) {window.MathJax.Hub.Config({SVG: {font: \"STIX-Web\"}});}</script>                <script type=\"text/javascript\">window.PlotlyConfig = {MathJaxConfig: 'local'};</script>\n",
              "        <script charset=\"utf-8\" src=\"https://cdn.plot.ly/plotly-2.24.1.min.js\"></script>                <div id=\"fa36ebbf-1472-4d9f-b571-def48231e390\" class=\"plotly-graph-div\" style=\"height:600px; width:800px;\"></div>            <script type=\"text/javascript\">                                    window.PLOTLYENV=window.PLOTLYENV || {};                                    if (document.getElementById(\"fa36ebbf-1472-4d9f-b571-def48231e390\")) {                    Plotly.newPlot(                        \"fa36ebbf-1472-4d9f-b571-def48231e390\",                        [{\"hovertemplate\":\"\\u003cb\\u003e%{hovertext}\\u003c\\u002fb\\u003e\\u003cbr\\u003e\\u003cbr\\u003ex=%{x}\\u003cbr\\u003ey=%{y}\\u003cbr\\u003ecolor=%{marker.color}\\u003cextra\\u003e\\u003c\\u002fextra\\u003e\",\"hovertext\":[\" CC(C)C(=O)C(C)C\",\" c1ccc(c(c1)C(F)(F)F)C(F)(F)F\",\" Cn1ccnc1\",\" C[C@@H](c1ccc2cc(ccc2c1)OC)C(=O)O\",\" CCSC\",\" Cc1c(c(=O)n(c(=O)[nH]1)C(C)(C)C)Cl\",\" CCSSCC\",\" C[C@@H](c1cccc(c1)C(=O)c2ccccc2)C(=O)O\",\" CC1=CC(=O)CC(C1)(C)C\",\" NN\",\" CC(C)OC=O\",\" c1ccc2c(c1)C(=O)c3cccc(c3C2=O)N\",\" C=CCl\",\" CCSCC\",\" C(=C(F)F)(C(F)(F)F)F\",\" c1ccc-2c(c1)Cc3c2cccc3\",\" CC(=O)NC\",\" C(=C\\u002fCl)\\\\Cl\",\" CS(=O)(=O)C\",\" c1ccc2cc(ccc2c1)O\",\" c1ccc2c(c1)CCC2\",\" c1(=O)[nH]c(=O)[nH]c(=O)[nH]1\",\" Cn1cnc2c1c(=O)n(c(=O)n2C)C\",\" CCNc1nc(nc(n1)SC)NC(C)C\",\" Cc1c[nH]cn1\",\" C[N+](=O)[O-]\",\" CC(C)(C)OC\",\" CC(=O)c1ccc(cc1)OC\",\" Cc1cc(cnc1)C\",\" CCCSCCC\",\" CCCOC=O\",\" C[C@@H](c1ccc(cc1)CC(C)C)C(=O)O\",\" CC(C)SC(C)C\",\" C1CCOC1\",\" c1cc(ccc1[N+](=O)[O-])O\",\" C[C@@H](c1ccc(c(c1)F)c2ccccc2)C(=O)O\",\" COS(=O)(=O)C\",\" C(C(Cl)Cl)Cl\",\" CS(=O)(=O)Cl\",\" C([N+](=O)[O-])(Cl)(Cl)Cl\",\" c1ccc2c(c1)ccc3c2cccc3\",\" c1cc2ccc3cccc4c3c2c(c1)cc4\",\" c1ccc2c(c1)C(=O)c3c(ccc(c3C2=O)O)N\",\" c1ccc(c(c1)N)[N+](=O)[O-]\",\" c1(c(c(c(c(c1Cl)Cl)Cl)Cl)Cl)Cl\",\" c1cnccc1C#N\",\" CC(C)COC=O\",\" CSC\",\" C(CO[N+](=O)[O-])O\",\" CS(=O)C\",\" c1cc(cc(c1)O)[N+](=O)[O-]\",\" c1cc(c(cc1Cl)c2cc(c(c(c2)Cl)Cl)Cl)Cl\",\" CC(=O)N\",\" C(CCl)Cl\",\" CC(=O)N1CCCC1\",\" COCCO\",\" c1c(c(c(c(c1Cl)Cl)Cl)Cl)c2c(cc(c(c2Cl)Cl)Cl)Cl\",\" C1CC[S+2](C1)([O-])[O-]\",\" Cc1ccncc1C\",\" c1ccc(cc1)Cn2ccnc2\",\" CN(C)C(=O)c1ccc(cc1)[N+](=O)[O-]\",\" C1CCC(=O)C1\",\" c1c(c(=O)[nH]c(=O)[nH]1)C(F)(F)F\",\" Cc1cc(ccc1Cl)O\",\" CCOCCO\",\" CCCCOCCO\",\" CCNc1nc(nc(n1)SC)NC(C)(C)C\",\" CN(C)C(=O)c1ccc(cc1)OC\",\" C1CCC(CC1)O\",\" c1cc(c(cc1c2c(c(cc(c2Cl)Cl)Cl)Cl)Cl)Cl\",\" C1(C(C(C1(F)F)(F)F)(F)F)(F)F\",\" c1cc(ccc1C=O)O\",\" CCOC(=O)CCC(=O)OCC\",\" CNC\",\" COS(=O)(=O)OC\",\" CCc1cccc(c1)O\",\" CC[N+](=O)[O-]\",\" Cc1ccc(cc1)C(=O)N(C)C\",\" c1(c(c(c(c(c1Cl)Cl)Cl)Cl)Cl)N(=O)=O\",\" CCc1cccc(c1N(COC)C(=O)CCl)CC\",\" CCC(C)(C)O\",\" CCC[N+](=O)[O-]\",\" CCCC(C)(C)O\",\" CCCOCCO\",\" COC(C(Cl)Cl)(F)F\",\" CC(=O)O\",\" CC(C)(C)c1ccc(cc1)O\",\" CCCC[N+](=O)[O-]\",\" C1CCNC1\",\" CCCCOC[C@H](C)O\",\" C1CNCCN1\",\" c1ccc2c(c1)C(=O)NC2=O\",\" COC(c1ccccc1)(OC)OC\",\" Cc1cccc(c1C)O\",\" CCCCNCCCC\",\" CC(=CCC\\u002fC(=C\\\\CO)\\u002fC)C\",\" c1ccc2c(c1)Oc3c(cc(c(c3O2)Cl)Cl)Cl\",\" C1CNC1\",\" CCOC(=O)c1ccc(cc1)O\",\" c1ccc2c(c1)C(=O)c3ccc(cc3C2=O)N\",\" CCCOC(=O)c1ccc(cc1)O\",\" CCCCOC(=O)c1ccc(cc1)O\",\" CCNc1nc(nc(n1)Cl)NCC\",\" CCNCC\",\" CCCCCCN\",\" Cc1cccc(c1O)C\",\" Cc1ccc(c(c1)O)C\",\" Cc1ccc(c(c1)C)O\",\" [C@@H](C(F)(F)F)(OC(F)F)Cl\",\" CCOC(C)OCC\",\" CCC(=O)O\",\" C(CCCl)CCl\",\" CCCCN\",\" CCCCCCCCN\",\" c1ccc2c(c1)C(=O)c3c(ccc(c3C2=O)N)N\",\" C1CCNCC1\",\" c1c(c(=O)[nH]c(=O)[nH]1)Cl\",\" c1ccc(cc1)O[C@@H](C(F)F)F\",\" CCN\",\" CCCCCCCN\",\" c1ccc2cc(ccc2c1)N\",\" c1cc(cc(c1)[N+](=O)[O-])N\",\" CCCN\",\" CC(OC(=O)C)OC(=O)C\",\" c1cc(ccc1N)N(=O)=O\",\" c1cc(c(c(c1c2cc(c(c(c2Cl)Cl)Cl)Cl)Cl)Cl)Cl\",\" CCCCCN\",\" c1ccc(cc1)C(=O)N\",\" CCCCC[N+](=O)[O-]\",\" c1c(c(=O)[nH]c(=O)[nH]1)F\"],\"legendgroup\":\"\",\"marker\":{\"color\":[0.0,0.0,0.01,0.01,0.01,0.01,0.02,0.02,0.02,0.02,0.03,0.03,0.04,0.04,0.04,0.04,0.05,0.05,0.05,0.06,0.06,0.07,0.07,0.07,0.07,0.07,0.08,0.08,0.09,0.09,0.09,0.1,0.1,0.11,0.11,0.11,0.11,0.12,0.12,0.12,0.12,0.12,0.13,0.13,0.13,0.13,0.13,0.14,0.14,0.15,0.15,0.16,0.16,0.16,0.16,0.17,0.17,0.17,0.18,0.18,0.18,0.18,0.19,0.2,0.2,0.2,0.21,0.21,0.21,0.21,0.21,0.21,0.22,0.22,0.22,0.23,0.24,0.25,0.25,0.26,0.27,0.27,0.27,0.27,0.27,0.28,0.29,0.31,0.32,0.32,0.32,0.32,0.33,0.33,0.33,0.34,0.34,0.34,0.34,0.35,0.36,0.37,0.38,0.4,0.4,0.41,0.42,0.42,0.44,0.44,0.44,0.44,0.49,0.49,0.5,0.5,0.5,0.51,0.52,0.52,0.52,0.52,0.53,0.54,0.54,0.54,0.54,0.57,0.58,0.68],\"coloraxis\":\"coloraxis\",\"symbol\":\"circle\"},\"mode\":\"markers\",\"name\":\"\",\"orientation\":\"v\",\"showlegend\":false,\"x\":[0.3421484611051666,-33.43209819253106,-16.6318028993542,-26.950478633599044,-2.691976430323607,-16.97476256456833,-3.0445627161263973,-24.644284955078504,-2.363932821078125,-2.6049225538855656,-1.4910907502470785,-25.47817060389972,-4.378899934719528,-2.749292761441781,-3.444659756074776,-15.865892951153473,-0.07577397129338048,-5.4564049921793725,-3.1036190722727035,-33.80740138063044,-5.698620553220152,-40.5246037256706,-9.349450005793905,-38.95700672061326,-38.68617440892719,-2.3321058874091323,-2.9919299741196097,-25.550364688885683,-38.74631671841772,-3.120065490171605,-2.091463195978157,-5.579469541458136,-2.734350777513341,12.503256606018123,-31.08861124420755,-22.534344258264927,-3.672540410656718,-0.9002806048472858,-4.125146252867991,-3.572260431089898,-34.46233750830985,-36.74874463589205,-25.33262947906675,-34.19170320582937,-44.52942123208443,-35.86649497358666,-2.123170743075227,-2.6457886973705924,-2.070301214618867,-0.7922797324019379,-31.810600541365716,-32.61010283002601,0.16230371366152974,-2.400338628716666,9.733742791171137,-1.3057125699037435,-37.224757728988806,10.614855319191529,-38.018975226155,-20.235216669348482,-25.476238979359763,-5.966985433735245,-38.8798692604701,-33.958898599954345,-2.559454993398827,-2.6924484625065506,-39.77315785147044,-25.658127732858404,19.893196056113627,-32.82249359721132,3.8964792859860986,-33.95478405972884,-0.9979527673275648,-2.7808039031815173,-4.418991212230583,-31.171722305401403,-2.5867716495514577,-24.033370980864326,-33.47310241718348,-23.48027529966832,-1.8565440715295956,-3.1013462340994535,-1.234612422519842,-2.571551042314043,-2.8190408551577404,0.26066578923616346,-32.81890570225791,-2.4402771036488953,20.62307557506091,-2.3407424541634447,20.068506579452887,-15.76961137477764,-30.635146603937727,-33.82958759886365,-1.7021639204292787,-7.573790910045469,-35.4042615784001,18.356886423114453,-24.035822829123465,-20.979531650092284,-25.307716867630898,-25.028790954966773,-41.54758902727149,-2.463011054086098,-2.2257919774487624,-35.519947408551666,-33.62043501483221,-33.811020137052196,-5.406239301878339,-0.7143867215627948,0.7599344261518017,-2.8979246277528503,-2.035108838831425,-2.482503875517571,-25.311532874381328,19.348041248984167,-39.17861630230783,-30.6550688886435,-1.815662631787701,-2.285976380782297,-33.911884533610845,-30.970502364469304,-1.7966906632535764,-0.9801105795794347,-30.41423273784569,-37.016540593156634,-2.341172590878429,-24.24327679991392,-2.982371063778629,-39.174063500500765],\"xaxis\":\"x\",\"y\":[-34.41559237460969,-2.697861987260186,-0.644679450359765,-2.49723207544623,-37.1349446684206,19.574131757975664,-36.091891895015316,-7.759089754800399,29.642427860602027,-37.04310983638605,-36.7103917698826,9.550028497227526,-38.1336980197602,-36.892920758458715,-38.26091646878202,22.38097706421288,-35.771721436492285,-38.637243066374566,-37.699821681198245,-0.08052672044991172,20.273855283278454,2.747767031748041,23.07813404224668,16.26843708485289,0.39799795121888515,-37.53303610018919,-37.453327009373226,-6.592984223706027,5.772169767092141,-35.896101832997026,-35.98123105249795,-20.148990161965642,-37.730324477337334,-16.538344217155682,-6.625292058361213,0.13990069602665395,-37.32581596617594,-36.91891209926849,-36.90449664378782,-37.89247403511343,1.313592332844587,1.043283918105935,8.974948660181013,-0.8804996909646432,-2.561027189797103,5.736696667830578,-36.82180536901184,-36.687174936218355,-36.6520667779688,-35.762652186260866,-4.809800683068274,8.59320810174526,-35.09796207205076,-37.82138281941204,-1.9482723283482306,-36.09096835269839,4.696364384648628,-23.15885180132797,0.3954245587273446,9.750788213593166,-10.19287482164454,20.01808778874595,3.724205366345256,-1.8606149504303602,-36.25650466237333,-33.44357413837668,16.873116064922197,-7.7414420204066445,-9.834465017465732,6.239930151255266,-32.06127031497448,-7.772542899292118,-33.4113738431121,-37.38038755934842,-36.49555934827366,-3.139763905987782,-36.56834535401143,-9.183658365413375,8.008057588197566,-7.669660336615646,-36.77918092393611,-36.54226144349943,-36.43431796447464,-35.13314193686342,-38.023014510627625,-34.5868020570967,-5.2541831833893085,-35.434301374436345,-10.030125777242992,-32.5025906752616,-10.356142583534325,20.57659384719605,-4.249632639617182,-3.818592593325495,-33.49997096911791,-33.66483914552023,4.772722097002443,-10.3712783982603,-5.7503994525252695,12.981187648999873,-6.666556212459112,-6.377649501186604,16.48685403346829,-36.67612028099542,-32.716108824468535,-2.667202020369472,-3.7273830894707007,-4.464837591890027,-38.206814095364734,-37.24974730737391,-33.365989924299186,-35.74408927222618,-34.30262477993786,-32.63155210216838,10.248910582014716,-5.652599006462298,0.6866364334785052,-0.9840759694264651,-35.13050384897034,-32.705020619998855,0.006842058302172771,-4.602024082794451,-34.85062121913796,-35.0109507864817,-6.796523848807322,2.5187707284896255,-33.368601692093904,-9.340250475166318,-34.723250522333785,0.651975299424763],\"yaxis\":\"y\",\"type\":\"scatter\"}],                        {\"template\":{\"data\":{\"histogram2dcontour\":[{\"type\":\"histogram2dcontour\",\"colorbar\":{\"outlinewidth\":0,\"ticks\":\"\"},\"colorscale\":[[0.0,\"#0d0887\"],[0.1111111111111111,\"#46039f\"],[0.2222222222222222,\"#7201a8\"],[0.3333333333333333,\"#9c179e\"],[0.4444444444444444,\"#bd3786\"],[0.5555555555555556,\"#d8576b\"],[0.6666666666666666,\"#ed7953\"],[0.7777777777777778,\"#fb9f3a\"],[0.8888888888888888,\"#fdca26\"],[1.0,\"#f0f921\"]]}],\"choropleth\":[{\"type\":\"choropleth\",\"colorbar\":{\"outlinewidth\":0,\"ticks\":\"\"}}],\"histogram2d\":[{\"type\":\"histogram2d\",\"colorbar\":{\"outlinewidth\":0,\"ticks\":\"\"},\"colorscale\":[[0.0,\"#0d0887\"],[0.1111111111111111,\"#46039f\"],[0.2222222222222222,\"#7201a8\"],[0.3333333333333333,\"#9c179e\"],[0.4444444444444444,\"#bd3786\"],[0.5555555555555556,\"#d8576b\"],[0.6666666666666666,\"#ed7953\"],[0.7777777777777778,\"#fb9f3a\"],[0.8888888888888888,\"#fdca26\"],[1.0,\"#f0f921\"]]}],\"heatmap\":[{\"type\":\"heatmap\",\"colorbar\":{\"outlinewidth\":0,\"ticks\":\"\"},\"colorscale\":[[0.0,\"#0d0887\"],[0.1111111111111111,\"#46039f\"],[0.2222222222222222,\"#7201a8\"],[0.3333333333333333,\"#9c179e\"],[0.4444444444444444,\"#bd3786\"],[0.5555555555555556,\"#d8576b\"],[0.6666666666666666,\"#ed7953\"],[0.7777777777777778,\"#fb9f3a\"],[0.8888888888888888,\"#fdca26\"],[1.0,\"#f0f921\"]]}],\"heatmapgl\":[{\"type\":\"heatmapgl\",\"colorbar\":{\"outlinewidth\":0,\"ticks\":\"\"},\"colorscale\":[[0.0,\"#0d0887\"],[0.1111111111111111,\"#46039f\"],[0.2222222222222222,\"#7201a8\"],[0.3333333333333333,\"#9c179e\"],[0.4444444444444444,\"#bd3786\"],[0.5555555555555556,\"#d8576b\"],[0.6666666666666666,\"#ed7953\"],[0.7777777777777778,\"#fb9f3a\"],[0.8888888888888888,\"#fdca26\"],[1.0,\"#f0f921\"]]}],\"contourcarpet\":[{\"type\":\"contourcarpet\",\"colorbar\":{\"outlinewidth\":0,\"ticks\":\"\"}}],\"contour\":[{\"type\":\"contour\",\"colorbar\":{\"outlinewidth\":0,\"ticks\":\"\"},\"colorscale\":[[0.0,\"#0d0887\"],[0.1111111111111111,\"#46039f\"],[0.2222222222222222,\"#7201a8\"],[0.3333333333333333,\"#9c179e\"],[0.4444444444444444,\"#bd3786\"],[0.5555555555555556,\"#d8576b\"],[0.6666666666666666,\"#ed7953\"],[0.7777777777777778,\"#fb9f3a\"],[0.8888888888888888,\"#fdca26\"],[1.0,\"#f0f921\"]]}],\"surface\":[{\"type\":\"surface\",\"colorbar\":{\"outlinewidth\":0,\"ticks\":\"\"},\"colorscale\":[[0.0,\"#0d0887\"],[0.1111111111111111,\"#46039f\"],[0.2222222222222222,\"#7201a8\"],[0.3333333333333333,\"#9c179e\"],[0.4444444444444444,\"#bd3786\"],[0.5555555555555556,\"#d8576b\"],[0.6666666666666666,\"#ed7953\"],[0.7777777777777778,\"#fb9f3a\"],[0.8888888888888888,\"#fdca26\"],[1.0,\"#f0f921\"]]}],\"mesh3d\":[{\"type\":\"mesh3d\",\"colorbar\":{\"outlinewidth\":0,\"ticks\":\"\"}}],\"scatter\":[{\"fillpattern\":{\"fillmode\":\"overlay\",\"size\":10,\"solidity\":0.2},\"type\":\"scatter\"}],\"parcoords\":[{\"type\":\"parcoords\",\"line\":{\"colorbar\":{\"outlinewidth\":0,\"ticks\":\"\"}}}],\"scatterpolargl\":[{\"type\":\"scatterpolargl\",\"marker\":{\"colorbar\":{\"outlinewidth\":0,\"ticks\":\"\"}}}],\"bar\":[{\"error_x\":{\"color\":\"#2a3f5f\"},\"error_y\":{\"color\":\"#2a3f5f\"},\"marker\":{\"line\":{\"color\":\"#E5ECF6\",\"width\":0.5},\"pattern\":{\"fillmode\":\"overlay\",\"size\":10,\"solidity\":0.2}},\"type\":\"bar\"}],\"scattergeo\":[{\"type\":\"scattergeo\",\"marker\":{\"colorbar\":{\"outlinewidth\":0,\"ticks\":\"\"}}}],\"scatterpolar\":[{\"type\":\"scatterpolar\",\"marker\":{\"colorbar\":{\"outlinewidth\":0,\"ticks\":\"\"}}}],\"histogram\":[{\"marker\":{\"pattern\":{\"fillmode\":\"overlay\",\"size\":10,\"solidity\":0.2}},\"type\":\"histogram\"}],\"scattergl\":[{\"type\":\"scattergl\",\"marker\":{\"colorbar\":{\"outlinewidth\":0,\"ticks\":\"\"}}}],\"scatter3d\":[{\"type\":\"scatter3d\",\"line\":{\"colorbar\":{\"outlinewidth\":0,\"ticks\":\"\"}},\"marker\":{\"colorbar\":{\"outlinewidth\":0,\"ticks\":\"\"}}}],\"scattermapbox\":[{\"type\":\"scattermapbox\",\"marker\":{\"colorbar\":{\"outlinewidth\":0,\"ticks\":\"\"}}}],\"scatterternary\":[{\"type\":\"scatterternary\",\"marker\":{\"colorbar\":{\"outlinewidth\":0,\"ticks\":\"\"}}}],\"scattercarpet\":[{\"type\":\"scattercarpet\",\"marker\":{\"colorbar\":{\"outlinewidth\":0,\"ticks\":\"\"}}}],\"carpet\":[{\"aaxis\":{\"endlinecolor\":\"#2a3f5f\",\"gridcolor\":\"white\",\"linecolor\":\"white\",\"minorgridcolor\":\"white\",\"startlinecolor\":\"#2a3f5f\"},\"baxis\":{\"endlinecolor\":\"#2a3f5f\",\"gridcolor\":\"white\",\"linecolor\":\"white\",\"minorgridcolor\":\"white\",\"startlinecolor\":\"#2a3f5f\"},\"type\":\"carpet\"}],\"table\":[{\"cells\":{\"fill\":{\"color\":\"#EBF0F8\"},\"line\":{\"color\":\"white\"}},\"header\":{\"fill\":{\"color\":\"#C8D4E3\"},\"line\":{\"color\":\"white\"}},\"type\":\"table\"}],\"barpolar\":[{\"marker\":{\"line\":{\"color\":\"#E5ECF6\",\"width\":0.5},\"pattern\":{\"fillmode\":\"overlay\",\"size\":10,\"solidity\":0.2}},\"type\":\"barpolar\"}],\"pie\":[{\"automargin\":true,\"type\":\"pie\"}]},\"layout\":{\"autotypenumbers\":\"strict\",\"colorway\":[\"#636efa\",\"#EF553B\",\"#00cc96\",\"#ab63fa\",\"#FFA15A\",\"#19d3f3\",\"#FF6692\",\"#B6E880\",\"#FF97FF\",\"#FECB52\"],\"font\":{\"color\":\"#2a3f5f\"},\"hovermode\":\"closest\",\"hoverlabel\":{\"align\":\"left\"},\"paper_bgcolor\":\"white\",\"plot_bgcolor\":\"#E5ECF6\",\"polar\":{\"bgcolor\":\"#E5ECF6\",\"angularaxis\":{\"gridcolor\":\"white\",\"linecolor\":\"white\",\"ticks\":\"\"},\"radialaxis\":{\"gridcolor\":\"white\",\"linecolor\":\"white\",\"ticks\":\"\"}},\"ternary\":{\"bgcolor\":\"#E5ECF6\",\"aaxis\":{\"gridcolor\":\"white\",\"linecolor\":\"white\",\"ticks\":\"\"},\"baxis\":{\"gridcolor\":\"white\",\"linecolor\":\"white\",\"ticks\":\"\"},\"caxis\":{\"gridcolor\":\"white\",\"linecolor\":\"white\",\"ticks\":\"\"}},\"coloraxis\":{\"colorbar\":{\"outlinewidth\":0,\"ticks\":\"\"}},\"colorscale\":{\"sequential\":[[0.0,\"#0d0887\"],[0.1111111111111111,\"#46039f\"],[0.2222222222222222,\"#7201a8\"],[0.3333333333333333,\"#9c179e\"],[0.4444444444444444,\"#bd3786\"],[0.5555555555555556,\"#d8576b\"],[0.6666666666666666,\"#ed7953\"],[0.7777777777777778,\"#fb9f3a\"],[0.8888888888888888,\"#fdca26\"],[1.0,\"#f0f921\"]],\"sequentialminus\":[[0.0,\"#0d0887\"],[0.1111111111111111,\"#46039f\"],[0.2222222222222222,\"#7201a8\"],[0.3333333333333333,\"#9c179e\"],[0.4444444444444444,\"#bd3786\"],[0.5555555555555556,\"#d8576b\"],[0.6666666666666666,\"#ed7953\"],[0.7777777777777778,\"#fb9f3a\"],[0.8888888888888888,\"#fdca26\"],[1.0,\"#f0f921\"]],\"diverging\":[[0,\"#8e0152\"],[0.1,\"#c51b7d\"],[0.2,\"#de77ae\"],[0.3,\"#f1b6da\"],[0.4,\"#fde0ef\"],[0.5,\"#f7f7f7\"],[0.6,\"#e6f5d0\"],[0.7,\"#b8e186\"],[0.8,\"#7fbc41\"],[0.9,\"#4d9221\"],[1,\"#276419\"]]},\"xaxis\":{\"gridcolor\":\"white\",\"linecolor\":\"white\",\"ticks\":\"\",\"title\":{\"standoff\":15},\"zerolinecolor\":\"white\",\"automargin\":true,\"zerolinewidth\":2},\"yaxis\":{\"gridcolor\":\"white\",\"linecolor\":\"white\",\"ticks\":\"\",\"title\":{\"standoff\":15},\"zerolinecolor\":\"white\",\"automargin\":true,\"zerolinewidth\":2},\"scene\":{\"xaxis\":{\"backgroundcolor\":\"#E5ECF6\",\"gridcolor\":\"white\",\"linecolor\":\"white\",\"showbackground\":true,\"ticks\":\"\",\"zerolinecolor\":\"white\",\"gridwidth\":2},\"yaxis\":{\"backgroundcolor\":\"#E5ECF6\",\"gridcolor\":\"white\",\"linecolor\":\"white\",\"showbackground\":true,\"ticks\":\"\",\"zerolinecolor\":\"white\",\"gridwidth\":2},\"zaxis\":{\"backgroundcolor\":\"#E5ECF6\",\"gridcolor\":\"white\",\"linecolor\":\"white\",\"showbackground\":true,\"ticks\":\"\",\"zerolinecolor\":\"white\",\"gridwidth\":2}},\"shapedefaults\":{\"line\":{\"color\":\"#2a3f5f\"}},\"annotationdefaults\":{\"arrowcolor\":\"#2a3f5f\",\"arrowhead\":0,\"arrowwidth\":1},\"geo\":{\"bgcolor\":\"white\",\"landcolor\":\"#E5ECF6\",\"subunitcolor\":\"white\",\"showland\":true,\"showlakes\":true,\"lakecolor\":\"white\"},\"title\":{\"x\":0.05},\"mapbox\":{\"style\":\"light\"}}},\"xaxis\":{\"anchor\":\"y\",\"domain\":[0.0,1.0],\"title\":{\"text\":\"x\"}},\"yaxis\":{\"anchor\":\"x\",\"domain\":[0.0,1.0],\"title\":{\"text\":\"y\"}},\"coloraxis\":{\"colorbar\":{\"title\":{\"text\":\"color\"}},\"colorscale\":[[0.0,\"rgb(0,0,255)\"],[1.0,\"rgb(255,0,0)\"]]},\"legend\":{\"tracegroupgap\":0},\"margin\":{\"t\":60},\"width\":800,\"height\":600},                        {\"responsive\": true}                    ).then(function(){\n",
              "                            \n",
              "var gd = document.getElementById('fa36ebbf-1472-4d9f-b571-def48231e390');\n",
              "var x = new MutationObserver(function (mutations, observer) {{\n",
              "        var display = window.getComputedStyle(gd).display;\n",
              "        if (!display || display === 'none') {{\n",
              "            console.log([gd, 'removed!']);\n",
              "            Plotly.purge(gd);\n",
              "            observer.disconnect();\n",
              "        }}\n",
              "}});\n",
              "\n",
              "// Listen for the removal of the full notebook cells\n",
              "var notebookContainer = gd.closest('#notebook-container');\n",
              "if (notebookContainer) {{\n",
              "    x.observe(notebookContainer, {childList: true});\n",
              "}}\n",
              "\n",
              "// Listen for the clearing of the current output cell\n",
              "var outputEl = gd.closest('.output');\n",
              "if (outputEl) {{\n",
              "    x.observe(outputEl, {childList: true});\n",
              "}}\n",
              "\n",
              "                        })                };                            </script>        </div>\n",
              "</body>\n",
              "</html>"
            ]
          },
          "metadata": {}
        }
      ]
    },
    {
      "cell_type": "code",
      "source": [
        "data = pd.read_csv(\"sample_data/combinedDataset.csv\")\n",
        "data.loc[:, \"direction\"] = np.nan\n",
        "\n",
        "for index,row in data.iterrows():\n",
        "    deviation_mm = (np.abs(row[\"dG (TF) lrc\"]-row[\"Exp [kcal/mol]\"]))\n",
        "    deviation_corrected = (np.abs(row[\"Crooks result\"]-row[\"Exp [kcal/mol]\"]))\n",
        "    if deviation_mm > deviation_corrected:\n",
        "      data.loc[index, \"direction\"] = 1 #correct direction\n",
        "    else:\n",
        "      data.loc[index, \"direction\"] = 0 #wrong direction"
      ],
      "metadata": {
        "id": "w-oxIDiQsWPx"
      },
      "execution_count": null,
      "outputs": []
    },
    {
      "cell_type": "code",
      "source": [
        "molcomp = MolCompass()\n",
        "df = pd.DataFrame({'smiles':[smi.strip() for smi in data[\" SMILES\"]]})\n",
        "res = molcomp.process(df)"
      ],
      "metadata": {
        "id": "or_VL-0GzVLl"
      },
      "execution_count": null,
      "outputs": []
    },
    {
      "cell_type": "code",
      "source": [
        "fig = px.scatter(res,x=\"x\",y=\"y\",hover_name=data[\" SMILES\"],color = data[\"direction\"] )\n",
        "fig.update_layout(width=800,height=600)\n",
        "fig.show()"
      ],
      "metadata": {
        "colab": {
          "base_uri": "https://localhost:8080/",
          "height": 617
        },
        "id": "u3aV3ZRx0h0X",
        "outputId": "67af6244-8f69-4304-f877-58f1681b87ec"
      },
      "execution_count": null,
      "outputs": [
        {
          "output_type": "display_data",
          "data": {
            "text/html": [
              "<html>\n",
              "<head><meta charset=\"utf-8\" /></head>\n",
              "<body>\n",
              "    <div>            <script src=\"https://cdnjs.cloudflare.com/ajax/libs/mathjax/2.7.5/MathJax.js?config=TeX-AMS-MML_SVG\"></script><script type=\"text/javascript\">if (window.MathJax && window.MathJax.Hub && window.MathJax.Hub.Config) {window.MathJax.Hub.Config({SVG: {font: \"STIX-Web\"}});}</script>                <script type=\"text/javascript\">window.PlotlyConfig = {MathJaxConfig: 'local'};</script>\n",
              "        <script charset=\"utf-8\" src=\"https://cdn.plot.ly/plotly-2.24.1.min.js\"></script>                <div id=\"21549417-8a28-471c-b289-b55e5e8d1e1f\" class=\"plotly-graph-div\" style=\"height:600px; width:800px;\"></div>            <script type=\"text/javascript\">                                    window.PLOTLYENV=window.PLOTLYENV || {};                                    if (document.getElementById(\"21549417-8a28-471c-b289-b55e5e8d1e1f\")) {                    Plotly.newPlot(                        \"21549417-8a28-471c-b289-b55e5e8d1e1f\",                        [{\"hovertemplate\":\"\\u003cb\\u003e%{hovertext}\\u003c\\u002fb\\u003e\\u003cbr\\u003e\\u003cbr\\u003ex=%{x}\\u003cbr\\u003ey=%{y}\\u003cbr\\u003ecolor=%{marker.color}\\u003cextra\\u003e\\u003c\\u002fextra\\u003e\",\"hovertext\":[\" c1(=O)[nH]c(=O)[nH]c(=O)[nH]1\",\" C([C@@H]1[C@H]([C@@H]([C@H]([C@@H](O1)O)O)O)O)O\",\" CCCN(CCC)c1c(cc(cc1[N+](=O)[O-])S(=O)(=O)C)[N+](=O)[O-]\",\" CCNc1nc(nc(n1)Cl)NCC\",\" c1ccc2c(c1)C(=O)NC2=O\",\" C([N+](=O)[O-])(Cl)(Cl)Cl\",\" C([C@H]([C@H]([C@@H]([C@@H](CO)O)O)O)O)O\",\" C1[C@H]([C@@H]([C@H]([C@H](O1)O)O)O)O\",\" c1ccc(cc1)Cn2ccnc2\",\" CN(C)CCOC(c1ccccc1)c2ccccc2\",\" c1ccc-2c(c1)Cc3c2cccc3\",\" CCNc1nc(nc(n1)SC)NC(C)C\",\" c1ccc(cc1)C(=O)N\",\" C[C@@H](c1ccc(cc1)CC(C)C)C(=O)O\",\" CCNCC\",\" CCNc1nc(nc(n1)SC)NC(C)(C)C\",\" c1ccc2c(c1)CCC2\",\" c1c(c(=O)[nH]c(=O)[nH]1)Cl\",\" CCC[N@@](CC1CC1)c2c(cc(cc2[N+](=O)[O-])C(F)(F)F)[N+](=O)[O-]\",\" CC(=O)NC\",\" CC(C)C(=O)C(C)C\",\" C[C@@H](c1ccc2cc(ccc2c1)OC)C(=O)O\",\" CC(C)NC(C)C\",\" CCCCCCCCN\",\" CCCCCCN\",\" CCCCCCCN\",\" COCCN\",\" C1(C(C(C1(F)F)(F)F)(F)F)(F)F\",\" CCCN\",\" C[N+](=O)[O-]\",\" CCCCCN\",\" CCN\",\" c1cc(ccc1N)N(=O)=O\",\" CCN(CC)c1c(cc(c(c1[N+](=O)[O-])N)C(F)(F)F)[N+](=O)[O-]\",\" CCCCN\",\" CC(=O)N1CCCC1\",\" c1cc(ccc1[N+](=O)[O-])O\",\" CCCC[N@](CC)c1c(cc(cc1[N+](=O)[O-])C(F)(F)F)[N+](=O)[O-]\",\" CCCN(CCC)c1c(cc(cc1[N+](=O)[O-])C(F)(F)F)[N+](=O)[O-]\",\" C[C@@H](c1ccc(c(c1)F)c2ccccc2)C(=O)O\",\" CC(C)SC(C)C\",\" CS(=O)(=O)C\",\" C1CCC(=O)C1\",\" CCCCNCCCC\",\" CCCNCCC\",\" COC(C(Cl)Cl)(F)F\",\" [C@@H](C(F)(F)F)(OC(F)F)Cl\",\" C1CNC1\",\" COc1ccccc1O\",\" CCCOC(=O)c1ccc(cc1)O\",\" c1c(c(=O)[nH]c(=O)[nH]1)C(F)(F)F\",\" CCc1ccccc1O\",\" COS(=O)(=O)C\",\" C1CCNCC1\",\" NN\",\" c1c(c(c(c(c1Cl)Cl)Cl)Cl)c2c(cc(c(c2Cl)Cl)Cl)Cl\",\" C(CCCl)CCl\",\" CCCCCC(=O)N\",\" CCCSCCC\",\" CCCCC[N+](=O)[O-]\",\" c1c(c(=O)[nH]c(=O)[nH]1)F\",\" CCC(=O)O\",\" CN(C)CCC=C1c2ccccc2CCc3c1cccc3\",\" c1cc(cc(c1)[N+](=O)[O-])N\",\" CCC(C)(C)O\",\" C(CCl)Cl\",\" c1ccc(c(c1)C(F)(F)F)C(F)(F)F\",\" CCSCC\",\" CCCC[N+](=O)[O-]\",\" CCSC\",\" CCCCOC(=O)c1ccc(cc1)O\",\" CCC[N+](=O)[O-]\",\" C(=C(F)F)(C(F)(F)F)F\",\" Cc1cccc(c1C)O\",\" c1cnccc1C#N\",\" c1cc(c(cc1O)Cl)Cl\",\" CCOC(=O)c1ccc(cc1)O\",\" C(C(CO)O)O\",\" Cc1cc(ccc1Cl)O\",\" CCSSCC\",\" Cc1ccc(c(c1)C)O\",\" CC(=O)c1ccc(cc1)OC\",\" c1cc(cc(c1)O)[N+](=O)[O-]\",\" CC(C)(C)c1ccc(cc1)O\",\" c1ccc2cc(ccc2c1)O\",\" CC[N+](=O)[O-]\",\" Cc1ccc(c(c1)O)C\",\" c1ccc2c(c1)Oc3c(cc(c(c3O2)Cl)Cl)Cl\",\" CCc1cccc(c1)O\",\" C(C(Cl)Cl)(Cl)Cl\",\" CC1=CC(=O)CC(C1)(C)C\",\" CCCC(C)(C)O\",\" Cc1cccc(c1O)C\",\" Cn1cnc2c1c(=O)n(c(=O)n2C)C\",\" C1CCC(CC1)O\",\" CC(=O)N\",\" c1ccc(c(c1)N)[N+](=O)[O-]\",\" c1ccc2cc(ccc2c1)N\",\" Cc1c(nc(nc1OC(=O)N(C)C)N(C)C)C\",\" C(C(Cl)Cl)Cl\",\" CC(=O)O\",\" Cc1cc(cnc1)C\",\" c1cc(c(cc1c2c(c(cc(c2Cl)Cl)Cl)Cl)Cl)Cl\",\" c1ccc2c(c1)C(=O)c3c(ccc(c3C2=O)O)N\",\" c1cc(c(c(c1c2cc(c(c(c2Cl)Cl)Cl)Cl)Cl)Cl)Cl\",\" CCN(CC)CC\",\" CCCCOC[C@H](C)O\",\" C(CCl)OCCCl\",\" C[C@@H](c1cccc(c1)C(=O)c2ccccc2)C(=O)O\",\" C(CO[N+](=O)[O-])O\",\" Cc1ccc(cc1)C(=O)N(C)C\",\" Cc1ccncc1C\",\" Cc1c(c(=O)n(c(=O)[nH]1)C(C)(C)C)Cl\",\" COS(=O)(=O)OC\",\" CS(=O)C\",\" CNC\",\" c1ccc2c(c1)C(=O)c3cccc(c3C2=O)N\",\" CC(=CCC\\u002fC(=C\\\\CO)\\u002fC)C\",\" c1(c(c(c(c(c1Cl)Cl)Cl)Cl)Cl)Cl\",\" c1cc(ccc1C=O)O\",\" CCCCOCCO\",\" CC(OC(=O)C)OC(=O)C\",\" C=CCl\",\" c1ccc(c(c1)C=O)O\",\" c1cc(c(cc1Cl)c2cc(c(c(c2)Cl)Cl)Cl)Cl\",\" CC(=O)OCC(COC(=O)C)OC(=O)C\",\" CCOC(=O)CCC(=O)OCC\",\" C1CCOC1\",\" CCOC(C)OCC\",\" c1ccc2c(c1)C(=O)c3ccc(cc3C2=O)N\",\" CCCOCCO\",\" Cc1cccc(c1C)Nc2ccccc2C(=O)O\",\" CN(C)C(=O)c1ccc(cc1)[N+](=O)[O-]\",\" CCOCCO\",\" CS(=O)(=O)Cl\",\" C(=C\\u002fCl)\\\\Cl\",\" CN(C)C(=O)c1ccc(cc1)OC\",\" C1CC[S+2](C1)([O-])[O-]\",\" COC(c1ccccc1)(OC)OC\",\" COCCO\",\" CC(C)(C)OC\",\" c1ccc2c(c1)ccc3c2cccc3\",\" Cc1c[nH]cn1\",\" C1CCNC1\",\" CC(C)OC=O\",\" C1CNCCN1\",\" c1cc2ccc3cccc4c3c2c(c1)cc4\",\" CSC\",\" CC(C)COC=O\",\" c1ccc2c(c1)C(=O)c3c(ccc(c3C2=O)N)N\",\" CCc1cccc(c1N(COC)C(=O)CCl)CC\",\" c1(c(c(c(c(c1Cl)Cl)Cl)Cl)Cl)N(=O)=O\",\" Cn1ccnc1\",\" c1ccc(cc1)O[C@@H](C(F)F)F\",\" CC(C)(\\u002fC=N\\\\OC(=O)NC)SC\",\" CCCOC=O\"],\"legendgroup\":\"\",\"marker\":{\"color\":[0.0,1.0,0.0,1.0,1.0,1.0,1.0,1.0,1.0,1.0,0.0,1.0,1.0,1.0,1.0,1.0,1.0,1.0,0.0,0.0,0.0,0.0,1.0,1.0,1.0,1.0,1.0,1.0,1.0,0.0,1.0,1.0,1.0,0.0,1.0,0.0,1.0,0.0,0.0,1.0,1.0,0.0,0.0,1.0,1.0,0.0,0.0,1.0,1.0,1.0,1.0,1.0,0.0,0.0,1.0,1.0,0.0,1.0,1.0,0.0,1.0,1.0,1.0,1.0,1.0,1.0,0.0,1.0,0.0,0.0,1.0,0.0,0.0,1.0,0.0,1.0,1.0,1.0,1.0,1.0,1.0,1.0,1.0,1.0,1.0,0.0,1.0,1.0,1.0,1.0,0.0,1.0,1.0,1.0,1.0,1.0,0.0,1.0,0.0,1.0,1.0,1.0,1.0,1.0,1.0,1.0,1.0,1.0,0.0,0.0,0.0,1.0,0.0,1.0,1.0,1.0,0.0,1.0,1.0,1.0,1.0,0.0,1.0,0.0,1.0,0.0,0.0,1.0,1.0,0.0,1.0,0.0,0.0,1.0,0.0,1.0,0.0,0.0,0.0,1.0,0.0,0.0,0.0,1.0,0.0,1.0,1.0,0.0,0.0,0.0,1.0,0.0,0.0,0.0,0.0,0.0],\"coloraxis\":\"coloraxis\",\"symbol\":\"circle\"},\"mode\":\"markers\",\"name\":\"\",\"orientation\":\"v\",\"showlegend\":false,\"x\":[-40.5246037256706,29.146039720452762,-32.08173374108772,-41.54758902727149,-15.76961137477764,-3.572260431089898,-0.4670395803018814,25.48184269532736,-20.235216669348482,-26.6068595966392,-15.865892951153473,-38.95700672061326,-24.24327679991392,-5.579469541458136,-2.463011054086098,-39.77315785147044,-5.698620553220152,-39.17861630230783,-3.3835720932352897,-0.07577397129338048,0.3421484611051666,-26.950478633599044,-1.239892388710684,-2.482503875517571,-2.2257919774487624,-2.285976380782297,-1.666949931793909,3.8964792859860986,-1.7966906632535764,-2.3321058874091323,-2.341172590878429,-1.815662631787701,-30.41423273784569,-34.220918416587,-2.035108838831425,9.733742791171137,-31.08861124420755,-34.28975085259955,-35.521684373281516,-22.534344258264927,-2.734350777513341,-3.1036190722727035,-5.966985433735245,-1.7021639204292787,-2.112957968466997,-2.8190408551577404,-5.406239301878339,18.356886423114453,-31.032773820250533,-25.307716867630898,-38.8798692604701,-30.697502089014854,-3.672540410656718,19.348041248984167,-2.6049225538855656,-37.224757728988806,-2.8979246277528503,-1.3412009339806903,-3.120065490171605,-2.982371063778629,-39.174063500500765,0.7599344261518017,-12.836436472465312,-30.970502364469304,-1.8565440715295956,-2.400338628716666,-33.43209819253106,-2.749292761441781,-2.4402771036488953,-2.691976430323607,-25.028790954966773,-3.1013462340994535,-3.444659756074776,-33.82958759886365,-35.86649497358666,-34.1637787349962,-24.035822829123465,0.0600892916785325,-33.958898599954345,-3.0445627161263973,-33.811020137052196,-25.550364688885683,-31.810600541365716,-32.81890570225791,-33.80740138063044,-2.5867716495514577,-33.62043501483221,-35.4042615784001,-31.171722305401403,-2.0764510922479635,-2.363932821078125,-1.234612422519842,-35.519947408551666,-9.349450005793905,19.893196056113627,0.16230371366152974,-34.19170320582937,-33.911884533610845,-29.92638619940079,-0.9002806048472858,0.26066578923616346,-38.74631671841772,-32.82249359721132,-25.33262947906675,-37.016540593156634,-2.1231305560207208,-2.3407424541634447,-3.0305108370588916,-24.644284955078504,-2.070301214618867,-24.033370980864326,-38.018975226155,-16.97476256456833,-4.418991212230583,-0.7922797324019379,-2.7808039031815173,-25.47817060389972,-7.573790910045469,-44.52942123208443,-33.95478405972884,-2.6924484625065506,-0.9801105795794347,-4.378899934719528,-34.147579820124065,-32.61010283002601,-0.8588323405242195,-0.9979527673275648,12.503256606018123,-0.7143867215627948,-20.979531650092284,-2.571551042314043,-22.07881071036554,-25.476238979359763,-2.559454993398827,-4.125146252867991,-5.4564049921793725,-25.658127732858404,10.614855319191529,-30.635146603937727,-1.3057125699037435,-2.9919299741196097,-34.46233750830985,-38.68617440892719,20.62307557506091,-1.4910907502470785,20.068506579452887,-36.74874463589205,-2.6457886973705924,-2.123170743075227,-25.311532874381328,-23.48027529966832,-33.47310241718348,-16.6318028993542,-30.6550688886435,0.6625017361123002,-2.091463195978157],\"xaxis\":\"x\",\"y\":[2.747767031748041,-14.485531285755187,-7.621610751853597,16.48685403346829,20.57659384719605,-37.89247403511343,-36.32499886177565,-10.414979163812191,9.750788213593166,-8.04279171227721,22.38097706421288,16.26843708485289,-9.340250475166318,-20.148990161965642,-36.67612028099542,16.873116064922197,20.273855283278454,0.6866364334785052,10.852642399126296,-35.771721436492285,-34.41559237460969,-2.49723207544623,-37.17736550157673,-32.63155210216838,-32.716108824468535,-32.705020619998855,-36.229943961402554,-32.06127031497448,-34.85062121913796,-37.53303610018919,-33.368601692093904,-35.13050384897034,-6.796523848807322,-4.388404253778956,-34.30262477993786,-1.9482723283482306,-6.625292058361213,-3.9921829056876845,-4.804421522460133,0.13990069602665395,-37.730324477337334,-37.699821681198245,20.01808778874595,-33.49997096911791,-35.47909693166555,-38.023014510627625,-38.206814095364734,-10.3712783982603,-3.760833168496541,-6.666556212459112,3.724205366345256,-3.002915079259128,-37.32581596617594,-5.652599006462298,-37.04310983638605,4.696364384648628,-35.74408927222618,-32.16523209725674,-35.896101832997026,-34.723250522333785,0.651975299424763,-33.365989924299186,21.857546035219343,-4.602024082794451,-36.77918092393611,-37.82138281941204,-2.697861987260186,-36.892920758458715,-35.434301374436345,-37.1349446684206,-6.377649501186604,-36.54226144349943,-38.26091646878202,-3.818592593325495,5.736696667830578,-2.991834926927242,-5.7503994525252695,-36.658459320553,-1.8606149504303602,-36.091891895015316,-4.464837591890027,-6.592984223706027,-4.809800683068274,-5.2541831833893085,-0.08052672044991172,-36.56834535401143,-3.7273830894707007,4.772722097002443,-3.139763905987782,-37.5198280181943,29.642427860602027,-36.43431796447464,-2.667202020369472,23.07813404224668,-9.834465017465732,-35.09796207205076,-0.8804996909646432,0.006842058302172771,0.5908880793068494,-36.91891209926849,-34.5868020570967,5.772169767092141,6.239930151255266,8.974948660181013,2.5187707284896255,-36.92916852906639,-32.5025906752616,-36.50940369594194,-7.759089754800399,-36.6520667779688,-9.183658365413375,0.3954245587273446,19.574131757975664,-36.49555934827366,-35.762652186260866,-37.38038755934842,9.550028497227526,-33.66483914552023,-2.561027189797103,-7.772542899292118,-33.44357413837668,-35.0109507864817,-38.1336980197602,-6.890671705968918,8.59320810174526,-34.62851427392637,-33.4113738431121,-16.538344217155682,-37.24974730737391,12.981187648999873,-35.13314193686342,-12.389760972691796,-10.19287482164454,-36.25650466237333,-36.90449664378782,-38.637243066374566,-7.7414420204066445,-23.15885180132797,-4.249632639617182,-36.09096835269839,-37.453327009373226,1.313592332844587,0.39799795121888515,-10.030125777242992,-36.7103917698826,-10.356142583534325,1.043283918105935,-36.687174936218355,-36.82180536901184,10.248910582014716,-7.669660336615646,8.008057588197566,-0.644679450359765,-0.9840759694264651,-31.370841414093917,-35.98123105249795],\"yaxis\":\"y\",\"type\":\"scatter\"}],                        {\"template\":{\"data\":{\"histogram2dcontour\":[{\"type\":\"histogram2dcontour\",\"colorbar\":{\"outlinewidth\":0,\"ticks\":\"\"},\"colorscale\":[[0.0,\"#0d0887\"],[0.1111111111111111,\"#46039f\"],[0.2222222222222222,\"#7201a8\"],[0.3333333333333333,\"#9c179e\"],[0.4444444444444444,\"#bd3786\"],[0.5555555555555556,\"#d8576b\"],[0.6666666666666666,\"#ed7953\"],[0.7777777777777778,\"#fb9f3a\"],[0.8888888888888888,\"#fdca26\"],[1.0,\"#f0f921\"]]}],\"choropleth\":[{\"type\":\"choropleth\",\"colorbar\":{\"outlinewidth\":0,\"ticks\":\"\"}}],\"histogram2d\":[{\"type\":\"histogram2d\",\"colorbar\":{\"outlinewidth\":0,\"ticks\":\"\"},\"colorscale\":[[0.0,\"#0d0887\"],[0.1111111111111111,\"#46039f\"],[0.2222222222222222,\"#7201a8\"],[0.3333333333333333,\"#9c179e\"],[0.4444444444444444,\"#bd3786\"],[0.5555555555555556,\"#d8576b\"],[0.6666666666666666,\"#ed7953\"],[0.7777777777777778,\"#fb9f3a\"],[0.8888888888888888,\"#fdca26\"],[1.0,\"#f0f921\"]]}],\"heatmap\":[{\"type\":\"heatmap\",\"colorbar\":{\"outlinewidth\":0,\"ticks\":\"\"},\"colorscale\":[[0.0,\"#0d0887\"],[0.1111111111111111,\"#46039f\"],[0.2222222222222222,\"#7201a8\"],[0.3333333333333333,\"#9c179e\"],[0.4444444444444444,\"#bd3786\"],[0.5555555555555556,\"#d8576b\"],[0.6666666666666666,\"#ed7953\"],[0.7777777777777778,\"#fb9f3a\"],[0.8888888888888888,\"#fdca26\"],[1.0,\"#f0f921\"]]}],\"heatmapgl\":[{\"type\":\"heatmapgl\",\"colorbar\":{\"outlinewidth\":0,\"ticks\":\"\"},\"colorscale\":[[0.0,\"#0d0887\"],[0.1111111111111111,\"#46039f\"],[0.2222222222222222,\"#7201a8\"],[0.3333333333333333,\"#9c179e\"],[0.4444444444444444,\"#bd3786\"],[0.5555555555555556,\"#d8576b\"],[0.6666666666666666,\"#ed7953\"],[0.7777777777777778,\"#fb9f3a\"],[0.8888888888888888,\"#fdca26\"],[1.0,\"#f0f921\"]]}],\"contourcarpet\":[{\"type\":\"contourcarpet\",\"colorbar\":{\"outlinewidth\":0,\"ticks\":\"\"}}],\"contour\":[{\"type\":\"contour\",\"colorbar\":{\"outlinewidth\":0,\"ticks\":\"\"},\"colorscale\":[[0.0,\"#0d0887\"],[0.1111111111111111,\"#46039f\"],[0.2222222222222222,\"#7201a8\"],[0.3333333333333333,\"#9c179e\"],[0.4444444444444444,\"#bd3786\"],[0.5555555555555556,\"#d8576b\"],[0.6666666666666666,\"#ed7953\"],[0.7777777777777778,\"#fb9f3a\"],[0.8888888888888888,\"#fdca26\"],[1.0,\"#f0f921\"]]}],\"surface\":[{\"type\":\"surface\",\"colorbar\":{\"outlinewidth\":0,\"ticks\":\"\"},\"colorscale\":[[0.0,\"#0d0887\"],[0.1111111111111111,\"#46039f\"],[0.2222222222222222,\"#7201a8\"],[0.3333333333333333,\"#9c179e\"],[0.4444444444444444,\"#bd3786\"],[0.5555555555555556,\"#d8576b\"],[0.6666666666666666,\"#ed7953\"],[0.7777777777777778,\"#fb9f3a\"],[0.8888888888888888,\"#fdca26\"],[1.0,\"#f0f921\"]]}],\"mesh3d\":[{\"type\":\"mesh3d\",\"colorbar\":{\"outlinewidth\":0,\"ticks\":\"\"}}],\"scatter\":[{\"fillpattern\":{\"fillmode\":\"overlay\",\"size\":10,\"solidity\":0.2},\"type\":\"scatter\"}],\"parcoords\":[{\"type\":\"parcoords\",\"line\":{\"colorbar\":{\"outlinewidth\":0,\"ticks\":\"\"}}}],\"scatterpolargl\":[{\"type\":\"scatterpolargl\",\"marker\":{\"colorbar\":{\"outlinewidth\":0,\"ticks\":\"\"}}}],\"bar\":[{\"error_x\":{\"color\":\"#2a3f5f\"},\"error_y\":{\"color\":\"#2a3f5f\"},\"marker\":{\"line\":{\"color\":\"#E5ECF6\",\"width\":0.5},\"pattern\":{\"fillmode\":\"overlay\",\"size\":10,\"solidity\":0.2}},\"type\":\"bar\"}],\"scattergeo\":[{\"type\":\"scattergeo\",\"marker\":{\"colorbar\":{\"outlinewidth\":0,\"ticks\":\"\"}}}],\"scatterpolar\":[{\"type\":\"scatterpolar\",\"marker\":{\"colorbar\":{\"outlinewidth\":0,\"ticks\":\"\"}}}],\"histogram\":[{\"marker\":{\"pattern\":{\"fillmode\":\"overlay\",\"size\":10,\"solidity\":0.2}},\"type\":\"histogram\"}],\"scattergl\":[{\"type\":\"scattergl\",\"marker\":{\"colorbar\":{\"outlinewidth\":0,\"ticks\":\"\"}}}],\"scatter3d\":[{\"type\":\"scatter3d\",\"line\":{\"colorbar\":{\"outlinewidth\":0,\"ticks\":\"\"}},\"marker\":{\"colorbar\":{\"outlinewidth\":0,\"ticks\":\"\"}}}],\"scattermapbox\":[{\"type\":\"scattermapbox\",\"marker\":{\"colorbar\":{\"outlinewidth\":0,\"ticks\":\"\"}}}],\"scatterternary\":[{\"type\":\"scatterternary\",\"marker\":{\"colorbar\":{\"outlinewidth\":0,\"ticks\":\"\"}}}],\"scattercarpet\":[{\"type\":\"scattercarpet\",\"marker\":{\"colorbar\":{\"outlinewidth\":0,\"ticks\":\"\"}}}],\"carpet\":[{\"aaxis\":{\"endlinecolor\":\"#2a3f5f\",\"gridcolor\":\"white\",\"linecolor\":\"white\",\"minorgridcolor\":\"white\",\"startlinecolor\":\"#2a3f5f\"},\"baxis\":{\"endlinecolor\":\"#2a3f5f\",\"gridcolor\":\"white\",\"linecolor\":\"white\",\"minorgridcolor\":\"white\",\"startlinecolor\":\"#2a3f5f\"},\"type\":\"carpet\"}],\"table\":[{\"cells\":{\"fill\":{\"color\":\"#EBF0F8\"},\"line\":{\"color\":\"white\"}},\"header\":{\"fill\":{\"color\":\"#C8D4E3\"},\"line\":{\"color\":\"white\"}},\"type\":\"table\"}],\"barpolar\":[{\"marker\":{\"line\":{\"color\":\"#E5ECF6\",\"width\":0.5},\"pattern\":{\"fillmode\":\"overlay\",\"size\":10,\"solidity\":0.2}},\"type\":\"barpolar\"}],\"pie\":[{\"automargin\":true,\"type\":\"pie\"}]},\"layout\":{\"autotypenumbers\":\"strict\",\"colorway\":[\"#636efa\",\"#EF553B\",\"#00cc96\",\"#ab63fa\",\"#FFA15A\",\"#19d3f3\",\"#FF6692\",\"#B6E880\",\"#FF97FF\",\"#FECB52\"],\"font\":{\"color\":\"#2a3f5f\"},\"hovermode\":\"closest\",\"hoverlabel\":{\"align\":\"left\"},\"paper_bgcolor\":\"white\",\"plot_bgcolor\":\"#E5ECF6\",\"polar\":{\"bgcolor\":\"#E5ECF6\",\"angularaxis\":{\"gridcolor\":\"white\",\"linecolor\":\"white\",\"ticks\":\"\"},\"radialaxis\":{\"gridcolor\":\"white\",\"linecolor\":\"white\",\"ticks\":\"\"}},\"ternary\":{\"bgcolor\":\"#E5ECF6\",\"aaxis\":{\"gridcolor\":\"white\",\"linecolor\":\"white\",\"ticks\":\"\"},\"baxis\":{\"gridcolor\":\"white\",\"linecolor\":\"white\",\"ticks\":\"\"},\"caxis\":{\"gridcolor\":\"white\",\"linecolor\":\"white\",\"ticks\":\"\"}},\"coloraxis\":{\"colorbar\":{\"outlinewidth\":0,\"ticks\":\"\"}},\"colorscale\":{\"sequential\":[[0.0,\"#0d0887\"],[0.1111111111111111,\"#46039f\"],[0.2222222222222222,\"#7201a8\"],[0.3333333333333333,\"#9c179e\"],[0.4444444444444444,\"#bd3786\"],[0.5555555555555556,\"#d8576b\"],[0.6666666666666666,\"#ed7953\"],[0.7777777777777778,\"#fb9f3a\"],[0.8888888888888888,\"#fdca26\"],[1.0,\"#f0f921\"]],\"sequentialminus\":[[0.0,\"#0d0887\"],[0.1111111111111111,\"#46039f\"],[0.2222222222222222,\"#7201a8\"],[0.3333333333333333,\"#9c179e\"],[0.4444444444444444,\"#bd3786\"],[0.5555555555555556,\"#d8576b\"],[0.6666666666666666,\"#ed7953\"],[0.7777777777777778,\"#fb9f3a\"],[0.8888888888888888,\"#fdca26\"],[1.0,\"#f0f921\"]],\"diverging\":[[0,\"#8e0152\"],[0.1,\"#c51b7d\"],[0.2,\"#de77ae\"],[0.3,\"#f1b6da\"],[0.4,\"#fde0ef\"],[0.5,\"#f7f7f7\"],[0.6,\"#e6f5d0\"],[0.7,\"#b8e186\"],[0.8,\"#7fbc41\"],[0.9,\"#4d9221\"],[1,\"#276419\"]]},\"xaxis\":{\"gridcolor\":\"white\",\"linecolor\":\"white\",\"ticks\":\"\",\"title\":{\"standoff\":15},\"zerolinecolor\":\"white\",\"automargin\":true,\"zerolinewidth\":2},\"yaxis\":{\"gridcolor\":\"white\",\"linecolor\":\"white\",\"ticks\":\"\",\"title\":{\"standoff\":15},\"zerolinecolor\":\"white\",\"automargin\":true,\"zerolinewidth\":2},\"scene\":{\"xaxis\":{\"backgroundcolor\":\"#E5ECF6\",\"gridcolor\":\"white\",\"linecolor\":\"white\",\"showbackground\":true,\"ticks\":\"\",\"zerolinecolor\":\"white\",\"gridwidth\":2},\"yaxis\":{\"backgroundcolor\":\"#E5ECF6\",\"gridcolor\":\"white\",\"linecolor\":\"white\",\"showbackground\":true,\"ticks\":\"\",\"zerolinecolor\":\"white\",\"gridwidth\":2},\"zaxis\":{\"backgroundcolor\":\"#E5ECF6\",\"gridcolor\":\"white\",\"linecolor\":\"white\",\"showbackground\":true,\"ticks\":\"\",\"zerolinecolor\":\"white\",\"gridwidth\":2}},\"shapedefaults\":{\"line\":{\"color\":\"#2a3f5f\"}},\"annotationdefaults\":{\"arrowcolor\":\"#2a3f5f\",\"arrowhead\":0,\"arrowwidth\":1},\"geo\":{\"bgcolor\":\"white\",\"landcolor\":\"#E5ECF6\",\"subunitcolor\":\"white\",\"showland\":true,\"showlakes\":true,\"lakecolor\":\"white\"},\"title\":{\"x\":0.05},\"mapbox\":{\"style\":\"light\"}}},\"xaxis\":{\"anchor\":\"y\",\"domain\":[0.0,1.0],\"title\":{\"text\":\"x\"}},\"yaxis\":{\"anchor\":\"x\",\"domain\":[0.0,1.0],\"title\":{\"text\":\"y\"}},\"coloraxis\":{\"colorbar\":{\"title\":{\"text\":\"color\"}},\"colorscale\":[[0.0,\"#0d0887\"],[0.1111111111111111,\"#46039f\"],[0.2222222222222222,\"#7201a8\"],[0.3333333333333333,\"#9c179e\"],[0.4444444444444444,\"#bd3786\"],[0.5555555555555556,\"#d8576b\"],[0.6666666666666666,\"#ed7953\"],[0.7777777777777778,\"#fb9f3a\"],[0.8888888888888888,\"#fdca26\"],[1.0,\"#f0f921\"]]},\"legend\":{\"tracegroupgap\":0},\"margin\":{\"t\":60},\"width\":800,\"height\":600},                        {\"responsive\": true}                    ).then(function(){\n",
              "                            \n",
              "var gd = document.getElementById('21549417-8a28-471c-b289-b55e5e8d1e1f');\n",
              "var x = new MutationObserver(function (mutations, observer) {{\n",
              "        var display = window.getComputedStyle(gd).display;\n",
              "        if (!display || display === 'none') {{\n",
              "            console.log([gd, 'removed!']);\n",
              "            Plotly.purge(gd);\n",
              "            observer.disconnect();\n",
              "        }}\n",
              "}});\n",
              "\n",
              "// Listen for the removal of the full notebook cells\n",
              "var notebookContainer = gd.closest('#notebook-container');\n",
              "if (notebookContainer) {{\n",
              "    x.observe(notebookContainer, {childList: true});\n",
              "}}\n",
              "\n",
              "// Listen for the clearing of the current output cell\n",
              "var outputEl = gd.closest('.output');\n",
              "if (outputEl) {{\n",
              "    x.observe(outputEl, {childList: true});\n",
              "}}\n",
              "\n",
              "                        })                };                            </script>        </div>\n",
              "</body>\n",
              "</html>"
            ]
          },
          "metadata": {}
        }
      ]
    },
    {
      "cell_type": "code",
      "source": [],
      "metadata": {
        "id": "Bmc8d0vG1e3j"
      },
      "execution_count": null,
      "outputs": []
    }
  ]
}