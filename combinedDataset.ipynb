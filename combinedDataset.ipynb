{
  "nbformat": 4,
  "nbformat_minor": 0,
  "metadata": {
    "colab": {
      "provenance": [],
      "authorship_tag": "ABX9TyNESfvXC7E99W18MmxP+w4K",
      "include_colab_link": true
    },
    "kernelspec": {
      "name": "python3",
      "display_name": "Python 3"
    },
    "language_info": {
      "name": "python"
    }
  },
  "cells": [
    {
      "cell_type": "markdown",
      "metadata": {
        "id": "view-in-github",
        "colab_type": "text"
      },
      "source": [
        "<a href=\"https://colab.research.google.com/github/JohannesKarwou/notebooks/blob/main/combinedDataset.ipynb\" target=\"_parent\"><img src=\"https://colab.research.google.com/assets/colab-badge.svg\" alt=\"Open In Colab\"/></a>"
      ]
    },
    {
      "cell_type": "code",
      "execution_count": 129,
      "metadata": {
        "id": "fCp0S33bb2Nu"
      },
      "outputs": [],
      "source": [
        "import pandas as pd\n",
        "import numpy as np\n",
        "import csv\n",
        "import matplotlib\n",
        "import matplotlib.pyplot as plt\n",
        "import matplotlib.patches as mpatches\n",
        "from matplotlib.offsetbox import AnchoredText\n",
        "from matplotlib.ticker import MaxNLocator\n",
        "import seaborn as sns\n",
        "import scipy\n",
        "from sklearn.metrics import mean_absolute_error, mean_squared_error\n",
        "from matplotlib.legend_handler import HandlerTuple\n",
        "plt.set_loglevel(\"WARNING\")"
      ]
    },
    {
      "cell_type": "code",
      "source": [
        "# set up color palette\n",
        "palett = sns.color_palette(n_colors=8)\n",
        "palett_as_hex = palett.as_hex()\n",
        "\n",
        "c1, c2, c3, c4, c5, c7 = (\n",
        "    palett_as_hex[0],\n",
        "    palett_as_hex[1],\n",
        "    palett_as_hex[2],\n",
        "    palett_as_hex[3],\n",
        "    palett_as_hex[4],\n",
        "    palett_as_hex[6],\n",
        ")\n",
        "c8 = matplotlib.colors.to_rgba(\"k\", alpha=0.1)\n",
        "c8_2 = matplotlib.colors.to_rgba(\"k\", alpha=0.01)\n",
        "# c5 = lila\n",
        "# c7= rosa"
      ],
      "metadata": {
        "id": "95CyrJv3b-Uy"
      },
      "execution_count": 3,
      "outputs": []
    },
    {
      "cell_type": "code",
      "source": [
        "data = pd.read_csv(\"sample_data/combinedDataset.csv\")"
      ],
      "metadata": {
        "id": "BKhMr2XxcOUN"
      },
      "execution_count": 4,
      "outputs": []
    },
    {
      "cell_type": "code",
      "source": [
        "def bootstrap_metric(fct, x_values, y_values, p_value=False):\n",
        "    bootstrapped_metric = []\n",
        "    # bootstrap metric to generate test distribution\n",
        "    for _ in range(1000):\n",
        "        indices = np.random.choice(\n",
        "            range(0, len(x_values)), size=len(x_values), replace=True\n",
        "        )\n",
        "        x_selection = np.take(x_values, indices)\n",
        "        y_selection = np.take(y_values, indices)\n",
        "        if p_value:\n",
        "            r = fct(x_selection, y_selection)[0]\n",
        "        else:\n",
        "            r = fct(x_selection, y_selection)\n",
        "        bootstrapped_metric.append(r)\n",
        "\n",
        "    # define 95% CI\n",
        "    alpha = 5.0\n",
        "    lower_p = alpha / 2.0\n",
        "    # get value at or near percentile (take a look at the definition of percentile if\n",
        "    # you have less than 100 values to make sure you understand what is happening)\n",
        "    lower = np.percentile(bootstrapped_metric, lower_p)\n",
        "    upper_p = (100 - alpha) + (alpha / 2.0)\n",
        "    upper = np.percentile(bootstrapped_metric, upper_p)\n",
        "    # calculate true mean\n",
        "    if p_value:\n",
        "        mean = fct(x_values, y_values)[0]\n",
        "    else:\n",
        "        mean = fct(x_values, y_values)\n",
        "    return mean, lower, upper\n",
        "\n",
        "def calculate_statistics(x_values, y_values,output=False):\n",
        "    # bootstrap RMSE\n",
        "    def calc_rmse(x_values, y_values):\n",
        "        return np.sqrt(mean_squared_error(x_values, y_values))\n",
        "\n",
        "    rmse_mean, rmse_lower, rmse_upper = bootstrap_metric(calc_rmse, x_values, y_values)\n",
        "    if output:\n",
        "      print(\n",
        "        f\"RMSE:  {round(rmse_mean, 2)} [{round(rmse_lower,2)}, {round(rmse_upper,2)}]\"\n",
        "      )\n",
        "\n",
        "    # bootstrap MAE\n",
        "    mae_mean, mae_lower, mae_upper = bootstrap_metric(\n",
        "        mean_absolute_error, x_values, y_values\n",
        "    )\n",
        "    if output:\n",
        "      print(f\"MAE:  {round(mae_mean, 2)} [{round(mae_lower,2)}, {round(mae_upper,2)}]\")\n",
        "\n",
        "    # bootstrap Pearson\n",
        "    pearson_mean, pearson_lower, pearson_upper = bootstrap_metric(\n",
        "        scipy.stats.pearsonr, x_values, y_values, p_value=True\n",
        "    )\n",
        "    # print(\n",
        "    #     f\"Pearson correlation:  {round(pearson_mean, 2)} [{round(pearson_lower,2)}, {round(pearson_upper,2)}]\"\n",
        "    # )\n",
        "\n",
        "    # bootstrap Spearman\n",
        "    spearman_mean, spearman_lower, spearman_upper = bootstrap_metric(\n",
        "        scipy.stats.spearmanr, x_values, y_values, p_value=True\n",
        "    )\n",
        "    # print(\n",
        "    #     f\"Spearman's correlation:  {round(spearman_mean, 2)} [{round(spearman_lower,2)}, {round(spearman_upper,2)}]\"\n",
        "    # )\n",
        "\n",
        "    # bootstrap Kendalltau\n",
        "    kendall_mean, kendall_lower, kendall_upper = bootstrap_metric(\n",
        "        scipy.stats.kendalltau, x_values, y_values, p_value=True\n",
        "    )\n",
        "    # print(\n",
        "    #     f\"Kendalltau: {round(kendall_mean, 2)} [{round(kendall_lower,2)}, {round(kendall_upper,2)}]\"\n",
        "    # )\n",
        "\n",
        "    return (\n",
        "        round(rmse_mean, 2),\n",
        "        round(mae_mean, 2),\n",
        "        round(pearson_mean, 2),\n",
        "        round(spearman_mean, 2),\n",
        "        round(kendall_mean, 2),\n",
        "    )"
      ],
      "metadata": {
        "id": "5COGvoh-cZs8"
      },
      "execution_count": 123,
      "outputs": []
    },
    {
      "cell_type": "markdown",
      "source": [
        "Results for the **OpenFF** data"
      ],
      "metadata": {
        "id": "I8l8t4-9cyi8"
      }
    },
    {
      "cell_type": "code",
      "source": [
        "print(f\"###### Without Corretion -- pure MM results ######\")\n",
        "calculate_statistics(data[\"Exp [kcal/mol]\"],data[\"MM-ASFE [kcal/mol]\"])\n",
        "print(f\"###### Corrected results ######\")\n",
        "calculate_statistics(data[\"Exp [kcal/mol]\"],data[\"ML-ASFE [kcal/mol]\"])"
      ],
      "metadata": {
        "colab": {
          "base_uri": "https://localhost:8080/"
        },
        "id": "6qHrMpXmcj7R",
        "outputId": "80c0f72a-c999-4f67-a4bf-54e153b1135c"
      },
      "execution_count": 7,
      "outputs": [
        {
          "output_type": "stream",
          "name": "stdout",
          "text": [
            "###### Without Corretion -- pure MM results ######\n",
            "RMSE:  2.11 [1.91, 2.31]\n",
            "MAE:  1.83 [1.67, 2.0]\n",
            "Pearson correlation:  0.9 [0.87, 0.92]\n",
            "Spearman's correlation:  0.91 [0.88, 0.93]\n",
            "Kendalltau: 0.75 [0.7, 0.79]\n",
            "###### Corrected results ######\n",
            "RMSE:  1.92 [1.71, 2.12]\n",
            "MAE:  1.61 [1.45, 1.78]\n",
            "Pearson correlation:  0.93 [0.9, 0.95]\n",
            "Spearman's correlation:  0.92 [0.89, 0.94]\n",
            "Kendalltau: 0.76 [0.72, 0.81]\n"
          ]
        },
        {
          "output_type": "execute_result",
          "data": {
            "text/plain": [
              "(1.92, 1.61, 0.93, 0.92, 0.76)"
            ]
          },
          "metadata": {},
          "execution_count": 7
        }
      ]
    },
    {
      "cell_type": "markdown",
      "source": [
        "Results for the **CGenFF** data"
      ],
      "metadata": {
        "id": "xvPcQA_-c2fJ"
      }
    },
    {
      "cell_type": "code",
      "source": [
        "print(f\"###### Without Corretion -- pure MM results ######\")\n",
        "calculate_statistics(data[\"Exp [kcal/mol]\"],data[\"dG (TF) lrc\"])\n",
        "print(f\"###### Corrected results Jar ######\")\n",
        "calculate_statistics(data[\"Exp [kcal/mol]\"],data[\"Jar result\"])"
      ],
      "metadata": {
        "colab": {
          "base_uri": "https://localhost:8080/"
        },
        "id": "Bf_eOx-tcoqB",
        "outputId": "6baed712-dd65-4e16-e64c-ae6fa466aa01"
      },
      "execution_count": 17,
      "outputs": [
        {
          "output_type": "stream",
          "name": "stdout",
          "text": [
            "###### Without Corretion -- pure MM results ######\n",
            "RMSE:  3.1 [2.58, 3.6]\n",
            "MAE:  2.33 [2.03, 2.69]\n",
            "Pearson correlation:  0.77 [0.7, 0.83]\n",
            "Spearman's correlation:  0.76 [0.66, 0.84]\n",
            "Kendalltau: 0.6 [0.51, 0.68]\n",
            "###### Corrected results Jar ######\n",
            "RMSE:  2.97 [2.39, 3.51]\n",
            "MAE:  2.14 [1.84, 2.47]\n",
            "Pearson correlation:  0.81 [0.72, 0.87]\n",
            "Spearman's correlation:  0.76 [0.66, 0.85]\n",
            "Kendalltau: 0.6 [0.52, 0.68]\n"
          ]
        },
        {
          "output_type": "execute_result",
          "data": {
            "text/plain": [
              "(2.97, 2.14, 0.81, 0.76, 0.6)"
            ]
          },
          "metadata": {},
          "execution_count": 17
        }
      ]
    },
    {
      "cell_type": "code",
      "source": [
        "data[\"EXS correction\"] = np.abs(data[\"ML-ASFE [kcal/mol]\"]-data[\"MM-ASFE [kcal/mol]\"])\n"
      ],
      "metadata": {
        "id": "IXYasDKec_WW"
      },
      "execution_count": 105,
      "outputs": []
    },
    {
      "cell_type": "code",
      "source": [
        "results = {}\n",
        "results_cgenff = {}\n",
        "results_cgenff_crooks = {}\n",
        "for i in range(0,6,1):\n",
        "  i = i/10\n",
        "  reducedData = data.drop(data[np.abs(data['EXS correction']) < i ].index)\n",
        "  reducedData = reducedData.drop(reducedData[np.abs(reducedData['Jar correction']) < i ].index)\n",
        "  ###### Without Corretion -- pure MM results ######\n",
        "  rmse0,mae0,_,_,_ = calculate_statistics(reducedData[\"Exp [kcal/mol]\"],reducedData[\"MM-ASFE [kcal/mol]\"])\n",
        "  Crmse0,Cmae0,_,_,_ = calculate_statistics(reducedData[\"Exp [kcal/mol]\"],reducedData[\"dG (TF) lrc\"])\n",
        "  ###### Corrected results ######\n",
        "  rmse1,mae1,_,_,_ = calculate_statistics(reducedData[\"Exp [kcal/mol]\"],reducedData[\"ML-ASFE [kcal/mol]\"])\n",
        "  Crmse1,Cmae1,_,_,_ = calculate_statistics(reducedData[\"Exp [kcal/mol]\"],reducedData[\"Jar result\"])\n",
        "  CrooksRmse1,CrooksMae1,_,_,_ = calculate_statistics(reducedData[\"Exp [kcal/mol]\"],reducedData[\"Crooks result\"])\n",
        "  results[i] = rmse0-rmse1,len(reducedData)\n",
        "  results_cgenff[i] = Crmse0-Crmse1,len(reducedData)\n",
        "  results_cgenff_crooks[i] = Crmse0 - CrooksRmse1"
      ],
      "metadata": {
        "id": "BFgM2QmMdQcf"
      },
      "execution_count": 124,
      "outputs": []
    },
    {
      "cell_type": "code",
      "source": [
        "fig, ax1 = plt.subplots()\n",
        "ax1.scatter(results.keys(),[item[0] for item in results.values()], label = \"OpenFF\")\n",
        "ax1.scatter(results_cgenff.keys(),[item[0] for item in results_cgenff.values()],marker =\"v\", label = \"CGenFF- Jar\")\n",
        "ax1.scatter(results_cgenff_crooks.keys(),results_cgenff_crooks.values(), marker = \"v\", label = \"CGenFF- Crooks\")\n",
        "ax1.set_ylabel(\"Correction (kcal/mol)\")\n",
        "ax1.set_xlabel(\"Exclude all molecules with correction less than threshold\")\n",
        "ax2 = ax1.twinx()\n",
        "ax2.scatter(results.keys(),[item[1] for item in results.values()],marker=\"x\",color=\"black\",label=\"# of molecules\")\n",
        "ax2.set_ylabel(\"# of molceules\")\n",
        "ax1.legend(frameon=True,loc=\"upper center\")"
      ],
      "metadata": {
        "colab": {
          "base_uri": "https://localhost:8080/",
          "height": 466
        },
        "id": "88ZI6ed-iKCD",
        "outputId": "c87803ac-4fd0-437d-e2a9-ea29593420cc"
      },
      "execution_count": 128,
      "outputs": [
        {
          "output_type": "execute_result",
          "data": {
            "text/plain": [
              "<matplotlib.legend.Legend at 0x7fde711702b0>"
            ]
          },
          "metadata": {},
          "execution_count": 128
        },
        {
          "output_type": "display_data",
          "data": {
            "text/plain": [
              "<Figure size 640x480 with 2 Axes>"
            ],
            "image/png": "[encoded data removed]"
          },
          "metadata": {}
        }
      ]
    },
    {
      "cell_type": "code",
      "source": [],
      "metadata": {
        "id": "d5nC0KrxkGSg"
      },
      "execution_count": null,
      "outputs": []
    }
  ]
}