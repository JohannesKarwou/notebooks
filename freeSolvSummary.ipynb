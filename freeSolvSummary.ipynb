{
  "nbformat": 4,
  "nbformat_minor": 0,
  "metadata": {
    "colab": {
      "provenance": [],
      "authorship_tag": "ABX9TyOYeJU5ioofv5WB+BkPdv0v",
      "include_colab_link": true
    },
    "kernelspec": {
      "name": "python3",
      "display_name": "Python 3"
    },
    "language_info": {
      "name": "python"
    }
  },
  "cells": [
    {
      "cell_type": "markdown",
      "metadata": {
        "id": "view-in-github",
        "colab_type": "text"
      },
      "source": [
        "<a href=\"https://colab.research.google.com/github/JohannesKarwou/notebooks/blob/main/freeSolvSummary.ipynb\" target=\"_parent\"><img src=\"https://colab.research.google.com/assets/colab-badge.svg\" alt=\"Open In Colab\"/></a>"
      ]
    },
    {
      "cell_type": "code",
      "execution_count": 1,
      "metadata": {
        "colab": {
          "base_uri": "https://localhost:8080/"
        },
        "id": "8gZ7OoNDjZE7",
        "outputId": "ddb89a95-77df-42be-d1dd-3e179d41a158"
      },
      "outputs": [
        {
          "output_type": "stream",
          "name": "stdout",
          "text": [
            "Installing collected packages: python-dotenv, nest-asyncio, jedi, datasketches, datasketch, lambdaprompt, sketch\n",
            "Successfully installed datasketch-1.5.8 datasketches-4.0.0 jedi-0.18.2 lambdaprompt-0.3.3 nest-asyncio-1.5.6 python-dotenv-0.21.1 sketch-0.3.4\n"
          ]
        }
      ],
      "source": [
        "! pip install sketch"
      ]
    },
    {
      "cell_type": "code",
      "source": [
        "import sketch"
      ],
      "metadata": {
        "id": "1yss49BOjhT0"
      },
      "execution_count": 2,
      "outputs": []
    },
    {
      "cell_type": "code",
      "source": [],
      "metadata": {
        "id": "YpAe0hPgjiec"
      },
      "execution_count": null,
      "outputs": []
    }
  ]
}