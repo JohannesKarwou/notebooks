{
  "nbformat": 4,
  "nbformat_minor": 0,
  "metadata": {
    "colab": {
      "provenance": [],
      "authorship_tag": "ABX9TyMa3imgx2xgzdbQHKv6Od+G",
      "include_colab_link": true
    },
    "kernelspec": {
      "name": "python3",
      "display_name": "Python 3"
    },
    "language_info": {
      "name": "python"
    }
  },
  "cells": [
    {
      "cell_type": "markdown",
      "metadata": {
        "id": "view-in-github",
        "colab_type": "text"
      },
      "source": [
        "<a href=\"https://colab.research.google.com/github/JohannesKarwou/notebooks/blob/main/freeSolvSummary.ipynb\" target=\"_parent\"><img src=\"https://colab.research.google.com/assets/colab-badge.svg\" alt=\"Open In Colab\"/></a>"
      ]
    },
    {
      "cell_type": "code",
      "execution_count": null,
      "metadata": {
        "id": "8gZ7OoNDjZE7"
      },
      "outputs": [],
      "source": [
        "! pip install sketch"
      ]
    },
    {
      "cell_type": "code",
      "source": [
        "import sketch\n",
        "import numpy as np\n",
        "import pandas as pd\n",
        "import matplotlib.pyplot as plt\n",
        "import seaborn as sns\n",
        "import scipy\n",
        "from sklearn.metrics import mean_absolute_error, mean_squared_error"
      ],
      "metadata": {
        "id": "1yss49BOjhT0"
      },
      "execution_count": 16,
      "outputs": []
    },
    {
      "cell_type": "code",
      "source": [
        "data = pd.read_csv(\"https://raw.githubusercontent.com/JohannesKarwou/notebooks/main/data/finalOverview.csv\")"
      ],
      "metadata": {
        "id": "p4v7pA0kkSdi"
      },
      "execution_count": 10,
      "outputs": []
    },
    {
      "cell_type": "code",
      "source": [
        "def plotting_grey_area(i):\n",
        "    # shaded grey area   \n",
        "    x = np.linspace(-30,20,5)\n",
        "    y = x\n",
        "    axs[i].plot(x, y, alpha = 0.9, color = 'C7',linestyle='dashed')\n",
        "    y2 = x +1\n",
        "    axs[i].plot(x, y2, alpha = 0.3, color = 'C7',linestyle='dashed')\n",
        "    y3 = x -1 \n",
        "    axs[i].plot(x, y3, alpha = 0.3, color = 'C7',linestyle='dashed')\n",
        "    axs[i].fill_between(x,y2,y3, alpha = 0.3, color = 'Grey')\n",
        "\n",
        "    x = np.linspace(-30,20,5)\n",
        "    y = x\n",
        "    axs[i].plot(x, y, alpha = 0.9, color = 'C7',linestyle='dashed')\n",
        "    y2 = x +2\n",
        "    axs[i].plot(x, y2, alpha = 0.3, color = 'C7',linestyle='dashed')\n",
        "    y3 = x -2 \n",
        "    axs[i].plot(x, y3, alpha = 0.3, color = 'C7',linestyle='dashed')\n",
        "    axs[i].fill_between(x,y2,y3, alpha = 0.3, color = 'Grey')"
      ],
      "metadata": {
        "id": "YpAe0hPgjiec"
      },
      "execution_count": 11,
      "outputs": []
    },
    {
      "cell_type": "code",
      "source": [
        "def bootstrap_function(x_values, y_values):\n",
        "  # bootstrap metric\n",
        "  def bootstrap_metric(fct, x_values, y_values):\n",
        "      assert callable(fct) == True\n",
        "      bootstrapped_metric = []\n",
        "      # bootstrap metric to generate test distribution\n",
        "      for _ in range(1000):\n",
        "          indices = np.random.choice(range(0, len(x_values)), size=len(x_values), replace=True)\n",
        "          x_selection = np.take(x_values, indices)\n",
        "          y_selection = np.take(y_values, indices)\n",
        "          r = fct(x_selection, y_selection)\n",
        "          bootstrapped_metric.append(r)    \n",
        "\n",
        "      # define 90% CI\n",
        "      alpha = 10.0\n",
        "      lower_p = alpha / 2.0\n",
        "      # get value at or near percentile (take a look at the definition of percentile if \n",
        "      # you have less than 100 values to make sure you understand what is happening)\n",
        "      lower = np.percentile(bootstrapped_metric, lower_p)\n",
        "      upper_p = (100 - alpha) + (alpha / 2.0)\n",
        "      upper = np.percentile(bootstrapped_metric, upper_p)\n",
        "      # calculate true mean\n",
        "      mean = fct(x_values, y_values)\n",
        "\n",
        "      return mean, lower, upper\n",
        "  \n",
        "  # bootstrap RMSE\n",
        "  def calc_rmse(x_values, y_values):\n",
        "      return np.sqrt(mean_squared_error(x_values, y_values))\n",
        "  mean, lower, upper = bootstrap_metric(calc_rmse, x_values, y_values)\n",
        "  print(f'RMSE:  {round(mean, 2):.2f} [{round(lower,2):.2f}, {round(upper,2):.2f}]')\n",
        "\n",
        "  # bootstrap MAE\n",
        "  mean, lower, upper = bootstrap_metric(mean_absolute_error, x_values, y_values)\n",
        "  print(f'MAE:  {round(mean, 2):.2f} [{round(lower,2):.2f}, {round(upper,2):.2f}]')"
      ],
      "metadata": {
        "id": "zV_a5T7GkFyM"
      },
      "execution_count": 61,
      "outputs": []
    },
    {
      "cell_type": "code",
      "source": [
        "def bootstrap_function_spearman(x_values, y_values):\n",
        "  # bootstrap metric\n",
        "  def bootstrap_metric(x_values, y_values):\n",
        "      bootstrapped_metric = []\n",
        "      # bootstrap metric to generate test distribution\n",
        "      for _ in range(1000):\n",
        "          indices = np.random.choice(range(0, len(x_values)), size=len(x_values), replace=True)\n",
        "          x_selection = np.take(x_values, indices)\n",
        "          y_selection = np.take(y_values, indices)\n",
        "          r = scipy.stats.spearmanr(x_selection, y_selection)[0]\n",
        "          bootstrapped_metric.append(r)    \n",
        "\n",
        "      # define 90% CI\n",
        "      alpha = 10.0\n",
        "      lower_p = alpha / 2.0\n",
        "      # get value at or near percentile (take a look at the definition of percentile if \n",
        "      # you have less than 100 values to make sure you understand what is happening)\n",
        "      lower = np.percentile(bootstrapped_metric, lower_p)\n",
        "      upper_p = (100 - alpha) + (alpha / 2.0)\n",
        "      upper = np.percentile(bootstrapped_metric, upper_p)\n",
        "      # calculate true mean\n",
        "      spearman = scipy.stats.spearmanr(x_values, y_values)[0]\n",
        "      return spearman, lower, upper\n",
        "      # bootstrap MAE\n",
        "  spear, lower, upper = bootstrap_metric(x_values, y_values)\n",
        "  print(f\"Spearman's correlation:  {round(spear, 2):.2f} [{round(lower,2):.2f}, {round(upper,2):.2f}]\")\n",
        "\n",
        "def bootstrap_function_pearson(x_values, y_values):\n",
        "  # bootstrap metric\n",
        "  def bootstrap_metric(x_values, y_values):\n",
        "      bootstrapped_metric = []\n",
        "      # bootstrap metric to generate test distribution\n",
        "      for _ in range(1000):\n",
        "          indices = np.random.choice(range(0, len(x_values)), size=len(x_values), replace=True)\n",
        "          x_selection = np.take(x_values, indices)\n",
        "          y_selection = np.take(y_values, indices)\n",
        "          r = scipy.stats.pearsonr(x_selection, y_selection)[0]\n",
        "          bootstrapped_metric.append(r)    \n",
        "\n",
        "      # define 90% CI\n",
        "      alpha = 10.0\n",
        "      lower_p = alpha / 2.0\n",
        "      # get value at or near percentile (take a look at the definition of percentile if \n",
        "      # you have less than 100 values to make sure you understand what is happening)\n",
        "      lower = np.percentile(bootstrapped_metric, lower_p)\n",
        "      upper_p = (100 - alpha) + (alpha / 2.0)\n",
        "      upper = np.percentile(bootstrapped_metric, upper_p)\n",
        "      # calculate true mean\n",
        "      pearson = scipy.stats.pearsonr(x_values, y_values)[0]\n",
        "\n",
        "      return pearson, lower, upper\n",
        "\n",
        "  # bootstrap MAE\n",
        "  pearson, lower, upper = bootstrap_metric(x_values, y_values)\n",
        "  print(f\"Pearson correlation:  {round(pearson, 2):.2f} [{round(lower,2):.2f}, {round(upper,2):.2f}]\")"
      ],
      "metadata": {
        "id": "5wyPEXoPHC_o"
      },
      "execution_count": 62,
      "outputs": []
    },
    {
      "cell_type": "code",
      "source": [
        "data = data[~np.isnan(data['dG (TF)'])]\n",
        "bootstrap_function(data[\" experimental value (kcal/mol)\"],data[\"dG (TF)\"])"
      ],
      "metadata": {
        "id": "IwHu9p6_kcqV",
        "outputId": "e578ccbc-c536-4599-ebea-aff752ba5b3c",
        "colab": {
          "base_uri": "https://localhost:8080/"
        }
      },
      "execution_count": 66,
      "outputs": [
        {
          "output_type": "stream",
          "name": "stdout",
          "text": [
            "RMSE:  1.88 [1.71, 2.09]\n",
            "MAE:  1.31 [1.22, 1.40]\n"
          ]
        }
      ]
    },
    {
      "cell_type": "code",
      "source": [
        "scipy.stats.spearmanr(data[\" experimental value (kcal/mol)\"],data[\"dG (TF)\"])"
      ],
      "metadata": {
        "id": "iyVOv0xZlgTE",
        "outputId": "81fcce4c-0c92-4695-f37f-74171c50012e",
        "colab": {
          "base_uri": "https://localhost:8080/"
        }
      },
      "execution_count": 42,
      "outputs": [
        {
          "output_type": "execute_result",
          "data": {
            "text/plain": [
              "SpearmanrResult(correlation=0.9107855188075532, pvalue=5.510583506275039e-240)"
            ]
          },
          "metadata": {},
          "execution_count": 42
        }
      ]
    },
    {
      "cell_type": "code",
      "source": [
        "bootstrap_function_spearman(data[\" experimental value (kcal/mol)\"],data[\"dG (TF)\"])"
      ],
      "metadata": {
        "id": "LO2NgOZ0Hodf",
        "outputId": "38cd4a1d-68b8-4a5d-862e-8d832a60bf82",
        "colab": {
          "base_uri": "https://localhost:8080/"
        }
      },
      "execution_count": 63,
      "outputs": [
        {
          "output_type": "stream",
          "name": "stdout",
          "text": [
            "Spearman's correlation:  0.91 [0.89, 0.93]\n"
          ]
        }
      ]
    },
    {
      "cell_type": "code",
      "source": [
        "round(scipy.stats.pearsonr(data[\" experimental value (kcal/mol)\"],data[\"dG (TF)\"])[0],2)"
      ],
      "metadata": {
        "id": "upCztQCjIOXK",
        "outputId": "e37a75b5-deee-4b80-819f-f6355bd60bdd",
        "colab": {
          "base_uri": "https://localhost:8080/"
        }
      },
      "execution_count": 58,
      "outputs": [
        {
          "output_type": "execute_result",
          "data": {
            "text/plain": [
              "0.9"
            ]
          },
          "metadata": {},
          "execution_count": 58
        }
      ]
    },
    {
      "cell_type": "code",
      "source": [
        "bootstrap_function_pearson(data[\" experimental value (kcal/mol)\"],data[\"dG (TF)\"])"
      ],
      "metadata": {
        "id": "GsS_J4I2IW36",
        "outputId": "1b1d838c-8ef8-4120-97ed-91efe02623bf",
        "colab": {
          "base_uri": "https://localhost:8080/"
        }
      },
      "execution_count": 64,
      "outputs": [
        {
          "output_type": "stream",
          "name": "stdout",
          "text": [
            "Pearson correlation:  0.90 [0.88, 0.92]\n"
          ]
        }
      ]
    },
    {
      "cell_type": "code",
      "source": [],
      "metadata": {
        "id": "xibVDWtYI4LS"
      },
      "execution_count": null,
      "outputs": []
    }
  ]
}