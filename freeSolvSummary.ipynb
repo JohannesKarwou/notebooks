{
  "nbformat": 4,
  "nbformat_minor": 0,
  "metadata": {
    "colab": {
      "provenance": [],
      "authorship_tag": "ABX9TyOJsorWmLTimFUwBmt14fMC",
      "include_colab_link": true
    },
    "kernelspec": {
      "name": "python3",
      "display_name": "Python 3"
    },
    "language_info": {
      "name": "python"
    }
  },
  "cells": [
    {
      "cell_type": "markdown",
      "metadata": {
        "id": "view-in-github",
        "colab_type": "text"
      },
      "source": [
        "<a href=\"https://colab.research.google.com/github/JohannesKarwou/notebooks/blob/main/freeSolvSummary.ipynb\" target=\"_parent\"><img src=\"https://colab.research.google.com/assets/colab-badge.svg\" alt=\"Open In Colab\"/></a>"
      ]
    },
    {
      "cell_type": "code",
      "execution_count": null,
      "metadata": {
        "id": "8gZ7OoNDjZE7"
      },
      "outputs": [],
      "source": [
        "! pip install sketch"
      ]
    },
    {
      "cell_type": "code",
      "source": [
        "import sketch\n",
        "import numpy as np\n",
        "import pandas as pd\n",
        "import matplotlib.pyplot as plt\n",
        "import seaborn as sns\n",
        "from sklearn.metrics import mean_absolute_error, mean_squared_error"
      ],
      "metadata": {
        "id": "1yss49BOjhT0"
      },
      "execution_count": 11,
      "outputs": []
    },
    {
      "cell_type": "code",
      "source": [
        "data = pd.read_csv(\"https://raw.githubusercontent.com/JohannesKarwou/notebooks/main/data/finalOverview.csv\")"
      ],
      "metadata": {
        "id": "p4v7pA0kkSdi"
      },
      "execution_count": 8,
      "outputs": []
    },
    {
      "cell_type": "code",
      "source": [
        "def plotting_grey_area(i):\n",
        "    # shaded grey area   \n",
        "    x = np.linspace(-30,20,5)\n",
        "    y = x\n",
        "    axs[i].plot(x, y, alpha = 0.9, color = 'C7',linestyle='dashed')\n",
        "    y2 = x +1\n",
        "    axs[i].plot(x, y2, alpha = 0.3, color = 'C7',linestyle='dashed')\n",
        "    y3 = x -1 \n",
        "    axs[i].plot(x, y3, alpha = 0.3, color = 'C7',linestyle='dashed')\n",
        "    axs[i].fill_between(x,y2,y3, alpha = 0.3, color = 'Grey')\n",
        "\n",
        "    x = np.linspace(-30,20,5)\n",
        "    y = x\n",
        "    axs[i].plot(x, y, alpha = 0.9, color = 'C7',linestyle='dashed')\n",
        "    y2 = x +2\n",
        "    axs[i].plot(x, y2, alpha = 0.3, color = 'C7',linestyle='dashed')\n",
        "    y3 = x -2 \n",
        "    axs[i].plot(x, y3, alpha = 0.3, color = 'C7',linestyle='dashed')\n",
        "    axs[i].fill_between(x,y2,y3, alpha = 0.3, color = 'Grey')"
      ],
      "metadata": {
        "id": "YpAe0hPgjiec"
      },
      "execution_count": 6,
      "outputs": []
    },
    {
      "cell_type": "code",
      "source": [
        "def bootstrap_function(x_values, y_values):\n",
        "  # bootstrap metric\n",
        "  def bootstrap_metric(fct, x_values, y_values):\n",
        "      assert callable(fct) == True\n",
        "      bootstrapped_metric = []\n",
        "      # bootstrap metric to generate test distribution\n",
        "      for _ in range(1000):\n",
        "          indices = np.random.choice(range(0, len(x_values)), size=len(x_values), replace=True)\n",
        "          x_selection = np.take(x_values, indices)\n",
        "          y_selection = np.take(y_values, indices)\n",
        "          r = fct(x_selection, y_selection)\n",
        "          bootstrapped_metric.append(r)    \n",
        "\n",
        "      # define 90% CI\n",
        "      alpha = 10.0\n",
        "      lower_p = alpha / 2.0\n",
        "      # get value at or near percentile (take a look at the definition of percentile if \n",
        "      # you have less than 100 values to make sure you understand what is happening)\n",
        "      lower = np.percentile(bootstrapped_metric, lower_p)\n",
        "      upper_p = (100 - alpha) + (alpha / 2.0)\n",
        "      upper = np.percentile(bootstrapped_metric, upper_p)\n",
        "      # calculate true mean\n",
        "      mean = fct(x_values, y_values)\n",
        "\n",
        "      return mean, lower, upper\n",
        "\n",
        "  # bootstrap MAE\n",
        "  mean, lower, upper = bootstrap_metric(mean_absolute_error, x_values, y_values)\n",
        "  print(f'MAE:  {round(mean, 2):.2f} [{round(lower,2):.2f}, {round(upper,2):.2f}]')\n",
        "\n",
        "  # bootstrap RMSE\n",
        "  def calc_rmse(x_values, y_values):\n",
        "      return np.sqrt(mean_squared_error(x_values, y_values))\n",
        "  mean, lower, upper = bootstrap_metric(calc_rmse, x_values, y_values)\n",
        "  print(f'RMSE:  {round(mean, 2):.2f} [{round(lower,2):.2f}, {round(upper,2):.2f}]')"
      ],
      "metadata": {
        "id": "zV_a5T7GkFyM"
      },
      "execution_count": 7,
      "outputs": []
    },
    {
      "cell_type": "code",
      "source": [
        "plt.scatter(data[\" experimental value (kcal/mol)\"],data[\"dG (TF)\"])"
      ],
      "metadata": {
        "id": "P6FeDmyskQJu",
        "outputId": "13c32680-7193-49f7-ed3d-2df799be2470",
        "colab": {
          "base_uri": "https://localhost:8080/",
          "height": 283
        }
      },
      "execution_count": 13,
      "outputs": [
        {
          "output_type": "execute_result",
          "data": {
            "text/plain": [
              "<matplotlib.collections.PathCollection at 0x7f131afb6220>"
            ]
          },
          "metadata": {},
          "execution_count": 13
        },
        {
          "output_type": "display_data",
          "data": {
            "text/plain": [
              "<Figure size 432x288 with 1 Axes>"
            ],
            "image/png": "[encoded data removed]"
          },
          "metadata": {
            "needs_background": "light"
          }
        }
      ]
    },
    {
      "cell_type": "code",
      "source": [
        "data = data[~np.isnan(data['dG (TF)'])]\n",
        "\n",
        "bootstrap_function(data[\" experimental value (kcal/mol)\"],data[\"dG (TF)\"])"
      ],
      "metadata": {
        "id": "IwHu9p6_kcqV",
        "outputId": "7b40825a-265a-4414-ef77-7acbfe5de173",
        "colab": {
          "base_uri": "https://localhost:8080/"
        }
      },
      "execution_count": 33,
      "outputs": [
        {
          "output_type": "stream",
          "name": "stdout",
          "text": [
            "MAE:  1.37 [1.27, 1.48]\n",
            "RMSE:  2.07 [1.84, 2.34]\n"
          ]
        }
      ]
    },
    {
      "cell_type": "code",
      "source": [
        "data[\"dG (TF)\"]"
      ],
      "metadata": {
        "id": "iyVOv0xZlgTE",
        "outputId": "31fc45c6-377d-4edb-f492-337139345aff",
        "colab": {
          "base_uri": "https://localhost:8080/"
        }
      },
      "execution_count": 16,
      "outputs": [
        {
          "output_type": "execute_result",
          "data": {
            "text/plain": [
              "0      -4.75\n",
              "1      -5.40\n",
              "2      -4.48\n",
              "3      -3.01\n",
              "4     -10.32\n",
              "       ...  \n",
              "637     0.54\n",
              "638    -5.60\n",
              "639    -1.62\n",
              "640     2.68\n",
              "641    -3.82\n",
              "Name: dG (TF), Length: 642, dtype: float64"
            ]
          },
          "metadata": {},
          "execution_count": 16
        }
      ]
    },
    {
      "cell_type": "code",
      "source": [
        "%env SKETCH_MAX_COLUMNS 22\n",
        "data.sketch.howto(\"Remove nan or infinity from dG (TF) colum\")"
      ],
      "metadata": {
        "id": "SCZBoUCyllDT",
        "outputId": "5d806be9-4b7e-4acc-bdad-6136bc454c12",
        "colab": {
          "base_uri": "https://localhost:8080/",
          "height": 69
        }
      },
      "execution_count": 30,
      "outputs": [
        {
          "output_type": "stream",
          "name": "stdout",
          "text": [
            "env: SKETCH_MAX_COLUMNS=22\n"
          ]
        },
        {
          "output_type": "display_data",
          "data": {
            "text/plain": [
              "<IPython.core.display.HTML object>"
            ],
            "text/html": [
              "<div style=\"display:flex;flex-direction:row;justify-content:space-between;\">\n",
              "                <pre style=\"width: 100%; white-space: pre-wrap;\" id=\"4f533af0-59b5-4858-8a6c-5b02c3876b65\">\n",
              "# Remove nan or infinity from dG (TF) colum\n",
              "data = data[~np.isnan(data['dG (TF)']) & ~np.isinf(data['dG (TF)'])]\n",
              "</pre>\n",
              "                <button style=\"height: fit-content;\" onclick=\"navigator.clipboard.writeText(JSON.parse(atob(`IlxuIyBSZW1vdmUgbmFuIG9yIGluZmluaXR5IGZyb20gZEcgKFRGKSBjb2x1bVxuZGF0YSA9IGRhdGFbfm5wLmlzbmFuKGRhdGFbJ2RHIChURiknXSkgJiB+bnAuaXNpbmYoZGF0YVsnZEcgKFRGKSddKV1cbiI=`)))\">Copy</button>\n",
              "                </div>"
            ]
          },
          "metadata": {}
        }
      ]
    },
    {
      "cell_type": "code",
      "source": [],
      "metadata": {
        "id": "84VerqAQmPY0"
      },
      "execution_count": null,
      "outputs": []
    }
  ]
}