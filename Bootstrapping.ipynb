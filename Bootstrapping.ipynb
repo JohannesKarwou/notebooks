{
  "cells": [
    {
      "cell_type": "markdown",
      "metadata": {
        "id": "view-in-github",
        "colab_type": "text"
      },
      "source": [
        "<a href=\"https://colab.research.google.com/github/JohannesKarwou/notebooks/blob/main/Bootstrapping.ipynb\" target=\"_parent\"><img src=\"https://colab.research.google.com/assets/colab-badge.svg\" alt=\"Open In Colab\"/></a>"
      ]
    },
    {
      "cell_type": "code",
      "execution_count": 10,
      "metadata": {
        "id": "t11snvpY52J5"
      },
      "outputs": [],
      "source": [
        "import numpy as np\n",
        "import matplotlib.pyplot as plt\n",
        "import pandas as pd\n",
        "import scipy\n",
        "from sklearn.metrics import mean_absolute_error, mean_squared_error"
      ]
    },
    {
      "cell_type": "code",
      "execution_count": 11,
      "metadata": {
        "id": "_YO4AHcxadWP"
      },
      "outputs": [],
      "source": [
        "df = pd.read_csv(\"https://raw.githubusercontent.com/JohannesKarwou/notebooks/main/data/summary_ddG.csv\")\n",
        "df_dg = pd.read_csv(\"https://raw.githubusercontent.com/JohannesKarwou/notebooks/main/data/summary_dG.csv\")"
      ]
    },
    {
      "cell_type": "code",
      "execution_count": 12,
      "metadata": {
        "id": "lbwQ4hg46xUE"
      },
      "outputs": [],
      "source": [
        "def bootstrap_function(x_values, y_values):\n",
        "  # bootstrap metric\n",
        "  def bootstrap_metric(fct, x_values, y_values):\n",
        "      assert callable(fct) == True\n",
        "      bootstrapped_metric = []\n",
        "      # bootstrap metric to generate test distribution\n",
        "      for _ in range(1000):\n",
        "          indices = np.random.choice(range(0, len(x_values)), size=len(x_values), replace=True)\n",
        "          x_selection = np.take(x_values, indices)\n",
        "          y_selection = np.take(y_values, indices)\n",
        "          r = fct(x_selection, y_selection)\n",
        "          bootstrapped_metric.append(r)    \n",
        "\n",
        "      # define 90% CI\n",
        "      alpha = 10.0\n",
        "      lower_p = alpha / 2.0\n",
        "      # get value at or near percentile (take a look at the definition of percentile if \n",
        "      # you have less than 100 values to make sure you understand what is happening)\n",
        "      lower = np.percentile(bootstrapped_metric, lower_p)\n",
        "      upper_p = (100 - alpha) + (alpha / 2.0)\n",
        "      upper = np.percentile(bootstrapped_metric, upper_p)\n",
        "      # calculate true mean\n",
        "      mean = fct(x_values, y_values)\n",
        "\n",
        "      return mean, lower, upper\n",
        "\n",
        "  # bootstrap MAE\n",
        "  mean, lower, upper = bootstrap_metric(mean_absolute_error, x_values, y_values)\n",
        "  print(f'MAE:  {round(mean, 2):.2f} [{round(lower,2):.2f}, {round(upper,2):.2f}]')\n",
        "\n",
        "  # bootstrap RMSE\n",
        "  def calc_rmse(x_values, y_values):\n",
        "      from sklearn.metrics import mean_squared_error\n",
        "      return np.sqrt(mean_squared_error(x_values, y_values))\n",
        "  mean, lower, upper = bootstrap_metric(calc_rmse, x_values, y_values)\n",
        "  print(f'RMSE:  {round(mean, 2):.2f} [{round(lower,2):.2f}, {round(upper,2):.2f}]')\n",
        "  plt.show()\n",
        "\n"
      ]
    },
    {
      "cell_type": "code",
      "source": [
        "def calc_scipy(x,y):\n",
        "  pearson = scipy.stats.pearsonr(x_values,y_values)\n",
        "  spearman = scipy.stats.spearmanr(x_values,y_values)\n",
        "  print(f' Pearson correlation {round(pearson[0],2)}')\n",
        "  print(f' Spearmans {round(spearman[0],2)}')\n"
      ],
      "metadata": {
        "id": "U5uykNfX21my"
      },
      "execution_count": 39,
      "outputs": []
    },
    {
      "cell_type": "code",
      "execution_count": 45,
      "metadata": {
        "colab": {
          "base_uri": "https://localhost:8080/"
        },
        "id": "NmvckjqTAPvo",
        "outputId": "836f8231-eb29-4088-de2a-0aec081e8fdf"
      },
      "outputs": [
        {
          "output_type": "stream",
          "name": "stdout",
          "text": [
            "#### Results for TRANSFORMATO #####\n",
            "for all dG values\n",
            "MAE:  0.85 [0.69, 1.01]\n",
            "RMSE:  1.17 [0.97, 1.36]\n",
            " Pearson correlation 0.73\n",
            " Spearmans 0.7\n",
            "#################\n",
            "dG values for Galectin\n",
            "MAE:  0.69 [0.35, 1.04]\n",
            "RMSE:  0.90 [0.48, 1.25]\n",
            " Pearson correlation 0.59\n",
            " Spearmans 0.54\n",
            "#################\n",
            "dG values for CDK2\n",
            "MAE:  0.80 [0.45, 1.18]\n",
            "RMSE:  1.12 [0.72, 1.45]\n",
            " Pearson correlation 0.61\n",
            " Spearmans 0.59\n",
            "#################\n",
            "dG values for 2RA)\n",
            "MAE:  0.84 [0.58, 1.11]\n",
            "RMSE:  0.98 [0.72, 1.25]\n",
            " Pearson correlation 0.78\n",
            " Spearmans 0.65\n",
            "#################\n",
            "dG values for TYK2\n",
            "MAE:  1.37 [0.91, 1.85]\n",
            "RMSE:  1.74 [1.23, 2.12]\n",
            " Pearson correlation 0.42\n",
            " Spearmans 0.21\n",
            "#################\n",
            "dG values for JNK1\n",
            "MAE:  0.57 [0.38, 0.79]\n",
            "RMSE:  0.81 [0.54, 1.05]\n",
            " Pearson correlation 0.6\n",
            " Spearmans 0.63\n",
            "#### Results for PMX #####\n",
            "#################\n",
            "dG values for Galectin\n",
            "MAE:  0.43 [0.28, 0.56]\n",
            "RMSE:  0.50 [0.37, 0.62]\n",
            " Pearson correlation 0.9\n",
            " Spearmans 0.78\n",
            "#################\n",
            "dG values for CDK2\n",
            "MAE:  0.89 [0.55, 1.22]\n",
            "RMSE:  1.14 [0.82, 1.38]\n",
            " Pearson correlation 0.41\n",
            " Spearmans 0.63\n",
            "#################\n",
            "dG values for TYK2\n",
            "MAE:  1.61 [1.21, 1.98]\n",
            "RMSE:  1.87 [1.46, 2.24]\n",
            " Pearson correlation 0.53\n",
            " Spearmans 0.46\n",
            "#################\n",
            "dG values for JNK1\n",
            "MAE:  0.57 [0.37, 0.79]\n",
            "RMSE:  0.81 [0.52, 1.06]\n",
            " Pearson correlation 0.66\n",
            " Spearmans 0.77\n"
          ]
        }
      ],
      "source": [
        "### Here the calculated dG values are processed! ###\n",
        "############ FOR TRANSFORMATO RESULTS ##############\n",
        "\n",
        "print('#### Results for TRANSFORMATO #####')\n",
        "\n",
        "##### summary of all dG values of all systems ######\n",
        "\n",
        "x_values = np.asarray_chkfinite(df_dg[\"literature\"][0:67])\n",
        "y_values = np.asarray_chkfinite(df_dg['TF'][0:67])\n",
        "print(f'for all dG values')\n",
        "bootstrap_function(x_values, y_values)\n",
        "calc_scipy(x_values,y_values)\n",
        "\n",
        "######## Values for the indiviual systems #########\n",
        "## Galectin ###\n",
        "print('#################')\n",
        "x_values = np.asarray_chkfinite(df_dg[\"literature\"][21:29])\n",
        "y_values = np.asarray_chkfinite(df_dg['TF'][21:29])\n",
        "print(f'dG values for Galectin')\n",
        "bootstrap_function(x_values, y_values)\n",
        "calc_scipy(x_values,y_values)\n",
        "\n",
        "## CDK2 ###\n",
        "print('#################')\n",
        "x_values = np.asarray_chkfinite(df_dg[\"literature\"][39:52])\n",
        "y_values = np.asarray_chkfinite(df_dg['TF'][39:52])\n",
        "print(f'dG values for CDK2')\n",
        "bootstrap_function(x_values, y_values)\n",
        "calc_scipy(x_values,y_values)\n",
        "\n",
        "## 2RA0 ###\n",
        "print('#################')\n",
        "x_values = np.asarray_chkfinite(df_dg[\"literature\"][29:39])\n",
        "y_values = np.asarray_chkfinite(df_dg['TF'][29:39])\n",
        "print(f'dG values for 2RA)')\n",
        "bootstrap_function(x_values, y_values)\n",
        "calc_scipy(x_values,y_values)\n",
        "\n",
        "## TYK2 ###\n",
        "print('#################')\n",
        "x_values = np.asarray_chkfinite(df_dg[\"literature\"][52:67])\n",
        "y_values = np.asarray_chkfinite(df_dg['TF'][52:67])\n",
        "print(f'dG values for TYK2')\n",
        "bootstrap_function(x_values, y_values)\n",
        "calc_scipy(x_values,y_values)\n",
        "\n",
        "## JNK1 ###\n",
        "print('#################')\n",
        "x_values = np.asarray_chkfinite(df_dg[\"literature\"][0:21])\n",
        "y_values = np.asarray_chkfinite(df_dg['TF'][0:21])\n",
        "print(f'dG values for JNK1')\n",
        "bootstrap_function(x_values, y_values)\n",
        "calc_scipy(x_values,y_values)"
      ]
    },
    {
      "cell_type": "code",
      "source": [
        "############ FOR PMX RESULTS ##############\n",
        "\n",
        "print('#### Results for PMX #####')\n",
        "\n",
        "######## Values for the indiviual systems #########\n",
        "## Galectin ###\n",
        "print('#################')\n",
        "x_values = np.asarray_chkfinite(df_dg[\"literature\"][21:29])\n",
        "y_values = np.asarray_chkfinite(df_dg['pmx'][21:29])\n",
        "print(f'dG values for Galectin')\n",
        "bootstrap_function(x_values, y_values)\n",
        "calc_scipy(x_values,y_values)\n",
        "\n",
        "## CDK2 ###\n",
        "print('#################')\n",
        "x_values = np.asarray_chkfinite(df_dg[\"literature\"][39:52])\n",
        "y_values = np.asarray_chkfinite(df_dg['pmx'][39:52])\n",
        "print(f'dG values for CDK2')\n",
        "bootstrap_function(x_values, y_values)\n",
        "calc_scipy(x_values,y_values)\n",
        "\n",
        "## TYK2 ###\n",
        "print('#################')\n",
        "x_values = np.asarray_chkfinite(df_dg[\"literature\"][52:67])\n",
        "y_values = np.asarray_chkfinite(df_dg['pmx'][52:67])\n",
        "print(f'dG values for TYK2')\n",
        "bootstrap_function(x_values, y_values)\n",
        "calc_scipy(x_values,y_values)\n",
        "\n",
        "## JNK1 ###\n",
        "print('#################')\n",
        "x_values = np.asarray_chkfinite(df_dg[\"literature\"][0:21])\n",
        "y_values = np.asarray_chkfinite(df_dg['pmx'][0:21])\n",
        "print(f'dG values for JNK1')\n",
        "bootstrap_function(x_values, y_values)\n",
        "calc_scipy(x_values,y_values)"
      ],
      "metadata": {
        "id": "QCwaJ0Kn4UkV",
        "outputId": "31b180a7-3c42-49f8-b3fa-98f9b79d0957",
        "colab": {
          "base_uri": "https://localhost:8080/"
        }
      },
      "execution_count": 46,
      "outputs": [
        {
          "output_type": "stream",
          "name": "stdout",
          "text": [
            "#### Results for PMX #####\n",
            "#################\n",
            "dG values for Galectin\n",
            "MAE:  0.43 [0.27, 0.58]\n",
            "RMSE:  0.50 [0.36, 0.61]\n",
            " Pearson correlation 0.9\n",
            " Spearmans 0.78\n",
            "#################\n",
            "dG values for CDK2\n",
            "MAE:  0.89 [0.59, 1.22]\n",
            "RMSE:  1.14 [0.81, 1.41]\n",
            " Pearson correlation 0.41\n",
            " Spearmans 0.63\n",
            "#################\n",
            "dG values for TYK2\n",
            "MAE:  1.61 [1.22, 2.04]\n",
            "RMSE:  1.87 [1.46, 2.24]\n",
            " Pearson correlation 0.53\n",
            " Spearmans 0.46\n",
            "#################\n",
            "dG values for JNK1\n",
            "MAE:  0.57 [0.38, 0.78]\n",
            "RMSE:  0.81 [0.53, 1.05]\n",
            " Pearson correlation 0.66\n",
            " Spearmans 0.77\n"
          ]
        }
      ]
    },
    {
      "cell_type": "code",
      "source": [
        "############ FOR FEP+ RESULTS ##############\n",
        "\n",
        "print('#### Results for Schroedinger FEP+ #####')\n",
        "\n",
        "######## Values for the indiviual systems #########\n",
        "## CDK2 ###\n",
        "print('#################')\n",
        "x_values = np.asarray_chkfinite(df_dg[\"literature\"][39:52])\n",
        "y_values = np.asarray_chkfinite(df_dg['schroedinger'][39:52])\n",
        "print(f'dG values for CDK2')\n",
        "bootstrap_function(x_values, y_values)\n",
        "calc_scipy(x_values,y_values)\n",
        "\n",
        "## TYK2 ###\n",
        "print('#################')\n",
        "x_values = np.asarray_chkfinite(df_dg[\"literature\"][52:67])\n",
        "y_values = np.asarray_chkfinite(df_dg['schroedinger'][52:67])\n",
        "print(f'dG values for TYK2')\n",
        "bootstrap_function(x_values, y_values)\n",
        "calc_scipy(x_values,y_values)\n",
        "\n",
        "## JNK1 ###\n",
        "print('#################')\n",
        "x_values = np.asarray_chkfinite(df_dg[\"literature\"][0:21])\n",
        "y_values = np.asarray_chkfinite(df_dg['schroedinger'][0:21])\n",
        "print(f'dG values for JNK1')\n",
        "bootstrap_function(x_values, y_values)\n",
        "calc_scipy(x_values,y_values)"
      ],
      "metadata": {
        "id": "JXfmP2F_RAHH",
        "outputId": "6e0534b9-8375-4195-cb7c-7c77808c9176",
        "colab": {
          "base_uri": "https://localhost:8080/"
        }
      },
      "execution_count": 54,
      "outputs": [
        {
          "output_type": "stream",
          "name": "stdout",
          "text": [
            "#### Results for Schroedinger FEP+ #####\n",
            "#################\n",
            "dG values for CDK2\n",
            "MAE:  0.82 [0.61, 1.05]\n",
            "RMSE:  0.95 [0.76, 1.13]\n",
            " Pearson correlation 0.52\n",
            " Spearmans 0.58\n",
            "#################\n",
            "dG values for TYK2\n",
            "MAE:  0.46 [0.31, 0.62]\n",
            "RMSE:  0.58 [0.38, 0.76]\n",
            " Pearson correlation 0.88\n",
            " Spearmans 0.85\n",
            "#################\n",
            "dG values for JNK1\n",
            "MAE:  1.06 [0.90, 1.21]\n",
            "RMSE:  1.14 [0.99, 1.30]\n",
            " Pearson correlation 0.85\n",
            " Spearmans 0.9\n"
          ]
        }
      ]
    },
    {
      "cell_type": "code",
      "source": [
        "############ FOR AMBER TI RESULTS ##############\n",
        "\n",
        "print('#### Results for AMBER TI #####')\n",
        "\n",
        "######## Values for the indiviual systems #########\n",
        "\n",
        "\n",
        "## CDK2 ###\n",
        "print('#################')\n",
        "x_values = np.asarray_chkfinite(df_dg[\"literature\"][39:52])\n",
        "y_values = np.asarray_chkfinite(df_dg['AMBER TI'][39:52])\n",
        "print(f'dG values for CDK2')\n",
        "bootstrap_function(x_values, y_values)\n",
        "calc_scipy(x_values,y_values)\n",
        "\n",
        "## 2RA0 ###\n",
        "print('#################')\n",
        "x_values = np.asarray_chkfinite(df_dg[\"literature\"][29:39])\n",
        "y_values = np.asarray_chkfinite(df_dg['AMBER TI'][29:39])\n",
        "print(f'dG values for 2RA)')\n",
        "bootstrap_function(x_values, y_values)\n",
        "calc_scipy(x_values,y_values)\n",
        "\n"
      ],
      "metadata": {
        "id": "KUG6bo7U4sKV",
        "outputId": "c08b9970-5a5d-4ec0-efda-68c4f32d8a06",
        "colab": {
          "base_uri": "https://localhost:8080/"
        }
      },
      "execution_count": 53,
      "outputs": [
        {
          "output_type": "stream",
          "name": "stdout",
          "text": [
            "#### Results for AMBER TI #####\n",
            "#################\n",
            "dG values for CDK2\n",
            "MAE:  0.72 [0.53, 0.92]\n",
            "RMSE:  0.84 [0.63, 1.02]\n",
            " Pearson correlation 0.74\n",
            " Spearmans 0.79\n",
            "#################\n",
            "dG values for 2RA)\n",
            "MAE:  0.66 [0.34, 1.04]\n",
            "RMSE:  0.96 [0.42, 1.41]\n",
            " Pearson correlation 0.83\n",
            " Spearmans 0.81\n"
          ]
        }
      ]
    },
    {
      "cell_type": "code",
      "execution_count": 13,
      "metadata": {
        "colab": {
          "base_uri": "https://localhost:8080/"
        },
        "id": "x91zL2cLSu8r",
        "outputId": "36e83217-a997-4c5a-f66b-737911d70934"
      },
      "outputs": [
        {
          "output_type": "stream",
          "name": "stdout",
          "text": [
            "for all ddG values\n",
            "MAE:  0.87 [0.72, 1.02]\n",
            "RMSE:  1.18 [0.97, 1.37]\n",
            " Spearmans SpearmanrResult(correlation=0.4832560401447462, pvalue=1.1252322032098382e-05)\n",
            "ddG values for Galectin\n",
            "MAE:  0.49 [0.31, 0.68]\n",
            "RMSE:  0.58 [0.39, 0.73]\n",
            " Spearmans SpearmanrResult(correlation=0.5714285714285715, pvalue=0.1802019889115274)\n",
            "ddG values for CDK2\n",
            "MAE:  0.80 [0.47, 1.17]\n",
            "RMSE:  1.12 [0.68, 1.44]\n",
            " Spearmans SpearmanrResult(correlation=0.5934065934065934, pvalue=0.03252444027009699)\n",
            "ddG values for 2RA)\n",
            "MAE:  1.02 [0.70, 1.38]\n",
            "RMSE:  1.24 [0.75, 1.70]\n",
            " Spearmans SpearmanrResult(correlation=0.7090909090909092, pvalue=0.014552051953727704)\n",
            "ddG values for TYK2\n",
            "MAE:  1.37 [0.90, 1.83]\n",
            "RMSE:  1.74 [1.25, 2.11]\n",
            " Spearmans SpearmanrResult(correlation=0.21071428571428572, pvalue=0.450957865215285)\n",
            "ddG values for JNK1\n",
            "MAE:  0.68 [0.50, 0.86]\n",
            "RMSE:  0.91 [0.64, 1.17]\n",
            " Spearmans SpearmanrResult(correlation=0.32105459874215997, pvalue=0.08947537386606988)\n"
          ]
        }
      ],
      "source": [
        "## all values ###\n",
        "x_values = np.asarray_chkfinite(df[\"literature\"][0:75])\n",
        "y_values = np.asarray_chkfinite(df['TF'][0:75])\n",
        "\n",
        "print(f'for all ddG values')\n",
        "bootstrap_function(x_values, y_values)\n",
        "print(f' Spearmans {scipy.stats.spearmanr(x_values,y_values)}')\n",
        "## Galectin ###\n",
        "x_values = np.asarray_chkfinite(df[\"literature\"][0:7])\n",
        "y_values = np.asarray_chkfinite(df['TF'][0:7])\n",
        "\n",
        "print(f'ddG values for Galectin')\n",
        "bootstrap_function(x_values, y_values)\n",
        "print(f' Spearmans {scipy.stats.spearmanr(x_values,y_values)}')\n",
        "## CDK2 ###\n",
        "x_values = np.asarray_chkfinite(df[\"literature\"][7:20])\n",
        "y_values = np.asarray_chkfinite(df['TF'][7:20])\n",
        "\n",
        "print(f'ddG values for CDK2')\n",
        "bootstrap_function(x_values, y_values)\n",
        "print(f' Spearmans {scipy.stats.spearmanr(x_values,y_values)}')\n",
        "## 2RA0 ###\n",
        "x_values = np.asarray_chkfinite(df[\"literature\"][20:31])\n",
        "y_values = np.asarray_chkfinite(df['TF'][20:31])\n",
        "\n",
        "print(f'ddG values for 2RA)')\n",
        "bootstrap_function(x_values, y_values)\n",
        "print(f' Spearmans {scipy.stats.spearmanr(x_values,y_values)}')\n",
        "## TYK2 ###\n",
        "x_values = np.asarray_chkfinite(df[\"literature\"][31:46])\n",
        "y_values = np.asarray_chkfinite(df['TF'][31:46])\n",
        "\n",
        "print(f'ddG values for TYK2')\n",
        "bootstrap_function(x_values, y_values)\n",
        "print(f' Spearmans {scipy.stats.spearmanr(x_values,y_values)}')\n",
        "\n",
        "x_values = np.asarray_chkfinite(df[\"literature\"][31:46])\n",
        "y_values = np.asarray_chkfinite(df['pmx'][31:46])\n",
        "\n",
        "## JNK1 ###\n",
        "x_values = np.asarray_chkfinite(df[\"literature\"][46:75])\n",
        "y_values = np.asarray_chkfinite(df['TF'][46:75])\n",
        "\n",
        "print(f'ddG values for JNK1')\n",
        "bootstrap_function(x_values, y_values)\n",
        "print(f' Spearmans {scipy.stats.spearmanr(x_values,y_values)}')\n"
      ]
    }
  ],
  "metadata": {
    "colab": {
      "name": "Bootstrapping.ipynb",
      "provenance": [],
      "include_colab_link": true
    },
    "kernelspec": {
      "display_name": "Python 3",
      "name": "python3"
    },
    "language_info": {
      "codemirror_mode": {
        "name": "ipython",
        "version": 3
      },
      "file_extension": ".py",
      "mimetype": "text/x-python",
      "name": "python",
      "nbconvert_exporter": "python",
      "pygments_lexer": "ipython3",
      "version": "3.9.7"
    }
  },
  "nbformat": 4,
  "nbformat_minor": 0
}