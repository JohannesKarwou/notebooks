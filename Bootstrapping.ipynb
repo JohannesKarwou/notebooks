{
  "cells": [
    {
      "cell_type": "markdown",
      "metadata": {
        "id": "view-in-github",
        "colab_type": "text"
      },
      "source": [
        "<a href=\"https://colab.research.google.com/github/JohannesKarwou/notebooks/blob/main/Bootstrapping.ipynb\" target=\"_parent\"><img src=\"https://colab.research.google.com/assets/colab-badge.svg\" alt=\"Open In Colab\"/></a>"
      ]
    },
    {
      "cell_type": "code",
      "execution_count": 4,
      "metadata": {
        "id": "t11snvpY52J5"
      },
      "outputs": [],
      "source": [
        "import numpy as np\n",
        "import matplotlib.pyplot as plt\n",
        "import pandas as pd\n",
        "import scipy\n",
        "from sklearn.metrics import mean_absolute_error, mean_squared_error"
      ]
    },
    {
      "cell_type": "code",
      "execution_count": 22,
      "metadata": {
        "id": "_YO4AHcxadWP"
      },
      "outputs": [],
      "source": [
        "df = pd.read_csv(\"https://raw.githubusercontent.com/JohannesKarwou/notebooks/main/data/summary_ddG.csv\")\n",
        "df_dg = pd.read_csv(\"https://raw.githubusercontent.com/JohannesKarwou/notebooks/main/data/summary_dG.csv\")"
      ]
    },
    {
      "cell_type": "code",
      "execution_count": 23,
      "metadata": {
        "id": "lbwQ4hg46xUE"
      },
      "outputs": [],
      "source": [
        "def bootstrap_function(x_values, y_values):\n",
        "  # bootstrap metric\n",
        "  def bootstrap_metric(fct, x_values, y_values):\n",
        "      assert callable(fct) == True\n",
        "      bootstrapped_metric = []\n",
        "      # bootstrap metric to generate test distribution\n",
        "      for _ in range(1000):\n",
        "          indices = np.random.choice(range(0, len(x_values)), size=len(x_values), replace=True)\n",
        "          x_selection = np.take(x_values, indices)\n",
        "          y_selection = np.take(y_values, indices)\n",
        "          r = fct(x_selection, y_selection)\n",
        "          bootstrapped_metric.append(r)    \n",
        "\n",
        "      # define 90% CI\n",
        "      alpha = 10.0\n",
        "      lower_p = alpha / 2.0\n",
        "      # get value at or near percentile (take a look at the definition of percentile if \n",
        "      # you have less than 100 values to make sure you understand what is happening)\n",
        "      lower = np.percentile(bootstrapped_metric, lower_p)\n",
        "      upper_p = (100 - alpha) + (alpha / 2.0)\n",
        "      upper = np.percentile(bootstrapped_metric, upper_p)\n",
        "      # calculate true mean\n",
        "      mean = fct(x_values, y_values)\n",
        "\n",
        "      return mean, lower, upper\n",
        "\n",
        "  # bootstrap MAE\n",
        "  mean, lower, upper = bootstrap_metric(mean_absolute_error, x_values, y_values)\n",
        "  print(f'MAE:  {round(mean, 2):.2f} [{round(lower,2):.2f}, {round(upper,2):.2f}]')\n",
        "\n",
        "  # bootstrap RMSE\n",
        "  def calc_rmse(x_values, y_values):\n",
        "      from sklearn.metrics import mean_squared_error\n",
        "      return np.sqrt(mean_squared_error(x_values, y_values))\n",
        "  mean, lower, upper = bootstrap_metric(calc_rmse, x_values, y_values)\n",
        "  print(f'RMSE:  {round(mean, 2):.2f} [{round(lower,2):.2f}, {round(upper,2):.2f}]')\n",
        "  plt.show()\n",
        "\n"
      ]
    },
    {
      "cell_type": "code",
      "execution_count": 24,
      "metadata": {
        "colab": {
          "base_uri": "https://localhost:8080/"
        },
        "id": "x91zL2cLSu8r",
        "outputId": "5786dee7-291b-4bb2-bc6c-d3dedaf571b3"
      },
      "outputs": [
        {
          "output_type": "stream",
          "name": "stdout",
          "text": [
            "for all ddG values\n",
            "MAE:  0.87 [0.72, 1.02]\n",
            "RMSE:  1.18 [0.98, 1.37]\n",
            " Spearmans SpearmanrResult(correlation=0.4832560401447462, pvalue=1.1252322032098382e-05)\n",
            "ddG values for Galectin\n",
            "MAE:  0.49 [0.32, 0.67]\n",
            "RMSE:  0.58 [0.37, 0.74]\n",
            " Spearmans SpearmanrResult(correlation=0.5714285714285715, pvalue=0.1802019889115274)\n",
            "ddG values for CDK2\n",
            "MAE:  0.80 [0.44, 1.15]\n",
            "RMSE:  1.12 [0.68, 1.47]\n",
            " Spearmans SpearmanrResult(correlation=0.5934065934065934, pvalue=0.03252444027009699)\n",
            "ddG values for 2RA)\n",
            "MAE:  1.02 [0.71, 1.37]\n",
            "RMSE:  1.24 [0.75, 1.70]\n",
            " Spearmans SpearmanrResult(correlation=0.7090909090909092, pvalue=0.014552051953727704)\n",
            "ddG values for TYK2\n",
            "MAE:  1.37 [0.94, 1.82]\n",
            "RMSE:  1.74 [1.25, 2.15]\n",
            " Spearmans SpearmanrResult(correlation=0.21071428571428572, pvalue=0.450957865215285)\n",
            "ddG values for JNK1\n",
            "MAE:  0.68 [0.51, 0.87]\n",
            "RMSE:  0.91 [0.64, 1.15]\n",
            " Spearmans SpearmanrResult(correlation=0.32105459874215997, pvalue=0.08947537386606988)\n"
          ]
        }
      ],
      "source": [
        "## all values ###\n",
        "x_values = np.asarray_chkfinite(df[\"literature\"][0:75])\n",
        "y_values = np.asarray_chkfinite(df['TF'][0:75])\n",
        "\n",
        "print(f'for all ddG values')\n",
        "bootstrap_function(x_values, y_values)\n",
        "print(f' Spearmans {scipy.stats.spearmanr(x_values,y_values)}')\n",
        "## Galectin ###\n",
        "x_values = np.asarray_chkfinite(df[\"literature\"][0:7])\n",
        "y_values = np.asarray_chkfinite(df['TF'][0:7])\n",
        "\n",
        "print(f'ddG values for Galectin')\n",
        "bootstrap_function(x_values, y_values)\n",
        "print(f' Spearmans {scipy.stats.spearmanr(x_values,y_values)}')\n",
        "## CDK2 ###\n",
        "x_values = np.asarray_chkfinite(df[\"literature\"][7:20])\n",
        "y_values = np.asarray_chkfinite(df['TF'][7:20])\n",
        "\n",
        "print(f'ddG values for CDK2')\n",
        "bootstrap_function(x_values, y_values)\n",
        "print(f' Spearmans {scipy.stats.spearmanr(x_values,y_values)}')\n",
        "## 2RA0 ###\n",
        "x_values = np.asarray_chkfinite(df[\"literature\"][20:31])\n",
        "y_values = np.asarray_chkfinite(df['TF'][20:31])\n",
        "\n",
        "print(f'ddG values for 2RA)')\n",
        "bootstrap_function(x_values, y_values)\n",
        "print(f' Spearmans {scipy.stats.spearmanr(x_values,y_values)}')\n",
        "## TYK2 ###\n",
        "x_values = np.asarray_chkfinite(df[\"literature\"][31:46])\n",
        "y_values = np.asarray_chkfinite(df['TF'][31:46])\n",
        "\n",
        "print(f'ddG values for TYK2')\n",
        "bootstrap_function(x_values, y_values)\n",
        "print(f' Spearmans {scipy.stats.spearmanr(x_values,y_values)}')\n",
        "\n",
        "x_values = np.asarray_chkfinite(df[\"literature\"][31:46])\n",
        "y_values = np.asarray_chkfinite(df['pmx'][31:46])\n",
        "\n",
        "## JNK1 ###\n",
        "x_values = np.asarray_chkfinite(df[\"literature\"][46:75])\n",
        "y_values = np.asarray_chkfinite(df['TF'][46:75])\n",
        "\n",
        "print(f'ddG values for JNK1')\n",
        "bootstrap_function(x_values, y_values)\n",
        "print(f' Spearmans {scipy.stats.spearmanr(x_values,y_values)}')\n"
      ]
    },
    {
      "cell_type": "code",
      "execution_count": 30,
      "metadata": {
        "colab": {
          "base_uri": "https://localhost:8080/"
        },
        "id": "NmvckjqTAPvo",
        "outputId": "5c9f3526-c46c-49f7-f122-5a31126648f7"
      },
      "outputs": [
        {
          "output_type": "stream",
          "name": "stdout",
          "text": [
            "for all ddG values\n",
            "MAE:  0.82 [0.68, 0.98]\n",
            "RMSE:  1.12 [0.92, 1.30]\n",
            " Spearmans SpearmanrResult(correlation=0.7223039938346053, pvalue=7.626648363919074e-12)\n",
            "ddG values for Galectin\n",
            "MAE:  0.49 [0.31, 0.68]\n",
            "RMSE:  0.58 [0.37, 0.74]\n",
            " Spearmans SpearmanrResult(correlation=0.5714285714285715, pvalue=0.1802019889115274)\n",
            "ddG values for CDK2\n",
            "MAE:  0.80 [0.46, 1.16]\n",
            "RMSE:  1.12 [0.75, 1.46]\n",
            " Spearmans SpearmanrResult(correlation=0.5934065934065934, pvalue=0.03252444027009699)\n",
            "ddG values for 2RA)\n",
            "MAE:  1.02 [0.68, 1.37]\n",
            "RMSE:  1.24 [0.76, 1.71]\n",
            " Spearmans SpearmanrResult(correlation=0.7090909090909092, pvalue=0.014552051953727704)\n",
            "ddG values for TYK2\n",
            "MAE:  1.37 [0.94, 1.86]\n",
            "RMSE:  1.74 [1.28, 2.15]\n",
            " Spearmans SpearmanrResult(correlation=0.21071428571428572, pvalue=0.450957865215285)\n",
            "ddG values for JNK1\n",
            "MAE:  0.68 [0.50, 0.87]\n",
            "RMSE:  0.91 [0.63, 1.17]\n",
            " Spearmans SpearmanrResult(correlation=0.32105459874215997, pvalue=0.08947537386606988)\n"
          ]
        }
      ],
      "source": [
        "## all values ###\n",
        "x_values = np.asarray_chkfinite(df_dg[\"literature\"][0:66])\n",
        "y_values = np.asarray_chkfinite(df_dg['TF'][0:66])\n",
        "\n",
        "print(f'for all ddG values')\n",
        "bootstrap_function(x_values, y_values)\n",
        "print(f' Spearmans {scipy.stats.spearmanr(x_values,y_values)}')\n",
        "## Galectin ###\n",
        "x_values = np.asarray_chkfinite(df[\"literature\"][0:7])\n",
        "y_values = np.asarray_chkfinite(df['TF'][0:7])\n",
        "\n",
        "print(f'ddG values for Galectin')\n",
        "bootstrap_function(x_values, y_values)\n",
        "print(f' Spearmans {scipy.stats.spearmanr(x_values,y_values)}')\n",
        "## CDK2 ###\n",
        "x_values = np.asarray_chkfinite(df[\"literature\"][7:20])\n",
        "y_values = np.asarray_chkfinite(df['TF'][7:20])\n",
        "\n",
        "print(f'ddG values for CDK2')\n",
        "bootstrap_function(x_values, y_values)\n",
        "print(f' Spearmans {scipy.stats.spearmanr(x_values,y_values)}')\n",
        "## 2RA0 ###\n",
        "x_values = np.asarray_chkfinite(df[\"literature\"][20:31])\n",
        "y_values = np.asarray_chkfinite(df['TF'][20:31])\n",
        "\n",
        "print(f'ddG values for 2RA)')\n",
        "bootstrap_function(x_values, y_values)\n",
        "print(f' Spearmans {scipy.stats.spearmanr(x_values,y_values)}')\n",
        "## TYK2 ###\n",
        "x_values = np.asarray_chkfinite(df[\"literature\"][31:46])\n",
        "y_values = np.asarray_chkfinite(df['TF'][31:46])\n",
        "\n",
        "print(f'ddG values for TYK2')\n",
        "bootstrap_function(x_values, y_values)\n",
        "print(f' Spearmans {scipy.stats.spearmanr(x_values,y_values)}')\n",
        "\n",
        "x_values = np.asarray_chkfinite(df[\"literature\"][31:46])\n",
        "y_values = np.asarray_chkfinite(df['pmx'][31:46])\n",
        "\n",
        "## JNK1 ###\n",
        "x_values = np.asarray_chkfinite(df[\"literature\"][46:75])\n",
        "y_values = np.asarray_chkfinite(df['TF'][46:75])\n",
        "\n",
        "print(f'ddG values for JNK1')\n",
        "bootstrap_function(x_values, y_values)\n",
        "print(f' Spearmans {scipy.stats.spearmanr(x_values,y_values)}')\n"
      ]
    },
    {
      "cell_type": "code",
      "source": [
        ""
      ],
      "metadata": {
        "id": "JXfmP2F_RAHH"
      },
      "execution_count": null,
      "outputs": []
    },
    {
      "cell_type": "code",
      "source": [
        "df_dg[\"literature\"][0:66]"
      ],
      "metadata": {
        "id": "3hfCGQEXRAIS",
        "outputId": "a714e220-409c-4d53-958a-af91e02712fa",
        "colab": {
          "base_uri": "https://localhost:8080/"
        }
      },
      "execution_count": 29,
      "outputs": [
        {
          "output_type": "execute_result",
          "data": {
            "text/plain": [
              "0     -8.70\n",
              "1     -8.49\n",
              "2     -9.74\n",
              "3     -8.70\n",
              "4     -9.14\n",
              "      ...  \n",
              "61    -8.98\n",
              "62   -10.53\n",
              "63    -9.21\n",
              "64   -11.70\n",
              "65   -10.98\n",
              "Name: literature, Length: 66, dtype: float64"
            ]
          },
          "metadata": {},
          "execution_count": 29
        }
      ]
    },
    {
      "cell_type": "code",
      "source": [
        ""
      ],
      "metadata": {
        "id": "9QVZOzieROaX"
      },
      "execution_count": null,
      "outputs": []
    }
  ],
  "metadata": {
    "colab": {
      "name": "Bootstrapping.ipynb",
      "provenance": [],
      "include_colab_link": true
    },
    "kernelspec": {
      "display_name": "Python 3",
      "name": "python3"
    },
    "language_info": {
      "codemirror_mode": {
        "name": "ipython",
        "version": 3
      },
      "file_extension": ".py",
      "mimetype": "text/x-python",
      "name": "python",
      "nbconvert_exporter": "python",
      "pygments_lexer": "ipython3",
      "version": "3.9.7"
    }
  },
  "nbformat": 4,
  "nbformat_minor": 0
}