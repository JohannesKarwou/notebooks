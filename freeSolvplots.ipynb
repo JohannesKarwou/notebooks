{
  "cells": [
    {
      "cell_type": "markdown",
      "metadata": {
        "colab_type": "text",
        "id": "view-in-github"
      },
      "source": [
        "<a href=\"https://colab.research.google.com/github/JohannesKarwou/notebooks/blob/main/rbfe_plots_paper.ipynb\" target=\"_parent\"><img src=\"https://colab.research.google.com/assets/colab-badge.svg\" alt=\"Open In Colab\"/></a>"
      ]
    },
    {
      "cell_type": "code",
      "execution_count": 1,
      "metadata": {},
      "outputs": [],
      "source": [
        "import pandas as pd\n",
        "import matplotlib.pyplot as plt\n",
        "import matplotlib.lines as mlines\n",
        "import numpy as np\n",
        "import seaborn as sns\n",
        "from sklearn.metrics import mean_squared_error, mean_absolute_error\n",
        "sns.set_theme(style='white', rc={'figure.figsize': (12,12),'axes.unicode_minus': False,'axes.labelsize': 30.0, 'font.size': 65, 'legend.fontsize': 25, 'lines.markersize': 20,'xtick.labelsize': 30,'ytick.labelsize': 30})"
      ]
    },
    {
      "cell_type": "code",
      "execution_count": 2,
      "metadata": {},
      "outputs": [],
      "source": [
        "#plt.rcParams.keys()\n",
        "def highlight_2kcal_area(i):\n",
        "    # shaded grey area   \n",
        "    x = np.linspace(-30,20,5)\n",
        "    y = x\n",
        "    axs[i].plot(x, y, alpha = 0.9, color = 'C7',linestyle='dashed')\n",
        "    y2 = x +1\n",
        "    axs[i].plot(x, y2, alpha = 0.3, color = 'C7',linestyle='dashed')\n",
        "    y3 = x -1 \n",
        "    axs[i].plot(x, y3, alpha = 0.3, color = 'C7',linestyle='dashed')\n",
        "    axs[i].fill_between(x,y2,y3, alpha = 0.3, color = 'Grey')\n",
        "\n",
        "    x = np.linspace(-30,20,5)\n",
        "    y = x\n",
        "    axs[i].plot(x, y, alpha = 0.9, color = 'C7',linestyle='dashed')\n",
        "    y2 = x +2\n",
        "    axs[i].plot(x, y2, alpha = 0.3, color = 'C7',linestyle='dashed')\n",
        "    y3 = x -2 \n",
        "    axs[i].plot(x, y3, alpha = 0.3, color = 'C7',linestyle='dashed')\n",
        "    axs[i].fill_between(x,y2,y3, alpha = 0.3, color = 'Grey')"
      ]
    },
    {
      "cell_type": "code",
      "execution_count": 3,
      "metadata": {},
      "outputs": [],
      "source": [
        "def bootstrap_function(x_values, y_values):\n",
        "  # bootstrap metric\n",
        "  def bootstrap_metric(fct, x_values, y_values):\n",
        "      assert callable(fct) == True\n",
        "      bootstrapped_metric = []\n",
        "      # bootstrap metric to generate test distribution\n",
        "      for _ in range(1000):\n",
        "          indices = np.random.choice(range(0, len(x_values)), size=len(x_values), replace=True)\n",
        "          x_selection = np.take(x_values, indices)\n",
        "          y_selection = np.take(y_values, indices)\n",
        "          r = fct(x_selection, y_selection)\n",
        "          bootstrapped_metric.append(r)    \n",
        "\n",
        "      # define 90% CI\n",
        "      alpha = 10.0\n",
        "      lower_p = alpha / 2.0\n",
        "      # get value at or near percentile (take a look at the definition of percentile if \n",
        "      # you have less than 100 values to make sure you understand what is happening)\n",
        "      lower = np.percentile(bootstrapped_metric, lower_p)\n",
        "      upper_p = (100 - alpha) + (alpha / 2.0)\n",
        "      upper = np.percentile(bootstrapped_metric, upper_p)\n",
        "      # calculate true mean\n",
        "      mean = fct(x_values, y_values)\n",
        "\n",
        "      return mean, lower, upper\n",
        "\n",
        "  # bootstrap MAE\n",
        "  mean, lower, upper = bootstrap_metric(mean_absolute_error, x_values, y_values)\n",
        "  print(f'MAE:  {round(mean, 2):.2f} [{round(lower,2):.2f}, {round(upper,2):.2f}]')\n",
        "\n",
        "  # bootstrap RMSE\n",
        "  def calc_rmse(x_values, y_values):\n",
        "      return np.sqrt(mean_squared_error(x_values, y_values))\n",
        "  mean, lower, upper = bootstrap_metric(calc_rmse, x_values, y_values)\n",
        "  print(f'RMSE:  {round(mean, 2):.2f} [{round(lower,2):.2f}, {round(upper,2):.2f}]')"
      ]
    },
    {
      "cell_type": "code",
      "execution_count": 4,
      "metadata": {},
      "outputs": [],
      "source": [
        "data = pd.read_csv(\"https://raw.githubusercontent.com/JohannesKarwou/notebooks/main/data/finalOverview.csv\")"
      ]
    },
    {
      "cell_type": "code",
      "execution_count": null,
      "metadata": {},
      "outputs": [],
      "source": []
    }
  ],
  "metadata": {
    "colab": {
      "include_colab_link": true,
      "name": "rbfe-plots-paper.ipynb",
      "provenance": []
    },
    "kernelspec": {
      "display_name": "Python 3.9.7 ('fep')",
      "language": "python",
      "name": "python3"
    },
    "language_info": {
      "codemirror_mode": {
        "name": "ipython",
        "version": 3
      },
      "file_extension": ".py",
      "mimetype": "text/x-python",
      "name": "python",
      "nbconvert_exporter": "python",
      "pygments_lexer": "ipython3",
      "version": "3.9.13"
    },
    "vscode": {
      "interpreter": {
        "hash": "4e0950f20e66d834d4309aadaa274443118d5695a480ea8b119e1ea5af9489b5"
      }
    }
  },
  "nbformat": 4,
  "nbformat_minor": 0
}
